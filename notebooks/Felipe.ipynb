{
 "cells": [
  {
   "cell_type": "code",
   "execution_count": 2,
   "metadata": {},
   "outputs": [],
   "source": [
    "import pandas as pd\n",
    "import numpy as np"
   ]
  },
  {
   "cell_type": "markdown",
   "metadata": {},
   "source": [
    "# Loading Raw Data"
   ]
  },
  {
   "cell_type": "code",
   "execution_count": 158,
   "metadata": {},
   "outputs": [],
   "source": [
    "# os.path.join(“..“, “raw_data”, “companies.csv”)\n",
    "comps = pd.read_csv('..\\\\raw_data\\\\companies.csv')\n",
    "acquisitions = pd.read_csv('..\\\\raw_data\\\\acquisitions.csv')\n",
    "degrees = pd.read_csv('..\\\\raw_data\\\\degrees.csv')\n",
    "founders = pd.read_csv('..\\\\raw_data\\\\founders.csv')\n",
    "rounds = pd.read_csv('..\\\\raw_data\\\\funding-rounds.csv')\n",
    "funds = pd.read_csv('..\\\\raw_data\\\\funds.csv')\n",
    "investments = pd.read_csv('..\\\\raw_data\\\\investments.csv')\n",
    "ipos = pd.read_csv('..\\\\raw_data\\\\ipos.csv')\n",
    "milestones = pd.read_csv('..\\\\raw_data\\\\milestones.csv')\n",
    "people = pd.read_csv('..\\\\raw_data\\\\people.csv')\n",
    "relationships =pd.read_csv('..\\\\raw_data\\\\relationships.csv')"
   ]
  },
  {
   "cell_type": "markdown",
   "metadata": {},
   "source": [
    "# Feature Engineering"
   ]
  },
  {
   "cell_type": "markdown",
   "metadata": {},
   "source": [
    "#### Change to use in all the functions"
   ]
  },
  {
   "cell_type": "code",
   "execution_count": 3,
   "metadata": {},
   "outputs": [],
   "source": [
    "comps = comps.rename(columns={'id': 'object_id'})"
   ]
  },
  {
   "cell_type": "markdown",
   "metadata": {},
   "source": [
    "## 2  1 - Time between founding date and specific investment (Diff_time_founded_invest)"
   ]
  },
  {
   "cell_type": "markdown",
   "metadata": {},
   "source": [
    "changes are made !!!!"
   ]
  },
  {
   "cell_type": "code",
   "execution_count": 10,
   "metadata": {},
   "outputs": [],
   "source": [
    "def diff_foundation_fundround(comps_df, rounds_df):\n",
    "    \n",
    "    '''Returns a merge table between companies and funding rounds. One column added: difference between the date of the companies fundations\n",
    "    and each round of investment , in MONTHS. It includes companies_id repeated for each round that is realated with the company '''\n",
    "    \n",
    "    comps = comps_df\n",
    "    rounds = rounds_df\n",
    "    \n",
    "    comps = comps.rename(columns={'id': 'object_id'})\n",
    "    comps_rounds = comps.merge(rounds, how = 'left', on = 'object_id')\n",
    "    comps_rounds.founded_at = pd.to_datetime(comps_rounds.founded_at)\n",
    "    comps_rounds.funded_at = pd.to_datetime(comps_rounds.funded_at)\n",
    "    comps_rounds['Diff_time_founded_invest'] = abs(comps_rounds.funded_at - comps_rounds.founded_at)/np.timedelta64(12, 'M')\n",
    "    \n",
    "    return comps_rounds"
   ]
  },
  {
   "cell_type": "markdown",
   "metadata": {},
   "source": [
    "## 3  3 - Time between Series A and specific investment"
   ]
  },
  {
   "cell_type": "markdown",
   "metadata": {},
   "source": [
    "#changes are made !!!!!!!!!"
   ]
  },
  {
   "cell_type": "code",
   "execution_count": 11,
   "metadata": {},
   "outputs": [],
   "source": [
    "def time_serie_investments(rounds_data, reference):\n",
    "\n",
    "    ''' company id partitioned. Take a serie X as reference: values = round number wished. And create a new column \n",
    "    'data_serie_reference' which contains the min date of this serie for each company.\n",
    "    And also create a new column 'time_serie_investment' with the difference between each round and the date of reference serie, in MONTHS'''\n",
    "    \n",
    "    rounds.funded_at = pd.to_datetime(rounds.funded_at)\n",
    "    \n",
    "    min_dates = {}\n",
    "    for id_company in rounds[rounds.number_of_round == reference].object_id.unique():\n",
    "        #list_dates_by_comp: list of each company which has round number wished\n",
    "        list_dates_by_comp = rounds[rounds.number_of_round == reference].funded_at[rounds.object_id == id_company]\n",
    "        min_dates[id_company] = min(list_dates_by_comp)\n",
    "\n",
    "    rounds['date_serie_reference'] = rounds.object_id.map(min_dates)\n",
    "    rounds['time_serie_investment'] =  (rounds.funded_at - rounds.date_serie_reference)/np.timedelta64(12, 'M')\n",
    "    \n",
    "    return rounds"
   ]
  },
  {
   "cell_type": "markdown",
   "metadata": {},
   "source": [
    "## Get_round: Get the rounds filtered by one position (of round)"
   ]
  },
  {
   "cell_type": "code",
   "execution_count": 53,
   "metadata": {},
   "outputs": [],
   "source": [
    "def get_round(rounds, n_reference):\n",
    "    ''' filter the rounds according the position, ej: 1 round for each company, 2 round for each company\n",
    "    '''\n",
    "    \n",
    "    rounds ['number_of_round'] = rounds.groupby('object_id').cumcount() + 1\n",
    "    return rounds [rounds.number_of_round == n_reference]"
   ]
  },
  {
   "cell_type": "markdown",
   "metadata": {},
   "source": [
    "## [Dependent on 1] 2 - Time to series A round "
   ]
  },
  {
   "cell_type": "code",
   "execution_count": 12,
   "metadata": {},
   "outputs": [],
   "source": [
    "def diff_fund_found_filter(comps, rounds, serie_filtered):\n",
    "    ''' filter the table from diff_foundation_foundround (merge comps and rounds), by a particular serie (values = a, b ,c ,angel, venture?)'''\n",
    "    get_table = diff_foundation_fundround(comps, rounds)\n",
    "    \n",
    "    return get_table[get_table.funding_round_code == serie_filtered]"
   ]
  },
  {
   "cell_type": "markdown",
   "metadata": {},
   "source": [
    "## [Dependent on 3] 4 - Number of rounds before Series A"
   ]
  },
  {
   "cell_type": "code",
   "execution_count": 13,
   "metadata": {},
   "outputs": [],
   "source": [
    "def num_rounds_before(comps, rounds, serie_reference):\n",
    "    ''' return the companies table with a new column num_round_before which is the number of rounds before the serie you want. time_serie_investments applied inside.'''\n",
    "\n",
    "    comps = comps.rename(columns={'id': 'object_id'})\n",
    "    get_table = time_serie_investments(rounds, serie_reference)\n",
    "    get_table = get_table[get_table.time_serie_investment<0]\n",
    "    get_table = get_table.groupby('object_id').count()\n",
    "    get_table = get_table['id'].reset_index(name=\"num_round_before\")\n",
    "    merge = comps.merge(get_table, how ='left', on = 'object_id')\n",
    "    return merge"
   ]
  },
  {
   "cell_type": "markdown",
   "metadata": {},
   "source": [
    "## 7 - Time between Series A and IPO"
   ]
  },
  {
   "cell_type": "code",
   "execution_count": 164,
   "metadata": {},
   "outputs": [],
   "source": [
    "#to be merged to companies table\n",
    "def ipos_by_round(rounds, ipos, comps, n_reference):\n",
    "    ''' get your IPOss matched with a number of round merged on companies'''\n",
    "    \n",
    "    ipos = ipos.drop_duplicates(subset = 'object_id')\n",
    "    comps = comps.rename(columns={'id': 'object_id'})\n",
    "    \n",
    "    get_rounds = get_round(rounds, n_reference)\n",
    "    merge_1 = ipos.merge(get_rounds, how = 'left', on = 'object_id')\n",
    "    \n",
    "    merge_2 = merge_1.merge(comps, how = 'left', on = 'object_id')\n",
    "    \n",
    "    comps = comps.rename(columns={'object_id': 'id'})\n",
    "    \n",
    "    return merge_2"
   ]
  },
  {
   "cell_type": "markdown",
   "metadata": {},
   "source": [
    "## Acquisitions_by_round:  acquisition table with a number of orund merged on companies"
   ]
  },
  {
   "cell_type": "code",
   "execution_count": 165,
   "metadata": {},
   "outputs": [],
   "source": [
    "def acquisitions_by_round(rounds, acquisitions, comps, n_reference):\n",
    "    \n",
    "        '''get your matched acquisition table with a number of orund merged on companies'''\n",
    "        \n",
    "        comps = comps.rename(columns={'id': 'object_id'})        \n",
    "        acquisitions = acquisitions.rename(columns={'acquired_object_id': 'object_id'})\n",
    "    \n",
    "    \n",
    "        get_rounds = get_round(rounds, n_reference)\n",
    "        merge = acquisitions.merge(get_rounds, how = 'left', on = 'object_id')\n",
    "        \n",
    "        merge_2 = merge.merge(comps, how = 'left', on = 'object_id')\n",
    "        \n",
    "        \n",
    "        return merge.drop(columns= ['created_by', 'created_at', 'updated_at', 'source_url_x', 'source_url_y' ])"
   ]
  },
  {
   "cell_type": "code",
   "execution_count": null,
   "metadata": {},
   "outputs": [],
   "source": []
  },
  {
   "cell_type": "code",
   "execution_count": null,
   "metadata": {},
   "outputs": [],
   "source": []
  },
  {
   "cell_type": "code",
   "execution_count": null,
   "metadata": {},
   "outputs": [],
   "source": []
  }
 ],
 "metadata": {
  "kernelspec": {
   "display_name": "Python 3",
   "language": "python",
   "name": "python3"
  },
  "language_info": {
   "codemirror_mode": {
    "name": "ipython",
    "version": 3
   },
   "file_extension": ".py",
   "mimetype": "text/x-python",
   "name": "python",
   "nbconvert_exporter": "python",
   "pygments_lexer": "ipython3",
   "version": "3.7.7"
  }
 },
 "nbformat": 4,
 "nbformat_minor": 4
}
