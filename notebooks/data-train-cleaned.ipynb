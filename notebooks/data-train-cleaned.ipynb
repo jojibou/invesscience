{
 "cells": [
  {
   "cell_type": "code",
   "execution_count": 1,
   "metadata": {},
   "outputs": [],
   "source": [
    "import pandas as pd\n",
    "import numpy as np\n",
    "import os\n",
    "import pandas_profiling"
   ]
  },
  {
   "cell_type": "code",
   "execution_count": 2,
   "metadata": {},
   "outputs": [],
   "source": [
    "%load_ext autoreload\n",
    "%autoreload 2"
   ]
  },
  {
   "cell_type": "code",
   "execution_count": 3,
   "metadata": {},
   "outputs": [],
   "source": [
    "from invesscience.joanna_merge_2 import get_training_data "
   ]
  },
  {
   "cell_type": "code",
   "execution_count": 10,
   "metadata": {},
   "outputs": [],
   "source": [
    "from invesscience.joanna_clean_data import clean_training_data"
   ]
  },
  {
   "cell_type": "markdown",
   "metadata": {},
   "source": [
    "# can specify the cut"
   ]
  },
  {
   "cell_type": "code",
   "execution_count": 54,
   "metadata": {},
   "outputs": [
    {
     "name": "stdout",
     "output_type": "stream",
     "text": [
      "        id  mean_comp_worked_before\n",
      "0      c:1                     0.50\n",
      "1   c:1001                     0.75\n",
      "2  c:10015                     0.00\n",
      "3   c:1003                     0.50\n",
      "4  c:10054                     0.00\n",
      "        id    normalized_name    category_code founded_at  \\\n",
      "0   c:1349      move networks         software        NaT   \n",
      "1   c:4584        modern feed      games_video 2007-01-01   \n",
      "2  c:40866         3d systems         software 1986-01-01   \n",
      "3  c:16612  micron technology    semiconductor 1978-01-01   \n",
      "4     c:28              cisco  network_hosting 1984-01-01   \n",
      "\n",
      "                                         description closed_at    status  \\\n",
      "0  software Move Networks is a streaming tech pla...       NaN  acquired   \n",
      "1  games_video     [Modern Feed](http://www.moder...       NaN  acquired   \n",
      "2  software   Advanced solid imaging solutions 3D...       NaN       ipo   \n",
      "3  semiconductor   Semiconductor Applications Mic...       NaN       ipo   \n",
      "4  network_hosting     Cisco designs and sells ha...       NaN       ipo   \n",
      "\n",
      "          exit            exit_date country_code  ... top_20 top_50  \\\n",
      "0  acquisition  1987-06-16 00:00:00          USA  ...    NaN    NaN   \n",
      "1  acquisition  1987-06-16 00:00:00          USA  ...    0.0    1.0   \n",
      "2          ipo  1988-03-10 00:00:00          USA  ...    NaN    NaN   \n",
      "3          ipo  1990-01-02 00:00:00          USA  ...    NaN    NaN   \n",
      "4          ipo  1990-02-23 00:00:00          USA  ...    0.0    0.0   \n",
      "\n",
      "   top_5_bool  top_20_bool  top_50_bool  n_female_founders  female_ratio  \\\n",
      "0         NaN          NaN          NaN                NaN           NaN   \n",
      "1         0.0          0.0          1.0                0.0           0.0   \n",
      "2         NaN          NaN          NaN                NaN           NaN   \n",
      "3         NaN          NaN          NaN                NaN           NaN   \n",
      "4         0.0          0.0          0.0                0.0           0.0   \n",
      "\n",
      "   mean_comp_founded_ever  mean_comp_founded_before  mean_comp_worked_before  \n",
      "0                     NaN                       NaN                      NaN  \n",
      "1                     1.0                       0.0                      0.0  \n",
      "2                     NaN                       NaN                      NaN  \n",
      "3                     NaN                       NaN                      NaN  \n",
      "4                     1.0                       0.0                      0.0  \n",
      "\n",
      "[5 rows x 40 columns]\n"
     ]
    }
   ],
   "source": [
    "companies = get_training_data(reference=\"a\", cut=\"2014\")"
   ]
  },
  {
   "cell_type": "code",
   "execution_count": null,
   "metadata": {},
   "outputs": [],
   "source": []
  },
  {
   "cell_type": "code",
   "execution_count": 7,
   "metadata": {},
   "outputs": [
    {
     "data": {
      "text/html": [
       "<div>\n",
       "<style scoped>\n",
       "    .dataframe tbody tr th:only-of-type {\n",
       "        vertical-align: middle;\n",
       "    }\n",
       "\n",
       "    .dataframe tbody tr th {\n",
       "        vertical-align: top;\n",
       "    }\n",
       "\n",
       "    .dataframe thead th {\n",
       "        text-align: right;\n",
       "    }\n",
       "</style>\n",
       "<table border=\"1\" class=\"dataframe\">\n",
       "  <thead>\n",
       "    <tr style=\"text-align: right;\">\n",
       "      <th></th>\n",
       "      <th>id</th>\n",
       "      <th>normalized_name</th>\n",
       "      <th>category_code</th>\n",
       "      <th>founded_at</th>\n",
       "      <th>description</th>\n",
       "      <th>closed_at</th>\n",
       "      <th>status</th>\n",
       "      <th>exit</th>\n",
       "      <th>exit_date</th>\n",
       "      <th>country_code</th>\n",
       "      <th>...</th>\n",
       "      <th>top_50</th>\n",
       "      <th>top_5_bool</th>\n",
       "      <th>top_20_bool</th>\n",
       "      <th>top_50_bool</th>\n",
       "      <th>n_female_founders</th>\n",
       "      <th>female_ratio</th>\n",
       "      <th>mean_comp_founded_ever</th>\n",
       "      <th>mean_comp_founded_before</th>\n",
       "      <th>mean_comp_worked_before</th>\n",
       "      <th>target</th>\n",
       "    </tr>\n",
       "  </thead>\n",
       "  <tbody>\n",
       "    <tr>\n",
       "      <th>0</th>\n",
       "      <td>c:1349</td>\n",
       "      <td>move networks</td>\n",
       "      <td>software</td>\n",
       "      <td>NaT</td>\n",
       "      <td>software Move Networks is a streaming tech pla...</td>\n",
       "      <td>NaN</td>\n",
       "      <td>acquired</td>\n",
       "      <td>acquisition</td>\n",
       "      <td>1987-06-16 00:00:00</td>\n",
       "      <td>USA</td>\n",
       "      <td>...</td>\n",
       "      <td>NaN</td>\n",
       "      <td>NaN</td>\n",
       "      <td>NaN</td>\n",
       "      <td>NaN</td>\n",
       "      <td>NaN</td>\n",
       "      <td>NaN</td>\n",
       "      <td>NaN</td>\n",
       "      <td>NaN</td>\n",
       "      <td>NaN</td>\n",
       "      <td>1</td>\n",
       "    </tr>\n",
       "    <tr>\n",
       "      <th>1</th>\n",
       "      <td>c:4584</td>\n",
       "      <td>modern feed</td>\n",
       "      <td>games_video</td>\n",
       "      <td>2007-01-01</td>\n",
       "      <td>games_video     [Modern Feed](http://www.moder...</td>\n",
       "      <td>NaN</td>\n",
       "      <td>acquired</td>\n",
       "      <td>acquisition</td>\n",
       "      <td>1987-06-16 00:00:00</td>\n",
       "      <td>USA</td>\n",
       "      <td>...</td>\n",
       "      <td>1.0</td>\n",
       "      <td>0.0</td>\n",
       "      <td>0.0</td>\n",
       "      <td>1.0</td>\n",
       "      <td>0.0</td>\n",
       "      <td>0.0</td>\n",
       "      <td>1.0</td>\n",
       "      <td>0.0</td>\n",
       "      <td>0.0</td>\n",
       "      <td>1</td>\n",
       "    </tr>\n",
       "    <tr>\n",
       "      <th>2</th>\n",
       "      <td>c:16612</td>\n",
       "      <td>micron technology</td>\n",
       "      <td>semiconductor</td>\n",
       "      <td>1978-01-01</td>\n",
       "      <td>semiconductor   Semiconductor Applications Mic...</td>\n",
       "      <td>NaN</td>\n",
       "      <td>ipo</td>\n",
       "      <td>ipo</td>\n",
       "      <td>1990-01-02 00:00:00</td>\n",
       "      <td>USA</td>\n",
       "      <td>...</td>\n",
       "      <td>NaN</td>\n",
       "      <td>NaN</td>\n",
       "      <td>NaN</td>\n",
       "      <td>NaN</td>\n",
       "      <td>NaN</td>\n",
       "      <td>NaN</td>\n",
       "      <td>NaN</td>\n",
       "      <td>NaN</td>\n",
       "      <td>NaN</td>\n",
       "      <td>1</td>\n",
       "    </tr>\n",
       "    <tr>\n",
       "      <th>3</th>\n",
       "      <td>c:28</td>\n",
       "      <td>cisco</td>\n",
       "      <td>network_hosting</td>\n",
       "      <td>1984-01-01</td>\n",
       "      <td>network_hosting     Cisco designs and sells ha...</td>\n",
       "      <td>NaN</td>\n",
       "      <td>ipo</td>\n",
       "      <td>ipo</td>\n",
       "      <td>1990-02-23 00:00:00</td>\n",
       "      <td>USA</td>\n",
       "      <td>...</td>\n",
       "      <td>0.0</td>\n",
       "      <td>0.0</td>\n",
       "      <td>0.0</td>\n",
       "      <td>0.0</td>\n",
       "      <td>0.0</td>\n",
       "      <td>0.0</td>\n",
       "      <td>1.0</td>\n",
       "      <td>0.0</td>\n",
       "      <td>0.0</td>\n",
       "      <td>1</td>\n",
       "    </tr>\n",
       "    <tr>\n",
       "      <th>4</th>\n",
       "      <td>c:29</td>\n",
       "      <td>yahoo</td>\n",
       "      <td>web</td>\n",
       "      <td>1994-01-01</td>\n",
       "      <td>web   News and On-line directory Yahoo was fou...</td>\n",
       "      <td>NaN</td>\n",
       "      <td>ipo</td>\n",
       "      <td>ipo</td>\n",
       "      <td>1996-04-12 00:00:00</td>\n",
       "      <td>USA</td>\n",
       "      <td>...</td>\n",
       "      <td>0.2</td>\n",
       "      <td>1.0</td>\n",
       "      <td>0.0</td>\n",
       "      <td>1.0</td>\n",
       "      <td>0.0</td>\n",
       "      <td>0.0</td>\n",
       "      <td>1.2</td>\n",
       "      <td>0.0</td>\n",
       "      <td>0.0</td>\n",
       "      <td>1</td>\n",
       "    </tr>\n",
       "  </tbody>\n",
       "</table>\n",
       "<p>5 rows × 41 columns</p>\n",
       "</div>"
      ],
      "text/plain": [
       "        id    normalized_name    category_code founded_at  \\\n",
       "0   c:1349      move networks         software        NaT   \n",
       "1   c:4584        modern feed      games_video 2007-01-01   \n",
       "2  c:16612  micron technology    semiconductor 1978-01-01   \n",
       "3     c:28              cisco  network_hosting 1984-01-01   \n",
       "4     c:29              yahoo              web 1994-01-01   \n",
       "\n",
       "                                         description closed_at    status  \\\n",
       "0  software Move Networks is a streaming tech pla...       NaN  acquired   \n",
       "1  games_video     [Modern Feed](http://www.moder...       NaN  acquired   \n",
       "2  semiconductor   Semiconductor Applications Mic...       NaN       ipo   \n",
       "3  network_hosting     Cisco designs and sells ha...       NaN       ipo   \n",
       "4  web   News and On-line directory Yahoo was fou...       NaN       ipo   \n",
       "\n",
       "          exit            exit_date country_code  ... top_50 top_5_bool  \\\n",
       "0  acquisition  1987-06-16 00:00:00          USA  ...    NaN        NaN   \n",
       "1  acquisition  1987-06-16 00:00:00          USA  ...    1.0        0.0   \n",
       "2          ipo  1990-01-02 00:00:00          USA  ...    NaN        NaN   \n",
       "3          ipo  1990-02-23 00:00:00          USA  ...    0.0        0.0   \n",
       "4          ipo  1996-04-12 00:00:00          USA  ...    0.2        1.0   \n",
       "\n",
       "   top_20_bool  top_50_bool  n_female_founders  female_ratio  \\\n",
       "0          NaN          NaN                NaN           NaN   \n",
       "1          0.0          1.0                0.0           0.0   \n",
       "2          NaN          NaN                NaN           NaN   \n",
       "3          0.0          0.0                0.0           0.0   \n",
       "4          0.0          1.0                0.0           0.0   \n",
       "\n",
       "   mean_comp_founded_ever  mean_comp_founded_before  mean_comp_worked_before  \\\n",
       "0                     NaN                       NaN                      NaN   \n",
       "1                     1.0                       0.0                      0.0   \n",
       "2                     NaN                       NaN                      NaN   \n",
       "3                     1.0                       0.0                      0.0   \n",
       "4                     1.2                       0.0                      0.0   \n",
       "\n",
       "   target  \n",
       "0       1  \n",
       "1       1  \n",
       "2       1  \n",
       "3       1  \n",
       "4       1  \n",
       "\n",
       "[5 rows x 41 columns]"
      ]
     },
     "execution_count": 7,
     "metadata": {},
     "output_type": "execute_result"
    }
   ],
   "source": [
    "companies.head()"
   ]
  },
  {
   "cell_type": "code",
   "execution_count": 8,
   "metadata": {},
   "outputs": [
    {
     "name": "stdout",
     "output_type": "stream",
     "text": [
      "<class 'pandas.core.frame.DataFrame'>\n",
      "Int64Index: 3241 entries, 0 to 3240\n",
      "Data columns (total 41 columns):\n",
      " #   Column                     Non-Null Count  Dtype         \n",
      "---  ------                     --------------  -----         \n",
      " 0   id                         3241 non-null   object        \n",
      " 1   normalized_name            3241 non-null   object        \n",
      " 2   category_code              3115 non-null   object        \n",
      " 3   founded_at                 2642 non-null   datetime64[ns]\n",
      " 4   description                3239 non-null   object        \n",
      " 5   closed_at                  360 non-null    object        \n",
      " 6   status                     3241 non-null   object        \n",
      " 7   exit                       3241 non-null   object        \n",
      " 8   exit_date                  797 non-null    object        \n",
      " 9   country_code               3118 non-null   object        \n",
      " 10  state_code                 2241 non-null   object        \n",
      " 11  date_series_a              3241 non-null   datetime64[ns]\n",
      " 12  participants_a             3241 non-null   int64         \n",
      " 13  raised_amount_usd_a        3241 non-null   float64       \n",
      " 14  timediff_founded_series_a  2642 non-null   float64       \n",
      " 15  rounds_before_a            3241 non-null   float64       \n",
      " 16  raised_before_a            3165 non-null   float64       \n",
      " 17  participants_before_a      3138 non-null   float64       \n",
      " 18  phd                        1600 non-null   float64       \n",
      " 19  MBA                        1600 non-null   float64       \n",
      " 20  cs                         1600 non-null   float64       \n",
      " 21  graduate                   1600 non-null   float64       \n",
      " 22  undergrad                  1600 non-null   float64       \n",
      " 23  professional               1600 non-null   float64       \n",
      " 24  degree_count               1600 non-null   float64       \n",
      " 25  MBA_bool                   1600 non-null   float64       \n",
      " 26  cs_bool                    1600 non-null   float64       \n",
      " 27  phd_bool                   1600 non-null   float64       \n",
      " 28  founder_count              1600 non-null   float64       \n",
      " 29  top_5                      1600 non-null   float64       \n",
      " 30  top_20                     1600 non-null   float64       \n",
      " 31  top_50                     1600 non-null   float64       \n",
      " 32  top_5_bool                 1600 non-null   float64       \n",
      " 33  top_20_bool                1600 non-null   float64       \n",
      " 34  top_50_bool                1600 non-null   float64       \n",
      " 35  n_female_founders          1558 non-null   float64       \n",
      " 36  female_ratio               1558 non-null   float64       \n",
      " 37  mean_comp_founded_ever     1600 non-null   float64       \n",
      " 38  mean_comp_founded_before   1600 non-null   float64       \n",
      " 39  mean_comp_worked_before    1599 non-null   float64       \n",
      " 40  target                     3241 non-null   int64         \n",
      "dtypes: datetime64[ns](2), float64(27), int64(2), object(10)\n",
      "memory usage: 1.0+ MB\n"
     ]
    }
   ],
   "source": [
    "companies.info()"
   ]
  },
  {
   "cell_type": "code",
   "execution_count": 55,
   "metadata": {},
   "outputs": [],
   "source": [
    "companies = clean_training_data(companies, reference=\"a\")"
   ]
  },
  {
   "cell_type": "code",
   "execution_count": 56,
   "metadata": {},
   "outputs": [],
   "source": [
    "companies.to_csv(\"companies_clean.csv\")"
   ]
  },
  {
   "cell_type": "code",
   "execution_count": 57,
   "metadata": {},
   "outputs": [
    {
     "data": {
      "text/html": [
       "<div>\n",
       "<style scoped>\n",
       "    .dataframe tbody tr th:only-of-type {\n",
       "        vertical-align: middle;\n",
       "    }\n",
       "\n",
       "    .dataframe tbody tr th {\n",
       "        vertical-align: top;\n",
       "    }\n",
       "\n",
       "    .dataframe thead th {\n",
       "        text-align: right;\n",
       "    }\n",
       "</style>\n",
       "<table border=\"1\" class=\"dataframe\">\n",
       "  <thead>\n",
       "    <tr style=\"text-align: right;\">\n",
       "      <th></th>\n",
       "      <th>id</th>\n",
       "      <th>normalized_name</th>\n",
       "      <th>category_code</th>\n",
       "      <th>founded_at</th>\n",
       "      <th>description</th>\n",
       "      <th>closed_at</th>\n",
       "      <th>status</th>\n",
       "      <th>exit</th>\n",
       "      <th>exit_date</th>\n",
       "      <th>country_code</th>\n",
       "      <th>...</th>\n",
       "      <th>MBA_bool</th>\n",
       "      <th>cs_bool</th>\n",
       "      <th>phd_bool</th>\n",
       "      <th>founder_count</th>\n",
       "      <th>top_20_bool</th>\n",
       "      <th>female_ratio</th>\n",
       "      <th>mean_comp_founded_before</th>\n",
       "      <th>mean_comp_worked_before</th>\n",
       "      <th>target</th>\n",
       "      <th>time_diff_series_a_now</th>\n",
       "    </tr>\n",
       "  </thead>\n",
       "  <tbody>\n",
       "    <tr>\n",
       "      <th>0</th>\n",
       "      <td>c:1349</td>\n",
       "      <td>move networks</td>\n",
       "      <td>software</td>\n",
       "      <td>NaN</td>\n",
       "      <td>software Move Networks is a streaming tech pla...</td>\n",
       "      <td>NaN</td>\n",
       "      <td>acquired</td>\n",
       "      <td>acquisition</td>\n",
       "      <td>1987-06-16 00:00:00</td>\n",
       "      <td>USA</td>\n",
       "      <td>...</td>\n",
       "      <td>NaN</td>\n",
       "      <td>NaN</td>\n",
       "      <td>NaN</td>\n",
       "      <td>NaN</td>\n",
       "      <td>NaN</td>\n",
       "      <td>NaN</td>\n",
       "      <td>NaN</td>\n",
       "      <td>NaN</td>\n",
       "      <td>1</td>\n",
       "      <td>7.0</td>\n",
       "    </tr>\n",
       "    <tr>\n",
       "      <th>1</th>\n",
       "      <td>c:4584</td>\n",
       "      <td>modern feed</td>\n",
       "      <td>other_category</td>\n",
       "      <td>2007</td>\n",
       "      <td>games_video     [Modern Feed](http://www.moder...</td>\n",
       "      <td>NaN</td>\n",
       "      <td>acquired</td>\n",
       "      <td>acquisition</td>\n",
       "      <td>1987-06-16 00:00:00</td>\n",
       "      <td>USA</td>\n",
       "      <td>...</td>\n",
       "      <td>0.0</td>\n",
       "      <td>0.0</td>\n",
       "      <td>0.0</td>\n",
       "      <td>1.0</td>\n",
       "      <td>0.0</td>\n",
       "      <td>0.0</td>\n",
       "      <td>0.0</td>\n",
       "      <td>0.0</td>\n",
       "      <td>1</td>\n",
       "      <td>7.0</td>\n",
       "    </tr>\n",
       "    <tr>\n",
       "      <th>2</th>\n",
       "      <td>c:40866</td>\n",
       "      <td>3d systems</td>\n",
       "      <td>software</td>\n",
       "      <td>pre_1996</td>\n",
       "      <td>software   Advanced solid imaging solutions 3D...</td>\n",
       "      <td>NaN</td>\n",
       "      <td>ipo</td>\n",
       "      <td>ipo</td>\n",
       "      <td>1988-03-10 00:00:00</td>\n",
       "      <td>USA</td>\n",
       "      <td>...</td>\n",
       "      <td>NaN</td>\n",
       "      <td>NaN</td>\n",
       "      <td>NaN</td>\n",
       "      <td>NaN</td>\n",
       "      <td>NaN</td>\n",
       "      <td>NaN</td>\n",
       "      <td>NaN</td>\n",
       "      <td>NaN</td>\n",
       "      <td>1</td>\n",
       "      <td>2.0</td>\n",
       "    </tr>\n",
       "    <tr>\n",
       "      <th>3</th>\n",
       "      <td>c:16612</td>\n",
       "      <td>micron technology</td>\n",
       "      <td>semiconductor</td>\n",
       "      <td>pre_1996</td>\n",
       "      <td>semiconductor   Semiconductor Applications Mic...</td>\n",
       "      <td>NaN</td>\n",
       "      <td>ipo</td>\n",
       "      <td>ipo</td>\n",
       "      <td>1990-01-02 00:00:00</td>\n",
       "      <td>USA</td>\n",
       "      <td>...</td>\n",
       "      <td>NaN</td>\n",
       "      <td>NaN</td>\n",
       "      <td>NaN</td>\n",
       "      <td>NaN</td>\n",
       "      <td>NaN</td>\n",
       "      <td>NaN</td>\n",
       "      <td>NaN</td>\n",
       "      <td>NaN</td>\n",
       "      <td>1</td>\n",
       "      <td>7.0</td>\n",
       "    </tr>\n",
       "    <tr>\n",
       "      <th>4</th>\n",
       "      <td>c:28</td>\n",
       "      <td>cisco</td>\n",
       "      <td>network_hosting</td>\n",
       "      <td>pre_1996</td>\n",
       "      <td>network_hosting     Cisco designs and sells ha...</td>\n",
       "      <td>NaN</td>\n",
       "      <td>ipo</td>\n",
       "      <td>ipo</td>\n",
       "      <td>1990-02-23 00:00:00</td>\n",
       "      <td>USA</td>\n",
       "      <td>...</td>\n",
       "      <td>0.0</td>\n",
       "      <td>0.0</td>\n",
       "      <td>0.0</td>\n",
       "      <td>1.0</td>\n",
       "      <td>0.0</td>\n",
       "      <td>0.0</td>\n",
       "      <td>0.0</td>\n",
       "      <td>0.0</td>\n",
       "      <td>1</td>\n",
       "      <td>10.0</td>\n",
       "    </tr>\n",
       "  </tbody>\n",
       "</table>\n",
       "<p>5 rows × 29 columns</p>\n",
       "</div>"
      ],
      "text/plain": [
       "        id    normalized_name    category_code founded_at  \\\n",
       "0   c:1349      move networks         software        NaN   \n",
       "1   c:4584        modern feed   other_category       2007   \n",
       "2  c:40866         3d systems         software   pre_1996   \n",
       "3  c:16612  micron technology    semiconductor   pre_1996   \n",
       "4     c:28              cisco  network_hosting   pre_1996   \n",
       "\n",
       "                                         description closed_at    status  \\\n",
       "0  software Move Networks is a streaming tech pla...       NaN  acquired   \n",
       "1  games_video     [Modern Feed](http://www.moder...       NaN  acquired   \n",
       "2  software   Advanced solid imaging solutions 3D...       NaN       ipo   \n",
       "3  semiconductor   Semiconductor Applications Mic...       NaN       ipo   \n",
       "4  network_hosting     Cisco designs and sells ha...       NaN       ipo   \n",
       "\n",
       "          exit            exit_date country_code  ... MBA_bool  cs_bool  \\\n",
       "0  acquisition  1987-06-16 00:00:00          USA  ...      NaN      NaN   \n",
       "1  acquisition  1987-06-16 00:00:00          USA  ...      0.0      0.0   \n",
       "2          ipo  1988-03-10 00:00:00          USA  ...      NaN      NaN   \n",
       "3          ipo  1990-01-02 00:00:00          USA  ...      NaN      NaN   \n",
       "4          ipo  1990-02-23 00:00:00          USA  ...      0.0      0.0   \n",
       "\n",
       "   phd_bool founder_count  top_20_bool  female_ratio  \\\n",
       "0       NaN           NaN          NaN           NaN   \n",
       "1       0.0           1.0          0.0           0.0   \n",
       "2       NaN           NaN          NaN           NaN   \n",
       "3       NaN           NaN          NaN           NaN   \n",
       "4       0.0           1.0          0.0           0.0   \n",
       "\n",
       "   mean_comp_founded_before  mean_comp_worked_before  target  \\\n",
       "0                       NaN                      NaN       1   \n",
       "1                       0.0                      0.0       1   \n",
       "2                       NaN                      NaN       1   \n",
       "3                       NaN                      NaN       1   \n",
       "4                       0.0                      0.0       1   \n",
       "\n",
       "   time_diff_series_a_now  \n",
       "0                     7.0  \n",
       "1                     7.0  \n",
       "2                     2.0  \n",
       "3                     7.0  \n",
       "4                    10.0  \n",
       "\n",
       "[5 rows x 29 columns]"
      ]
     },
     "execution_count": 57,
     "metadata": {},
     "output_type": "execute_result"
    }
   ],
   "source": [
    "companies.head()"
   ]
  },
  {
   "cell_type": "code",
   "execution_count": 14,
   "metadata": {},
   "outputs": [
    {
     "name": "stdout",
     "output_type": "stream",
     "text": [
      "<class 'pandas.core.frame.DataFrame'>\n",
      "Int64Index: 3241 entries, 0 to 3240\n",
      "Data columns (total 29 columns):\n",
      " #   Column                     Non-Null Count  Dtype  \n",
      "---  ------                     --------------  -----  \n",
      " 0   id                         3241 non-null   object \n",
      " 1   normalized_name            3241 non-null   object \n",
      " 2   category_code              3141 non-null   object \n",
      " 3   founded_at                 2642 non-null   object \n",
      " 4   description                3239 non-null   object \n",
      " 5   closed_at                  360 non-null    object \n",
      " 6   status                     3241 non-null   object \n",
      " 7   exit                       3241 non-null   object \n",
      " 8   exit_date                  797 non-null    object \n",
      " 9   country_code               3163 non-null   object \n",
      " 10  state_code                 2268 non-null   object \n",
      " 11  participants_a             2841 non-null   float64\n",
      " 12  raised_amount_usd_a        2972 non-null   float64\n",
      " 13  timediff_founded_series_a  2642 non-null   object \n",
      " 14  rounds_before_a            3241 non-null   int64  \n",
      " 15  graduate                   1600 non-null   float64\n",
      " 16  undergrad                  1600 non-null   float64\n",
      " 17  professional               1600 non-null   float64\n",
      " 18  degree_count               1600 non-null   float64\n",
      " 19  MBA_bool                   1600 non-null   float64\n",
      " 20  cs_bool                    1600 non-null   float64\n",
      " 21  phd_bool                   1600 non-null   float64\n",
      " 22  founder_count              1600 non-null   float64\n",
      " 23  top_20_bool                1600 non-null   float64\n",
      " 24  female_ratio               1558 non-null   float64\n",
      " 25  mean_comp_founded_before   1600 non-null   float64\n",
      " 26  mean_comp_worked_before    1599 non-null   float64\n",
      " 27  target                     3241 non-null   int64  \n",
      " 28  time_diff_series_a_now     3241 non-null   float64\n",
      "dtypes: float64(15), int64(2), object(12)\n",
      "memory usage: 759.6+ KB\n"
     ]
    }
   ],
   "source": [
    "companies.info()"
   ]
  },
  {
   "cell_type": "code",
   "execution_count": 35,
   "metadata": {},
   "outputs": [],
   "source": [
    "inputs={\"0\":1}"
   ]
  },
  {
   "cell_type": "code",
   "execution_count": 36,
   "metadata": {},
   "outputs": [
    {
     "data": {
      "text/plain": [
       "[{'0': 1}]"
      ]
     },
     "execution_count": 36,
     "metadata": {},
     "output_type": "execute_result"
    }
   ],
   "source": [
    "[inputs]"
   ]
  },
  {
   "cell_type": "code",
   "execution_count": 50,
   "metadata": {},
   "outputs": [],
   "source": [
    "from datetime import datetime\n",
    "import pytz"
   ]
  },
  {
   "cell_type": "code",
   "execution_count": 52,
   "metadata": {},
   "outputs": [
    {
     "data": {
      "text/plain": [
       "datetime.datetime(2020, 11, 9, 16, 10, 56, 519759, tzinfo=<DstTzInfo 'Europe/Paris' CET+1:00:00 STD>)"
      ]
     },
     "execution_count": 52,
     "metadata": {},
     "output_type": "execute_result"
    }
   ],
   "source": [
    "mytz = pytz.timezone('Europe/Paris')\n",
    "pytz.utc.localize(datetime.utcnow(), is_dst=None).astimezone(mytz)"
   ]
  },
  {
   "cell_type": "code",
   "execution_count": 53,
   "metadata": {},
   "outputs": [
    {
     "data": {
      "text/plain": [
       "datetime.datetime(2020, 11, 9, 15, 11, 35, 399573, tzinfo=<DstTzInfo 'Europe/Brussels' LMT+0:18:00 STD>)"
      ]
     },
     "execution_count": 53,
     "metadata": {},
     "output_type": "execute_result"
    }
   ],
   "source": [
    "datetime.utcnow().replace(tzinfo=pytz.timezone('Europe/Brussels'))"
   ]
  },
  {
   "cell_type": "markdown",
   "metadata": {},
   "source": [
    "## bigger dataset"
   ]
  },
  {
   "cell_type": "code",
   "execution_count": 15,
   "metadata": {
    "collapsed": true,
    "jupyter": {
     "outputs_hidden": true
    }
   },
   "outputs": [
    {
     "name": "stdout",
     "output_type": "stream",
     "text": [
      "        id  mean_comp_worked_before\n",
      "0      c:1                     0.50\n",
      "1   c:1001                     0.75\n",
      "2  c:10015                     0.00\n",
      "3   c:1003                     0.50\n",
      "4  c:10054                     0.00\n",
      "        id    normalized_name    category_code founded_at  \\\n",
      "0   c:1349      move networks         software        NaT   \n",
      "1   c:4584        modern feed      games_video 2007-01-01   \n",
      "2  c:40866         3d systems         software 1986-01-01   \n",
      "3  c:16612  micron technology    semiconductor 1978-01-01   \n",
      "4     c:28              cisco  network_hosting 1984-01-01   \n",
      "\n",
      "                                         description closed_at    status  \\\n",
      "0  software Move Networks is a streaming tech pla...       NaN  acquired   \n",
      "1  games_video     [Modern Feed](http://www.moder...       NaN  acquired   \n",
      "2  software   Advanced solid imaging solutions 3D...       NaN       ipo   \n",
      "3  semiconductor   Semiconductor Applications Mic...       NaN       ipo   \n",
      "4  network_hosting     Cisco designs and sells ha...       NaN       ipo   \n",
      "\n",
      "          exit            exit_date country_code  ... top_20 top_50  \\\n",
      "0  acquisition  1987-06-16 00:00:00          USA  ...    NaN    NaN   \n",
      "1  acquisition  1987-06-16 00:00:00          USA  ...    0.0    1.0   \n",
      "2          ipo  1988-03-10 00:00:00          USA  ...    NaN    NaN   \n",
      "3          ipo  1990-01-02 00:00:00          USA  ...    NaN    NaN   \n",
      "4          ipo  1990-02-23 00:00:00          USA  ...    0.0    0.0   \n",
      "\n",
      "   top_5_bool  top_20_bool  top_50_bool  n_female_founders  female_ratio  \\\n",
      "0         NaN          NaN          NaN                NaN           NaN   \n",
      "1         0.0          0.0          1.0                0.0           0.0   \n",
      "2         NaN          NaN          NaN                NaN           NaN   \n",
      "3         NaN          NaN          NaN                NaN           NaN   \n",
      "4         0.0          0.0          0.0                0.0           0.0   \n",
      "\n",
      "   mean_comp_founded_ever  mean_comp_founded_before  mean_comp_worked_before  \n",
      "0                     NaN                       NaN                      NaN  \n",
      "1                     1.0                       0.0                      0.0  \n",
      "2                     NaN                       NaN                      NaN  \n",
      "3                     NaN                       NaN                      NaN  \n",
      "4                     1.0                       0.0                      0.0  \n",
      "\n",
      "[5 rows x 40 columns]\n"
     ]
    }
   ],
   "source": [
    "companies = get_training_data(reference=\"a\", cut=\"2014\")"
   ]
  },
  {
   "cell_type": "code",
   "execution_count": 17,
   "metadata": {},
   "outputs": [],
   "source": [
    "companies = clean_training_data(companies,reference=\"a\")"
   ]
  },
  {
   "cell_type": "code",
   "execution_count": 18,
   "metadata": {},
   "outputs": [
    {
     "data": {
      "text/html": [
       "<div>\n",
       "<style scoped>\n",
       "    .dataframe tbody tr th:only-of-type {\n",
       "        vertical-align: middle;\n",
       "    }\n",
       "\n",
       "    .dataframe tbody tr th {\n",
       "        vertical-align: top;\n",
       "    }\n",
       "\n",
       "    .dataframe thead th {\n",
       "        text-align: right;\n",
       "    }\n",
       "</style>\n",
       "<table border=\"1\" class=\"dataframe\">\n",
       "  <thead>\n",
       "    <tr style=\"text-align: right;\">\n",
       "      <th></th>\n",
       "      <th>id</th>\n",
       "      <th>normalized_name</th>\n",
       "      <th>category_code</th>\n",
       "      <th>founded_at</th>\n",
       "      <th>description</th>\n",
       "      <th>closed_at</th>\n",
       "      <th>status</th>\n",
       "      <th>exit</th>\n",
       "      <th>exit_date</th>\n",
       "      <th>country_code</th>\n",
       "      <th>...</th>\n",
       "      <th>MBA_bool</th>\n",
       "      <th>cs_bool</th>\n",
       "      <th>phd_bool</th>\n",
       "      <th>founder_count</th>\n",
       "      <th>top_20_bool</th>\n",
       "      <th>female_ratio</th>\n",
       "      <th>mean_comp_founded_before</th>\n",
       "      <th>mean_comp_worked_before</th>\n",
       "      <th>target</th>\n",
       "      <th>time_diff_series_a_now</th>\n",
       "    </tr>\n",
       "  </thead>\n",
       "  <tbody>\n",
       "    <tr>\n",
       "      <th>0</th>\n",
       "      <td>c:1349</td>\n",
       "      <td>move networks</td>\n",
       "      <td>software</td>\n",
       "      <td>NaN</td>\n",
       "      <td>software Move Networks is a streaming tech pla...</td>\n",
       "      <td>NaN</td>\n",
       "      <td>acquired</td>\n",
       "      <td>acquisition</td>\n",
       "      <td>1987-06-16 00:00:00</td>\n",
       "      <td>USA</td>\n",
       "      <td>...</td>\n",
       "      <td>NaN</td>\n",
       "      <td>NaN</td>\n",
       "      <td>NaN</td>\n",
       "      <td>NaN</td>\n",
       "      <td>NaN</td>\n",
       "      <td>NaN</td>\n",
       "      <td>NaN</td>\n",
       "      <td>NaN</td>\n",
       "      <td>1</td>\n",
       "      <td>7.0</td>\n",
       "    </tr>\n",
       "    <tr>\n",
       "      <th>1</th>\n",
       "      <td>c:4584</td>\n",
       "      <td>modern feed</td>\n",
       "      <td>other_category</td>\n",
       "      <td>2007</td>\n",
       "      <td>games_video     [Modern Feed](http://www.moder...</td>\n",
       "      <td>NaN</td>\n",
       "      <td>acquired</td>\n",
       "      <td>acquisition</td>\n",
       "      <td>1987-06-16 00:00:00</td>\n",
       "      <td>USA</td>\n",
       "      <td>...</td>\n",
       "      <td>0.0</td>\n",
       "      <td>0.0</td>\n",
       "      <td>0.0</td>\n",
       "      <td>1.0</td>\n",
       "      <td>0.0</td>\n",
       "      <td>0.0</td>\n",
       "      <td>0.0</td>\n",
       "      <td>0.0</td>\n",
       "      <td>1</td>\n",
       "      <td>7.0</td>\n",
       "    </tr>\n",
       "    <tr>\n",
       "      <th>2</th>\n",
       "      <td>c:40866</td>\n",
       "      <td>3d systems</td>\n",
       "      <td>software</td>\n",
       "      <td>pre_1996</td>\n",
       "      <td>software   Advanced solid imaging solutions 3D...</td>\n",
       "      <td>NaN</td>\n",
       "      <td>ipo</td>\n",
       "      <td>ipo</td>\n",
       "      <td>1988-03-10 00:00:00</td>\n",
       "      <td>USA</td>\n",
       "      <td>...</td>\n",
       "      <td>NaN</td>\n",
       "      <td>NaN</td>\n",
       "      <td>NaN</td>\n",
       "      <td>NaN</td>\n",
       "      <td>NaN</td>\n",
       "      <td>NaN</td>\n",
       "      <td>NaN</td>\n",
       "      <td>NaN</td>\n",
       "      <td>1</td>\n",
       "      <td>2.0</td>\n",
       "    </tr>\n",
       "    <tr>\n",
       "      <th>3</th>\n",
       "      <td>c:16612</td>\n",
       "      <td>micron technology</td>\n",
       "      <td>semiconductor</td>\n",
       "      <td>pre_1996</td>\n",
       "      <td>semiconductor   Semiconductor Applications Mic...</td>\n",
       "      <td>NaN</td>\n",
       "      <td>ipo</td>\n",
       "      <td>ipo</td>\n",
       "      <td>1990-01-02 00:00:00</td>\n",
       "      <td>USA</td>\n",
       "      <td>...</td>\n",
       "      <td>NaN</td>\n",
       "      <td>NaN</td>\n",
       "      <td>NaN</td>\n",
       "      <td>NaN</td>\n",
       "      <td>NaN</td>\n",
       "      <td>NaN</td>\n",
       "      <td>NaN</td>\n",
       "      <td>NaN</td>\n",
       "      <td>1</td>\n",
       "      <td>7.0</td>\n",
       "    </tr>\n",
       "    <tr>\n",
       "      <th>4</th>\n",
       "      <td>c:28</td>\n",
       "      <td>cisco</td>\n",
       "      <td>network_hosting</td>\n",
       "      <td>pre_1996</td>\n",
       "      <td>network_hosting     Cisco designs and sells ha...</td>\n",
       "      <td>NaN</td>\n",
       "      <td>ipo</td>\n",
       "      <td>ipo</td>\n",
       "      <td>1990-02-23 00:00:00</td>\n",
       "      <td>USA</td>\n",
       "      <td>...</td>\n",
       "      <td>0.0</td>\n",
       "      <td>0.0</td>\n",
       "      <td>0.0</td>\n",
       "      <td>1.0</td>\n",
       "      <td>0.0</td>\n",
       "      <td>0.0</td>\n",
       "      <td>0.0</td>\n",
       "      <td>0.0</td>\n",
       "      <td>1</td>\n",
       "      <td>10.0</td>\n",
       "    </tr>\n",
       "  </tbody>\n",
       "</table>\n",
       "<p>5 rows × 29 columns</p>\n",
       "</div>"
      ],
      "text/plain": [
       "        id    normalized_name    category_code founded_at  \\\n",
       "0   c:1349      move networks         software        NaN   \n",
       "1   c:4584        modern feed   other_category       2007   \n",
       "2  c:40866         3d systems         software   pre_1996   \n",
       "3  c:16612  micron technology    semiconductor   pre_1996   \n",
       "4     c:28              cisco  network_hosting   pre_1996   \n",
       "\n",
       "                                         description closed_at    status  \\\n",
       "0  software Move Networks is a streaming tech pla...       NaN  acquired   \n",
       "1  games_video     [Modern Feed](http://www.moder...       NaN  acquired   \n",
       "2  software   Advanced solid imaging solutions 3D...       NaN       ipo   \n",
       "3  semiconductor   Semiconductor Applications Mic...       NaN       ipo   \n",
       "4  network_hosting     Cisco designs and sells ha...       NaN       ipo   \n",
       "\n",
       "          exit            exit_date country_code  ... MBA_bool  cs_bool  \\\n",
       "0  acquisition  1987-06-16 00:00:00          USA  ...      NaN      NaN   \n",
       "1  acquisition  1987-06-16 00:00:00          USA  ...      0.0      0.0   \n",
       "2          ipo  1988-03-10 00:00:00          USA  ...      NaN      NaN   \n",
       "3          ipo  1990-01-02 00:00:00          USA  ...      NaN      NaN   \n",
       "4          ipo  1990-02-23 00:00:00          USA  ...      0.0      0.0   \n",
       "\n",
       "   phd_bool founder_count  top_20_bool  female_ratio  \\\n",
       "0       NaN           NaN          NaN           NaN   \n",
       "1       0.0           1.0          0.0           0.0   \n",
       "2       NaN           NaN          NaN           NaN   \n",
       "3       NaN           NaN          NaN           NaN   \n",
       "4       0.0           1.0          0.0           0.0   \n",
       "\n",
       "   mean_comp_founded_before  mean_comp_worked_before  target  \\\n",
       "0                       NaN                      NaN       1   \n",
       "1                       0.0                      0.0       1   \n",
       "2                       NaN                      NaN       1   \n",
       "3                       NaN                      NaN       1   \n",
       "4                       0.0                      0.0       1   \n",
       "\n",
       "   time_diff_series_a_now  \n",
       "0                     7.0  \n",
       "1                     7.0  \n",
       "2                     2.0  \n",
       "3                     7.0  \n",
       "4                    10.0  \n",
       "\n",
       "[5 rows x 29 columns]"
      ]
     },
     "execution_count": 18,
     "metadata": {},
     "output_type": "execute_result"
    }
   ],
   "source": [
    "companies.head()"
   ]
  },
  {
   "cell_type": "code",
   "execution_count": 66,
   "metadata": {},
   "outputs": [
    {
     "name": "stdout",
     "output_type": "stream",
     "text": [
      "<class 'pandas.core.frame.DataFrame'>\n",
      "Int64Index: 8804 entries, 0 to 8803\n",
      "Data columns (total 29 columns):\n",
      " #   Column                     Non-Null Count  Dtype  \n",
      "---  ------                     --------------  -----  \n",
      " 0   id                         8804 non-null   object \n",
      " 1   normalized_name            8804 non-null   object \n",
      " 2   category_code              8612 non-null   object \n",
      " 3   founded_at                 7294 non-null   object \n",
      " 4   description                8788 non-null   object \n",
      " 5   closed_at                  518 non-null    object \n",
      " 6   status                     8804 non-null   object \n",
      " 7   exit                       8804 non-null   object \n",
      " 8   exit_date                  1158 non-null   object \n",
      " 9   country_code               8538 non-null   object \n",
      " 10  state_code                 6021 non-null   object \n",
      " 11  participants_a             7079 non-null   float64\n",
      " 12  raised_amount_usd_a        8061 non-null   float64\n",
      " 13  timediff_founded_series_a  7294 non-null   object \n",
      " 14  rounds_before_a            8804 non-null   int64  \n",
      " 15  graduate                   4589 non-null   float64\n",
      " 16  undergrad                  4589 non-null   float64\n",
      " 17  professional               4589 non-null   float64\n",
      " 18  degree_count               4589 non-null   float64\n",
      " 19  MBA_bool                   4589 non-null   float64\n",
      " 20  cs_bool                    4589 non-null   float64\n",
      " 21  phd_bool                   4589 non-null   float64\n",
      " 22  founder_count              4589 non-null   float64\n",
      " 23  top_20_bool                4589 non-null   float64\n",
      " 24  female_ratio               4463 non-null   float64\n",
      " 25  mean_comp_founded_before   4589 non-null   float64\n",
      " 26  mean_comp_worked_before    4582 non-null   float64\n",
      " 27  target                     8804 non-null   int64  \n",
      " 28  time_diff_series_a_now     8804 non-null   float64\n",
      "dtypes: float64(15), int64(2), object(12)\n",
      "memory usage: 2.0+ MB\n"
     ]
    }
   ],
   "source": [
    "companies.info()"
   ]
  },
  {
   "cell_type": "markdown",
   "metadata": {},
   "source": [
    "## series 0"
   ]
  },
  {
   "cell_type": "code",
   "execution_count": 22,
   "metadata": {
    "collapsed": true,
    "jupyter": {
     "outputs_hidden": true
    }
   },
   "outputs": [
    {
     "name": "stdout",
     "output_type": "stream",
     "text": [
      "        id  mean_comp_worked_before\n",
      "0      c:1                     1.50\n",
      "1   c:1001                     0.75\n",
      "2  c:10014                     2.00\n",
      "3  c:10015                     0.00\n",
      "4  c:10018                     0.00\n",
      "        id    normalized_name    category_code founded_at  \\\n",
      "0   c:4304  texas instruments    semiconductor 1930-01-01   \n",
      "1   c:1349      move networks         software        NaT   \n",
      "2   c:4584        modern feed      games_video 2007-01-01   \n",
      "3  c:16612  micron technology    semiconductor 1978-01-01   \n",
      "4     c:28              cisco  network_hosting 1984-01-01   \n",
      "\n",
      "                                         description closed_at    status  \\\n",
      "0  semiconductor   Semiconducter and Device Manuf...       NaN       ipo   \n",
      "1  software Move Networks is a streaming tech pla...       NaN  acquired   \n",
      "2  games_video     [Modern Feed](http://www.moder...       NaN  acquired   \n",
      "3  semiconductor   Semiconductor Applications Mic...       NaN       ipo   \n",
      "4  network_hosting     Cisco designs and sells ha...       NaN       ipo   \n",
      "\n",
      "          exit            exit_date country_code  ... top_20 top_50  \\\n",
      "0          ipo  1978-01-13 00:00:00          USA  ...    NaN    NaN   \n",
      "1  acquisition  1987-06-16 00:00:00          USA  ...    NaN    NaN   \n",
      "2  acquisition  1987-06-16 00:00:00          USA  ...    0.0    1.0   \n",
      "3          ipo  1990-01-02 00:00:00          USA  ...    NaN    NaN   \n",
      "4          ipo  1990-02-23 00:00:00          USA  ...    0.0    0.0   \n",
      "\n",
      "   top_5_bool  top_20_bool  top_50_bool  n_female_founders  female_ratio  \\\n",
      "0         NaN          NaN          NaN                NaN           NaN   \n",
      "1         NaN          NaN          NaN                NaN           NaN   \n",
      "2         0.0          0.0          1.0                0.0           0.0   \n",
      "3         NaN          NaN          NaN                NaN           NaN   \n",
      "4         0.0          0.0          0.0                0.0           0.0   \n",
      "\n",
      "   mean_comp_founded_ever  mean_comp_founded_before  mean_comp_worked_before  \n",
      "0                     NaN                       NaN                      NaN  \n",
      "1                     NaN                       NaN                      NaN  \n",
      "2                     1.0                       0.0                      0.0  \n",
      "3                     NaN                       NaN                      NaN  \n",
      "4                     2.0                       0.0                      0.0  \n",
      "\n",
      "[5 rows x 37 columns]\n"
     ]
    }
   ],
   "source": [
    "companies_0 = get_training_data(reference=0, cut=\"2009\")"
   ]
  },
  {
   "cell_type": "code",
   "execution_count": 24,
   "metadata": {},
   "outputs": [],
   "source": [
    "companies_0 = clean_training_data(companies_0, reference=0)"
   ]
  },
  {
   "cell_type": "code",
   "execution_count": 25,
   "metadata": {},
   "outputs": [
    {
     "name": "stdout",
     "output_type": "stream",
     "text": [
      "<class 'pandas.core.frame.DataFrame'>\n",
      "Int64Index: 8448 entries, 0 to 8447\n",
      "Data columns (total 28 columns):\n",
      " #   Column                     Non-Null Count  Dtype  \n",
      "---  ------                     --------------  -----  \n",
      " 0   id                         8448 non-null   object \n",
      " 1   normalized_name            8448 non-null   object \n",
      " 2   category_code              7978 non-null   object \n",
      " 3   founded_at                 6651 non-null   object \n",
      " 4   description                8431 non-null   object \n",
      " 5   closed_at                  1004 non-null   object \n",
      " 6   status                     8448 non-null   object \n",
      " 7   exit                       8448 non-null   object \n",
      " 8   exit_date                  1815 non-null   object \n",
      " 9   country_code               8039 non-null   object \n",
      " 10  state_code                 5265 non-null   object \n",
      " 11  participants_0             7041 non-null   float64\n",
      " 12  raised_amount_usd_0        7445 non-null   float64\n",
      " 13  timediff_founded_series_0  6651 non-null   object \n",
      " 14  graduate                   3326 non-null   float64\n",
      " 15  undergrad                  3326 non-null   float64\n",
      " 16  professional               3326 non-null   float64\n",
      " 17  degree_count               3326 non-null   float64\n",
      " 18  MBA_bool                   3326 non-null   float64\n",
      " 19  cs_bool                    3326 non-null   float64\n",
      " 20  phd_bool                   3326 non-null   float64\n",
      " 21  founder_count              3326 non-null   float64\n",
      " 22  top_20_bool                3326 non-null   float64\n",
      " 23  female_ratio               3218 non-null   float64\n",
      " 24  mean_comp_founded_before   3326 non-null   float64\n",
      " 25  mean_comp_worked_before    3319 non-null   float64\n",
      " 26  target                     8448 non-null   int64  \n",
      " 27  time_diff_series_0_now     8448 non-null   float64\n",
      "dtypes: float64(15), int64(1), object(12)\n",
      "memory usage: 1.9+ MB\n"
     ]
    }
   ],
   "source": [
    "companies_0.info()"
   ]
  },
  {
   "cell_type": "markdown",
   "metadata": {},
   "source": [
    "## Bigger dataset"
   ]
  },
  {
   "cell_type": "code",
   "execution_count": 30,
   "metadata": {
    "collapsed": true,
    "jupyter": {
     "outputs_hidden": true
    }
   },
   "outputs": [
    {
     "name": "stdout",
     "output_type": "stream",
     "text": [
      "        id  mean_comp_worked_before\n",
      "0      c:1                      1.5\n",
      "1   c:1001                      1.0\n",
      "2  c:10014                      3.0\n",
      "3  c:10015                      0.0\n",
      "4  c:10018                      0.0\n",
      "        id        normalized_name   category_code founded_at  \\\n",
      "0  c:60511  oasmia pharmaceutical         biotech        NaT   \n",
      "1    c:250         new york times            news        NaT   \n",
      "2  c:21572    tuenti technologies          social 2006-05-01   \n",
      "3  c:24864       general dynamics  transportation 1952-01-01   \n",
      "4   c:9786        lockheed martin        security 1995-03-01   \n",
      "\n",
      "                                         description closed_at    status  \\\n",
      "0  biotech     Oasmia Pharmaceutical AB develops ...       NaN       ipo   \n",
      "1  news The New York Times creates, collects and ...       NaN       ipo   \n",
      "2  social   Social Network Tuenti is a Madrid-bas...       NaN  acquired   \n",
      "3  transportation   Aviation, Combat, & Informati...       NaN       ipo   \n",
      "4  security   Aeronautics Lockheed Martin Corpora...       NaN       ipo   \n",
      "\n",
      "          exit            exit_date country_code  ... top_20 top_50  \\\n",
      "0          ipo  1972-06-01 00:00:00          SWE  ...    NaN    NaN   \n",
      "1          ipo  1973-05-03 00:00:00          USA  ...    NaN    NaN   \n",
      "2  acquisition  1974-07-07 00:00:00          ESP  ...    0.0    0.0   \n",
      "3          ipo  1977-01-03 00:00:00          USA  ...    NaN    NaN   \n",
      "4          ipo  1977-01-03 00:00:00          USA  ...    NaN    NaN   \n",
      "\n",
      "   top_5_bool  top_20_bool  top_50_bool  n_female_founders  female_ratio  \\\n",
      "0         NaN          NaN          NaN                NaN           NaN   \n",
      "1         NaN          NaN          NaN                NaN           NaN   \n",
      "2         1.0          0.0          0.0                0.0           0.0   \n",
      "3         NaN          NaN          NaN                NaN           NaN   \n",
      "4         NaN          NaN          NaN                NaN           NaN   \n",
      "\n",
      "   mean_comp_founded_ever  mean_comp_founded_before  mean_comp_worked_before  \n",
      "0                     NaN                       NaN                      NaN  \n",
      "1                     NaN                       NaN                      NaN  \n",
      "2                     1.4                       0.0                      0.0  \n",
      "3                     NaN                       NaN                      NaN  \n",
      "4                     NaN                       NaN                      NaN  \n",
      "\n",
      "[5 rows x 37 columns]\n"
     ]
    }
   ],
   "source": [
    "companies_0_big = get_training_data(reference=0, cut=\"2014\")"
   ]
  },
  {
   "cell_type": "code",
   "execution_count": 31,
   "metadata": {},
   "outputs": [],
   "source": [
    "companies_0_big = clean_training_data(companies_0_big, reference=0)"
   ]
  },
  {
   "cell_type": "code",
   "execution_count": 33,
   "metadata": {},
   "outputs": [
    {
     "name": "stdout",
     "output_type": "stream",
     "text": [
      "<class 'pandas.core.frame.DataFrame'>\n",
      "Int64Index: 31507 entries, 0 to 31506\n",
      "Data columns (total 28 columns):\n",
      " #   Column                     Non-Null Count  Dtype  \n",
      "---  ------                     --------------  -----  \n",
      " 0   id                         31507 non-null  object \n",
      " 1   normalized_name            31507 non-null  object \n",
      " 2   category_code              30294 non-null  object \n",
      " 3   founded_at                 24301 non-null  object \n",
      " 4   description                31366 non-null  object \n",
      " 5   closed_at                  2052 non-null   object \n",
      " 6   status                     31507 non-null  object \n",
      " 7   exit                       31507 non-null  object \n",
      " 8   exit_date                  2990 non-null   object \n",
      " 9   country_code               29445 non-null  object \n",
      " 10  state_code                 19442 non-null  object \n",
      " 11  participants_0             19885 non-null  float64\n",
      " 12  raised_amount_usd_0        26920 non-null  float64\n",
      " 13  timediff_founded_series_0  24301 non-null  object \n",
      " 14  graduate                   13036 non-null  float64\n",
      " 15  undergrad                  13036 non-null  float64\n",
      " 16  professional               13036 non-null  float64\n",
      " 17  degree_count               13036 non-null  float64\n",
      " 18  MBA_bool                   13036 non-null  float64\n",
      " 19  cs_bool                    13036 non-null  float64\n",
      " 20  phd_bool                   13036 non-null  float64\n",
      " 21  founder_count              13036 non-null  float64\n",
      " 22  top_20_bool                13036 non-null  float64\n",
      " 23  female_ratio               12615 non-null  float64\n",
      " 24  mean_comp_founded_before   13036 non-null  float64\n",
      " 25  mean_comp_worked_before    13014 non-null  float64\n",
      " 26  target                     31507 non-null  int64  \n",
      " 27  time_diff_series_0_now     31507 non-null  float64\n",
      "dtypes: float64(15), int64(1), object(12)\n",
      "memory usage: 7.0+ MB\n"
     ]
    }
   ],
   "source": [
    "companies_0_big.info()"
   ]
  },
  {
   "cell_type": "code",
   "execution_count": 58,
   "metadata": {},
   "outputs": [],
   "source": [
    "## Model"
   ]
  },
  {
   "cell_type": "code",
   "execution_count": 74,
   "metadata": {
    "collapsed": true,
    "jupyter": {
     "outputs_hidden": true
    }
   },
   "outputs": [
    {
     "ename": "KeyError",
     "evalue": "\"['id' 'status' 'exit' 'normalized_name' 'description' 'closed_at'\\n 'exit_date'] not found in axis\"",
     "output_type": "error",
     "traceback": [
      "\u001b[0;31m---------------------------------------------------------------------------\u001b[0m",
      "\u001b[0;31mKeyError\u001b[0m                                  Traceback (most recent call last)",
      "\u001b[0;32m<ipython-input-74-f23df4cced72>\u001b[0m in \u001b[0;36m<module>\u001b[0;34m\u001b[0m\n\u001b[0;32m----> 1\u001b[0;31m companies = companies.drop(columns=[\"id\",\"status\",\"exit\",\"normalized_name\", \"description\", \"closed_at\",\"exit_date\",\\\n\u001b[0m\u001b[1;32m      2\u001b[0m                            ]).dropna()\n",
      "\u001b[0;32m~/.pyenv/versions/3.7.7/envs/lewagon/lib/python3.7/site-packages/pandas/core/frame.py\u001b[0m in \u001b[0;36mdrop\u001b[0;34m(self, labels, axis, index, columns, level, inplace, errors)\u001b[0m\n\u001b[1;32m   4172\u001b[0m             \u001b[0mlevel\u001b[0m\u001b[0;34m=\u001b[0m\u001b[0mlevel\u001b[0m\u001b[0;34m,\u001b[0m\u001b[0;34m\u001b[0m\u001b[0;34m\u001b[0m\u001b[0m\n\u001b[1;32m   4173\u001b[0m             \u001b[0minplace\u001b[0m\u001b[0;34m=\u001b[0m\u001b[0minplace\u001b[0m\u001b[0;34m,\u001b[0m\u001b[0;34m\u001b[0m\u001b[0;34m\u001b[0m\u001b[0m\n\u001b[0;32m-> 4174\u001b[0;31m             \u001b[0merrors\u001b[0m\u001b[0;34m=\u001b[0m\u001b[0merrors\u001b[0m\u001b[0;34m,\u001b[0m\u001b[0;34m\u001b[0m\u001b[0;34m\u001b[0m\u001b[0m\n\u001b[0m\u001b[1;32m   4175\u001b[0m         )\n\u001b[1;32m   4176\u001b[0m \u001b[0;34m\u001b[0m\u001b[0m\n",
      "\u001b[0;32m~/.pyenv/versions/3.7.7/envs/lewagon/lib/python3.7/site-packages/pandas/core/generic.py\u001b[0m in \u001b[0;36mdrop\u001b[0;34m(self, labels, axis, index, columns, level, inplace, errors)\u001b[0m\n\u001b[1;32m   3885\u001b[0m         \u001b[0;32mfor\u001b[0m \u001b[0maxis\u001b[0m\u001b[0;34m,\u001b[0m \u001b[0mlabels\u001b[0m \u001b[0;32min\u001b[0m \u001b[0maxes\u001b[0m\u001b[0;34m.\u001b[0m\u001b[0mitems\u001b[0m\u001b[0;34m(\u001b[0m\u001b[0;34m)\u001b[0m\u001b[0;34m:\u001b[0m\u001b[0;34m\u001b[0m\u001b[0;34m\u001b[0m\u001b[0m\n\u001b[1;32m   3886\u001b[0m             \u001b[0;32mif\u001b[0m \u001b[0mlabels\u001b[0m \u001b[0;32mis\u001b[0m \u001b[0;32mnot\u001b[0m \u001b[0;32mNone\u001b[0m\u001b[0;34m:\u001b[0m\u001b[0;34m\u001b[0m\u001b[0;34m\u001b[0m\u001b[0m\n\u001b[0;32m-> 3887\u001b[0;31m                 \u001b[0mobj\u001b[0m \u001b[0;34m=\u001b[0m \u001b[0mobj\u001b[0m\u001b[0;34m.\u001b[0m\u001b[0m_drop_axis\u001b[0m\u001b[0;34m(\u001b[0m\u001b[0mlabels\u001b[0m\u001b[0;34m,\u001b[0m \u001b[0maxis\u001b[0m\u001b[0;34m,\u001b[0m \u001b[0mlevel\u001b[0m\u001b[0;34m=\u001b[0m\u001b[0mlevel\u001b[0m\u001b[0;34m,\u001b[0m \u001b[0merrors\u001b[0m\u001b[0;34m=\u001b[0m\u001b[0merrors\u001b[0m\u001b[0;34m)\u001b[0m\u001b[0;34m\u001b[0m\u001b[0;34m\u001b[0m\u001b[0m\n\u001b[0m\u001b[1;32m   3888\u001b[0m \u001b[0;34m\u001b[0m\u001b[0m\n\u001b[1;32m   3889\u001b[0m         \u001b[0;32mif\u001b[0m \u001b[0minplace\u001b[0m\u001b[0;34m:\u001b[0m\u001b[0;34m\u001b[0m\u001b[0;34m\u001b[0m\u001b[0m\n",
      "\u001b[0;32m~/.pyenv/versions/3.7.7/envs/lewagon/lib/python3.7/site-packages/pandas/core/generic.py\u001b[0m in \u001b[0;36m_drop_axis\u001b[0;34m(self, labels, axis, level, errors)\u001b[0m\n\u001b[1;32m   3919\u001b[0m                 \u001b[0mnew_axis\u001b[0m \u001b[0;34m=\u001b[0m \u001b[0maxis\u001b[0m\u001b[0;34m.\u001b[0m\u001b[0mdrop\u001b[0m\u001b[0;34m(\u001b[0m\u001b[0mlabels\u001b[0m\u001b[0;34m,\u001b[0m \u001b[0mlevel\u001b[0m\u001b[0;34m=\u001b[0m\u001b[0mlevel\u001b[0m\u001b[0;34m,\u001b[0m \u001b[0merrors\u001b[0m\u001b[0;34m=\u001b[0m\u001b[0merrors\u001b[0m\u001b[0;34m)\u001b[0m\u001b[0;34m\u001b[0m\u001b[0;34m\u001b[0m\u001b[0m\n\u001b[1;32m   3920\u001b[0m             \u001b[0;32melse\u001b[0m\u001b[0;34m:\u001b[0m\u001b[0;34m\u001b[0m\u001b[0;34m\u001b[0m\u001b[0m\n\u001b[0;32m-> 3921\u001b[0;31m                 \u001b[0mnew_axis\u001b[0m \u001b[0;34m=\u001b[0m \u001b[0maxis\u001b[0m\u001b[0;34m.\u001b[0m\u001b[0mdrop\u001b[0m\u001b[0;34m(\u001b[0m\u001b[0mlabels\u001b[0m\u001b[0;34m,\u001b[0m \u001b[0merrors\u001b[0m\u001b[0;34m=\u001b[0m\u001b[0merrors\u001b[0m\u001b[0;34m)\u001b[0m\u001b[0;34m\u001b[0m\u001b[0;34m\u001b[0m\u001b[0m\n\u001b[0m\u001b[1;32m   3922\u001b[0m             \u001b[0mresult\u001b[0m \u001b[0;34m=\u001b[0m \u001b[0mself\u001b[0m\u001b[0;34m.\u001b[0m\u001b[0mreindex\u001b[0m\u001b[0;34m(\u001b[0m\u001b[0;34m**\u001b[0m\u001b[0;34m{\u001b[0m\u001b[0maxis_name\u001b[0m\u001b[0;34m:\u001b[0m \u001b[0mnew_axis\u001b[0m\u001b[0;34m}\u001b[0m\u001b[0;34m)\u001b[0m\u001b[0;34m\u001b[0m\u001b[0;34m\u001b[0m\u001b[0m\n\u001b[1;32m   3923\u001b[0m \u001b[0;34m\u001b[0m\u001b[0m\n",
      "\u001b[0;32m~/.pyenv/versions/3.7.7/envs/lewagon/lib/python3.7/site-packages/pandas/core/indexes/base.py\u001b[0m in \u001b[0;36mdrop\u001b[0;34m(self, labels, errors)\u001b[0m\n\u001b[1;32m   5282\u001b[0m         \u001b[0;32mif\u001b[0m \u001b[0mmask\u001b[0m\u001b[0;34m.\u001b[0m\u001b[0many\u001b[0m\u001b[0;34m(\u001b[0m\u001b[0;34m)\u001b[0m\u001b[0;34m:\u001b[0m\u001b[0;34m\u001b[0m\u001b[0;34m\u001b[0m\u001b[0m\n\u001b[1;32m   5283\u001b[0m             \u001b[0;32mif\u001b[0m \u001b[0merrors\u001b[0m \u001b[0;34m!=\u001b[0m \u001b[0;34m\"ignore\"\u001b[0m\u001b[0;34m:\u001b[0m\u001b[0;34m\u001b[0m\u001b[0;34m\u001b[0m\u001b[0m\n\u001b[0;32m-> 5284\u001b[0;31m                 \u001b[0;32mraise\u001b[0m \u001b[0mKeyError\u001b[0m\u001b[0;34m(\u001b[0m\u001b[0;34mf\"{labels[mask]} not found in axis\"\u001b[0m\u001b[0;34m)\u001b[0m\u001b[0;34m\u001b[0m\u001b[0;34m\u001b[0m\u001b[0m\n\u001b[0m\u001b[1;32m   5285\u001b[0m             \u001b[0mindexer\u001b[0m \u001b[0;34m=\u001b[0m \u001b[0mindexer\u001b[0m\u001b[0;34m[\u001b[0m\u001b[0;34m~\u001b[0m\u001b[0mmask\u001b[0m\u001b[0;34m]\u001b[0m\u001b[0;34m\u001b[0m\u001b[0;34m\u001b[0m\u001b[0m\n\u001b[1;32m   5286\u001b[0m         \u001b[0;32mreturn\u001b[0m \u001b[0mself\u001b[0m\u001b[0;34m.\u001b[0m\u001b[0mdelete\u001b[0m\u001b[0;34m(\u001b[0m\u001b[0mindexer\u001b[0m\u001b[0;34m)\u001b[0m\u001b[0;34m\u001b[0m\u001b[0;34m\u001b[0m\u001b[0m\n",
      "\u001b[0;31mKeyError\u001b[0m: \"['id' 'status' 'exit' 'normalized_name' 'description' 'closed_at'\\n 'exit_date'] not found in axis\""
     ]
    }
   ],
   "source": [
    "companies = companies.drop(columns=[\"id\",\"status\",\"exit\",\"normalized_name\", \"description\", \"closed_at\",\"exit_date\",\\\n",
    "                           ])"
   ]
  },
  {
   "cell_type": "code",
   "execution_count": 75,
   "metadata": {},
   "outputs": [],
   "source": [
    "companies = companies.dropna()"
   ]
  },
  {
   "cell_type": "code",
   "execution_count": 76,
   "metadata": {},
   "outputs": [],
   "source": [
    "X = companies.drop(columns=[\"target\"\n",
    "                           ])"
   ]
  },
  {
   "cell_type": "code",
   "execution_count": 77,
   "metadata": {},
   "outputs": [
    {
     "name": "stdout",
     "output_type": "stream",
     "text": [
      "<class 'pandas.core.frame.DataFrame'>\n",
      "Int64Index: 2447 entries, 4 to 8801\n",
      "Data columns (total 21 columns):\n",
      " #   Column                     Non-Null Count  Dtype  \n",
      "---  ------                     --------------  -----  \n",
      " 0   category_code              2447 non-null   object \n",
      " 1   founded_at                 2447 non-null   object \n",
      " 2   country_code               2447 non-null   object \n",
      " 3   state_code                 2447 non-null   object \n",
      " 4   participants_a             2447 non-null   float64\n",
      " 5   raised_amount_usd_a        2447 non-null   float64\n",
      " 6   timediff_founded_series_a  2447 non-null   object \n",
      " 7   rounds_before_a            2447 non-null   int64  \n",
      " 8   graduate                   2447 non-null   float64\n",
      " 9   undergrad                  2447 non-null   float64\n",
      " 10  professional               2447 non-null   float64\n",
      " 11  degree_count               2447 non-null   float64\n",
      " 12  MBA_bool                   2447 non-null   float64\n",
      " 13  cs_bool                    2447 non-null   float64\n",
      " 14  phd_bool                   2447 non-null   float64\n",
      " 15  founder_count              2447 non-null   float64\n",
      " 16  top_20_bool                2447 non-null   float64\n",
      " 17  female_ratio               2447 non-null   float64\n",
      " 18  mean_comp_founded_before   2447 non-null   float64\n",
      " 19  mean_comp_worked_before    2447 non-null   float64\n",
      " 20  time_diff_series_a_now     2447 non-null   float64\n",
      "dtypes: float64(15), int64(1), object(5)\n",
      "memory usage: 420.6+ KB\n"
     ]
    }
   ],
   "source": [
    "X.info()"
   ]
  },
  {
   "cell_type": "code",
   "execution_count": 78,
   "metadata": {},
   "outputs": [],
   "source": [
    "y = companies.target"
   ]
  },
  {
   "cell_type": "code",
   "execution_count": 102,
   "metadata": {},
   "outputs": [],
   "source": [
    "from sklearn.model_selection import train_test_split\n",
    "X_train, X_test, y_train, y_test= train_test_split(X,y, random_state=42)"
   ]
  },
  {
   "cell_type": "code",
   "execution_count": 112,
   "metadata": {},
   "outputs": [],
   "source": [
    "from sklearn.linear_model import LogisticRegression\n",
    "from sklearn.pipeline import Pipeline\n",
    "from sklearn.preprocessing import OneHotEncoder\n",
    "import xgboost as xgb"
   ]
  },
  {
   "cell_type": "code",
   "execution_count": 103,
   "metadata": {},
   "outputs": [],
   "source": [
    "encoder = OneHotEncoder(handle_unknown='ignore')"
   ]
  },
  {
   "cell_type": "code",
   "execution_count": 292,
   "metadata": {},
   "outputs": [],
   "source": [
    "pipeline= Pipeline([(\"ohe\", encoder)\\\n",
    "                    , (\"model\", xgb.XGBClassifier(gamma=0.001,learning_rate=2,\n",
    "                                                  colsample_bytree = 0.4, subsample = 0.8,\n",
    "                                                 n_estimators=100, max_depth=5))])"
   ]
  },
  {
   "cell_type": "code",
   "execution_count": 293,
   "metadata": {},
   "outputs": [
    {
     "data": {
      "text/plain": [
       "Pipeline(memory=None,\n",
       "     steps=[('ohe', OneHotEncoder(categorical_features=None, categories=None,\n",
       "       dtype=<class 'numpy.float64'>, handle_unknown='ignore',\n",
       "       n_values=None, sparse=True)), ('model', XGBClassifier(base_score=0.5, booster='gbtree', colsample_bylevel=1,\n",
       "       colsample_bynode=1, colsample_bytree=0.4,...le_pos_weight=1, subsample=0.8,\n",
       "       tree_method='exact', validate_parameters=1, verbosity=None))])"
      ]
     },
     "execution_count": 293,
     "metadata": {},
     "output_type": "execute_result"
    }
   ],
   "source": [
    "pipeline.fit(X_train,y_train)\n",
    "#eval_set = [(X_test, y_test)]"
   ]
  },
  {
   "cell_type": "code",
   "execution_count": 294,
   "metadata": {},
   "outputs": [
    {
     "data": {
      "text/plain": [
       "0.852316076294278"
      ]
     },
     "execution_count": 294,
     "metadata": {},
     "output_type": "execute_result"
    }
   ],
   "source": [
    "pipeline.score(X_train,y_train)"
   ]
  },
  {
   "cell_type": "code",
   "execution_count": 295,
   "metadata": {},
   "outputs": [
    {
     "data": {
      "text/plain": [
       "0.75"
      ]
     },
     "execution_count": 295,
     "metadata": {},
     "output_type": "execute_result"
    }
   ],
   "source": [
    "pipeline.score(X_test,y_test)"
   ]
  },
  {
   "cell_type": "code",
   "execution_count": 296,
   "metadata": {},
   "outputs": [
    {
     "data": {
      "text/plain": [
       "0.5475792988313856"
      ]
     },
     "execution_count": 296,
     "metadata": {},
     "output_type": "execute_result"
    }
   ],
   "source": [
    "from sklearn.metrics import f1_score\n",
    "y_pred = pipeline.predict(X_train)\n",
    "f1_score(y_train,y_pred)"
   ]
  },
  {
   "cell_type": "code",
   "execution_count": 297,
   "metadata": {},
   "outputs": [
    {
     "data": {
      "text/plain": [
       "0.30136986301369867"
      ]
     },
     "execution_count": 297,
     "metadata": {},
     "output_type": "execute_result"
    }
   ],
   "source": [
    "y_pred = pipeline.predict(X_test)\n",
    "f1_score(y_test,y_pred)"
   ]
  },
  {
   "cell_type": "code",
   "execution_count": 169,
   "metadata": {},
   "outputs": [],
   "source": [
    "catcols = [\"category_code\", \"founded_at\", \"country_code\",\"state_code\",]"
   ]
  },
  {
   "cell_type": "code",
   "execution_count": 67,
   "metadata": {},
   "outputs": [
    {
     "name": "stderr",
     "output_type": "stream",
     "text": [
      "/Users/joannavitiello/.pyenv/versions/3.7.7/envs/lewagon/lib/python3.7/site-packages/sklearn/linear_model/logistic.py:433: FutureWarning: Default solver will be changed to 'lbfgs' in 0.22. Specify a solver to silence this warning.\n",
      "  FutureWarning)\n"
     ]
    },
    {
     "ename": "ValueError",
     "evalue": "could not convert string to float: 'software'",
     "output_type": "error",
     "traceback": [
      "\u001b[0;31m---------------------------------------------------------------------------\u001b[0m",
      "\u001b[0;31mValueError\u001b[0m                                Traceback (most recent call last)",
      "\u001b[0;32m<ipython-input-67-466a650c2d5a>\u001b[0m in \u001b[0;36m<module>\u001b[0;34m\u001b[0m\n\u001b[1;32m      1\u001b[0m \u001b[0mmodel\u001b[0m \u001b[0;34m=\u001b[0m \u001b[0mLogisticRegression\u001b[0m\u001b[0;34m(\u001b[0m\u001b[0mclass_weight\u001b[0m\u001b[0;34m=\u001b[0m\u001b[0;34m\"balanced\"\u001b[0m\u001b[0;34m)\u001b[0m\u001b[0;34m\u001b[0m\u001b[0;34m\u001b[0m\u001b[0m\n\u001b[0;32m----> 2\u001b[0;31m \u001b[0mmodel\u001b[0m\u001b[0;34m.\u001b[0m\u001b[0mfit\u001b[0m\u001b[0;34m(\u001b[0m\u001b[0mX\u001b[0m\u001b[0;34m,\u001b[0m\u001b[0my\u001b[0m\u001b[0;34m)\u001b[0m\u001b[0;34m\u001b[0m\u001b[0;34m\u001b[0m\u001b[0m\n\u001b[0m\u001b[1;32m      3\u001b[0m \u001b[0mmodel\u001b[0m\u001b[0;34m.\u001b[0m\u001b[0mscore\u001b[0m\u001b[0;34m(\u001b[0m\u001b[0mX\u001b[0m\u001b[0;34m,\u001b[0m\u001b[0my\u001b[0m\u001b[0;34m)\u001b[0m\u001b[0;34m\u001b[0m\u001b[0;34m\u001b[0m\u001b[0m\n",
      "\u001b[0;32m~/.pyenv/versions/3.7.7/envs/lewagon/lib/python3.7/site-packages/sklearn/linear_model/logistic.py\u001b[0m in \u001b[0;36mfit\u001b[0;34m(self, X, y, sample_weight)\u001b[0m\n\u001b[1;32m   1286\u001b[0m \u001b[0;34m\u001b[0m\u001b[0m\n\u001b[1;32m   1287\u001b[0m         X, y = check_X_y(X, y, accept_sparse='csr', dtype=_dtype, order=\"C\",\n\u001b[0;32m-> 1288\u001b[0;31m                          accept_large_sparse=solver != 'liblinear')\n\u001b[0m\u001b[1;32m   1289\u001b[0m         \u001b[0mcheck_classification_targets\u001b[0m\u001b[0;34m(\u001b[0m\u001b[0my\u001b[0m\u001b[0;34m)\u001b[0m\u001b[0;34m\u001b[0m\u001b[0;34m\u001b[0m\u001b[0m\n\u001b[1;32m   1290\u001b[0m         \u001b[0mself\u001b[0m\u001b[0;34m.\u001b[0m\u001b[0mclasses_\u001b[0m \u001b[0;34m=\u001b[0m \u001b[0mnp\u001b[0m\u001b[0;34m.\u001b[0m\u001b[0munique\u001b[0m\u001b[0;34m(\u001b[0m\u001b[0my\u001b[0m\u001b[0;34m)\u001b[0m\u001b[0;34m\u001b[0m\u001b[0;34m\u001b[0m\u001b[0m\n",
      "\u001b[0;32m~/.pyenv/versions/3.7.7/envs/lewagon/lib/python3.7/site-packages/sklearn/utils/validation.py\u001b[0m in \u001b[0;36mcheck_X_y\u001b[0;34m(X, y, accept_sparse, accept_large_sparse, dtype, order, copy, force_all_finite, ensure_2d, allow_nd, multi_output, ensure_min_samples, ensure_min_features, y_numeric, warn_on_dtype, estimator)\u001b[0m\n\u001b[1;32m    754\u001b[0m                     \u001b[0mensure_min_features\u001b[0m\u001b[0;34m=\u001b[0m\u001b[0mensure_min_features\u001b[0m\u001b[0;34m,\u001b[0m\u001b[0;34m\u001b[0m\u001b[0;34m\u001b[0m\u001b[0m\n\u001b[1;32m    755\u001b[0m                     \u001b[0mwarn_on_dtype\u001b[0m\u001b[0;34m=\u001b[0m\u001b[0mwarn_on_dtype\u001b[0m\u001b[0;34m,\u001b[0m\u001b[0;34m\u001b[0m\u001b[0;34m\u001b[0m\u001b[0m\n\u001b[0;32m--> 756\u001b[0;31m                     estimator=estimator)\n\u001b[0m\u001b[1;32m    757\u001b[0m     \u001b[0;32mif\u001b[0m \u001b[0mmulti_output\u001b[0m\u001b[0;34m:\u001b[0m\u001b[0;34m\u001b[0m\u001b[0;34m\u001b[0m\u001b[0m\n\u001b[1;32m    758\u001b[0m         y = check_array(y, 'csr', force_all_finite=True, ensure_2d=False,\n",
      "\u001b[0;32m~/.pyenv/versions/3.7.7/envs/lewagon/lib/python3.7/site-packages/sklearn/utils/validation.py\u001b[0m in \u001b[0;36mcheck_array\u001b[0;34m(array, accept_sparse, accept_large_sparse, dtype, order, copy, force_all_finite, ensure_2d, allow_nd, ensure_min_samples, ensure_min_features, warn_on_dtype, estimator)\u001b[0m\n\u001b[1;32m    525\u001b[0m             \u001b[0;32mtry\u001b[0m\u001b[0;34m:\u001b[0m\u001b[0;34m\u001b[0m\u001b[0;34m\u001b[0m\u001b[0m\n\u001b[1;32m    526\u001b[0m                 \u001b[0mwarnings\u001b[0m\u001b[0;34m.\u001b[0m\u001b[0msimplefilter\u001b[0m\u001b[0;34m(\u001b[0m\u001b[0;34m'error'\u001b[0m\u001b[0;34m,\u001b[0m \u001b[0mComplexWarning\u001b[0m\u001b[0;34m)\u001b[0m\u001b[0;34m\u001b[0m\u001b[0;34m\u001b[0m\u001b[0m\n\u001b[0;32m--> 527\u001b[0;31m                 \u001b[0marray\u001b[0m \u001b[0;34m=\u001b[0m \u001b[0mnp\u001b[0m\u001b[0;34m.\u001b[0m\u001b[0masarray\u001b[0m\u001b[0;34m(\u001b[0m\u001b[0marray\u001b[0m\u001b[0;34m,\u001b[0m \u001b[0mdtype\u001b[0m\u001b[0;34m=\u001b[0m\u001b[0mdtype\u001b[0m\u001b[0;34m,\u001b[0m \u001b[0morder\u001b[0m\u001b[0;34m=\u001b[0m\u001b[0morder\u001b[0m\u001b[0;34m)\u001b[0m\u001b[0;34m\u001b[0m\u001b[0;34m\u001b[0m\u001b[0m\n\u001b[0m\u001b[1;32m    528\u001b[0m             \u001b[0;32mexcept\u001b[0m \u001b[0mComplexWarning\u001b[0m\u001b[0;34m:\u001b[0m\u001b[0;34m\u001b[0m\u001b[0;34m\u001b[0m\u001b[0m\n\u001b[1;32m    529\u001b[0m                 raise ValueError(\"Complex data not supported\\n\"\n",
      "\u001b[0;32m~/.pyenv/versions/3.7.7/envs/lewagon/lib/python3.7/site-packages/numpy/core/_asarray.py\u001b[0m in \u001b[0;36masarray\u001b[0;34m(a, dtype, order)\u001b[0m\n\u001b[1;32m     83\u001b[0m \u001b[0;34m\u001b[0m\u001b[0m\n\u001b[1;32m     84\u001b[0m     \"\"\"\n\u001b[0;32m---> 85\u001b[0;31m     \u001b[0;32mreturn\u001b[0m \u001b[0marray\u001b[0m\u001b[0;34m(\u001b[0m\u001b[0ma\u001b[0m\u001b[0;34m,\u001b[0m \u001b[0mdtype\u001b[0m\u001b[0;34m,\u001b[0m \u001b[0mcopy\u001b[0m\u001b[0;34m=\u001b[0m\u001b[0;32mFalse\u001b[0m\u001b[0;34m,\u001b[0m \u001b[0morder\u001b[0m\u001b[0;34m=\u001b[0m\u001b[0morder\u001b[0m\u001b[0;34m)\u001b[0m\u001b[0;34m\u001b[0m\u001b[0;34m\u001b[0m\u001b[0m\n\u001b[0m\u001b[1;32m     86\u001b[0m \u001b[0;34m\u001b[0m\u001b[0m\n\u001b[1;32m     87\u001b[0m \u001b[0;34m\u001b[0m\u001b[0m\n",
      "\u001b[0;32m~/.pyenv/versions/3.7.7/envs/lewagon/lib/python3.7/site-packages/pandas/core/generic.py\u001b[0m in \u001b[0;36m__array__\u001b[0;34m(self, dtype)\u001b[0m\n\u001b[1;32m   1779\u001b[0m \u001b[0;34m\u001b[0m\u001b[0m\n\u001b[1;32m   1780\u001b[0m     \u001b[0;32mdef\u001b[0m \u001b[0m__array__\u001b[0m\u001b[0;34m(\u001b[0m\u001b[0mself\u001b[0m\u001b[0;34m,\u001b[0m \u001b[0mdtype\u001b[0m\u001b[0;34m=\u001b[0m\u001b[0;32mNone\u001b[0m\u001b[0;34m)\u001b[0m \u001b[0;34m->\u001b[0m \u001b[0mnp\u001b[0m\u001b[0;34m.\u001b[0m\u001b[0mndarray\u001b[0m\u001b[0;34m:\u001b[0m\u001b[0;34m\u001b[0m\u001b[0;34m\u001b[0m\u001b[0m\n\u001b[0;32m-> 1781\u001b[0;31m         \u001b[0;32mreturn\u001b[0m \u001b[0mnp\u001b[0m\u001b[0;34m.\u001b[0m\u001b[0masarray\u001b[0m\u001b[0;34m(\u001b[0m\u001b[0mself\u001b[0m\u001b[0;34m.\u001b[0m\u001b[0m_values\u001b[0m\u001b[0;34m,\u001b[0m \u001b[0mdtype\u001b[0m\u001b[0;34m=\u001b[0m\u001b[0mdtype\u001b[0m\u001b[0;34m)\u001b[0m\u001b[0;34m\u001b[0m\u001b[0;34m\u001b[0m\u001b[0m\n\u001b[0m\u001b[1;32m   1782\u001b[0m \u001b[0;34m\u001b[0m\u001b[0m\n\u001b[1;32m   1783\u001b[0m     \u001b[0;32mdef\u001b[0m \u001b[0m__array_wrap__\u001b[0m\u001b[0;34m(\u001b[0m\u001b[0mself\u001b[0m\u001b[0;34m,\u001b[0m \u001b[0mresult\u001b[0m\u001b[0;34m,\u001b[0m \u001b[0mcontext\u001b[0m\u001b[0;34m=\u001b[0m\u001b[0;32mNone\u001b[0m\u001b[0;34m)\u001b[0m\u001b[0;34m:\u001b[0m\u001b[0;34m\u001b[0m\u001b[0;34m\u001b[0m\u001b[0m\n",
      "\u001b[0;32m~/.pyenv/versions/3.7.7/envs/lewagon/lib/python3.7/site-packages/numpy/core/_asarray.py\u001b[0m in \u001b[0;36masarray\u001b[0;34m(a, dtype, order)\u001b[0m\n\u001b[1;32m     83\u001b[0m \u001b[0;34m\u001b[0m\u001b[0m\n\u001b[1;32m     84\u001b[0m     \"\"\"\n\u001b[0;32m---> 85\u001b[0;31m     \u001b[0;32mreturn\u001b[0m \u001b[0marray\u001b[0m\u001b[0;34m(\u001b[0m\u001b[0ma\u001b[0m\u001b[0;34m,\u001b[0m \u001b[0mdtype\u001b[0m\u001b[0;34m,\u001b[0m \u001b[0mcopy\u001b[0m\u001b[0;34m=\u001b[0m\u001b[0;32mFalse\u001b[0m\u001b[0;34m,\u001b[0m \u001b[0morder\u001b[0m\u001b[0;34m=\u001b[0m\u001b[0morder\u001b[0m\u001b[0;34m)\u001b[0m\u001b[0;34m\u001b[0m\u001b[0;34m\u001b[0m\u001b[0m\n\u001b[0m\u001b[1;32m     86\u001b[0m \u001b[0;34m\u001b[0m\u001b[0m\n\u001b[1;32m     87\u001b[0m \u001b[0;34m\u001b[0m\u001b[0m\n",
      "\u001b[0;31mValueError\u001b[0m: could not convert string to float: 'software'"
     ]
    }
   ],
   "source": [
    "model = LogisticRegression(class_weight=\"balanced\")\n",
    "model.fit(X,y)\n",
    "model.score(X,y)"
   ]
  },
  {
   "cell_type": "code",
   "execution_count": null,
   "metadata": {},
   "outputs": [],
   "source": []
  }
 ],
 "metadata": {
  "kernelspec": {
   "display_name": "Python 3",
   "language": "python",
   "name": "python3"
  },
  "language_info": {
   "codemirror_mode": {
    "name": "ipython",
    "version": 3
   },
   "file_extension": ".py",
   "mimetype": "text/x-python",
   "name": "python",
   "nbconvert_exporter": "python",
   "pygments_lexer": "ipython3",
   "version": "3.7.7"
  }
 },
 "nbformat": 4,
 "nbformat_minor": 4
}
