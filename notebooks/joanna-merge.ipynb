{
 "cells": [
  {
   "cell_type": "code",
   "execution_count": 99,
   "metadata": {},
   "outputs": [],
   "source": [
    "# Outliers to drop"
   ]
  },
  {
   "cell_type": "code",
   "execution_count": 153,
   "metadata": {},
   "outputs": [
    {
     "data": {
      "text/html": [
       "<div>\n",
       "<style scoped>\n",
       "    .dataframe tbody tr th:only-of-type {\n",
       "        vertical-align: middle;\n",
       "    }\n",
       "\n",
       "    .dataframe tbody tr th {\n",
       "        vertical-align: top;\n",
       "    }\n",
       "\n",
       "    .dataframe thead th {\n",
       "        text-align: right;\n",
       "    }\n",
       "</style>\n",
       "<table border=\"1\" class=\"dataframe\">\n",
       "  <thead>\n",
       "    <tr style=\"text-align: right;\">\n",
       "      <th></th>\n",
       "      <th>id</th>\n",
       "      <th>normalized_name</th>\n",
       "      <th>category_code</th>\n",
       "      <th>founded_at</th>\n",
       "      <th>description</th>\n",
       "      <th>closed_at</th>\n",
       "      <th>status</th>\n",
       "      <th>exit</th>\n",
       "      <th>exit_date</th>\n",
       "      <th>country_code</th>\n",
       "      <th>...</th>\n",
       "      <th>top_50</th>\n",
       "      <th>top_5_bool</th>\n",
       "      <th>top_20_bool</th>\n",
       "      <th>top_50_bool</th>\n",
       "      <th>n_female_founders</th>\n",
       "      <th>female_ratio</th>\n",
       "      <th>mean_comp_founded_ever</th>\n",
       "      <th>mean_comp_founded_before</th>\n",
       "      <th>mean_comp_worked_before</th>\n",
       "      <th>target</th>\n",
       "    </tr>\n",
       "  </thead>\n",
       "  <tbody>\n",
       "    <tr>\n",
       "      <th>796</th>\n",
       "      <td>c:2623</td>\n",
       "      <td>epals</td>\n",
       "      <td>web</td>\n",
       "      <td>1996-01-01</td>\n",
       "      <td>web   Online Education Community ePals Corpora...</td>\n",
       "      <td>NaT</td>\n",
       "      <td>ipo</td>\n",
       "      <td>ipo</td>\n",
       "      <td>2020-09-08</td>\n",
       "      <td>USA</td>\n",
       "      <td>...</td>\n",
       "      <td>0.0</td>\n",
       "      <td>0.0</td>\n",
       "      <td>1.0</td>\n",
       "      <td>0.0</td>\n",
       "      <td>1.0</td>\n",
       "      <td>1.0</td>\n",
       "      <td>1.0</td>\n",
       "      <td>0.0</td>\n",
       "      <td>0.0</td>\n",
       "      <td>1</td>\n",
       "    </tr>\n",
       "  </tbody>\n",
       "</table>\n",
       "<p>1 rows × 41 columns</p>\n",
       "</div>"
      ],
      "text/plain": [
       "         id normalized_name category_code founded_at  \\\n",
       "796  c:2623           epals           web 1996-01-01   \n",
       "\n",
       "                                           description closed_at status exit  \\\n",
       "796  web   Online Education Community ePals Corpora...       NaT    ipo  ipo   \n",
       "\n",
       "     exit_date country_code  ... top_50 top_5_bool  top_20_bool  top_50_bool  \\\n",
       "796 2020-09-08          USA  ...    0.0        0.0          1.0          0.0   \n",
       "\n",
       "     n_female_founders  female_ratio  mean_comp_founded_ever  \\\n",
       "796                1.0           1.0                     1.0   \n",
       "\n",
       "     mean_comp_founded_before  mean_comp_worked_before  target  \n",
       "796                       0.0                      0.0       1  \n",
       "\n",
       "[1 rows x 41 columns]"
      ]
     },
     "execution_count": 153,
     "metadata": {},
     "output_type": "execute_result"
    }
   ],
   "source": [
    "companies[companies.exit_date > \"2014\"]"
   ]
  },
  {
   "cell_type": "code",
   "execution_count": null,
   "metadata": {},
   "outputs": [],
   "source": [
    "# imputing\n"
   ]
  },
  {
   "cell_type": "code",
   "execution_count": null,
   "metadata": {},
   "outputs": [],
   "source": [
    "# OHE\n",
    "# does OHE work for nan values ? cause then you can juste use still the state codes"
   ]
  },
  {
   "cell_type": "code",
   "execution_count": null,
   "metadata": {},
   "outputs": [],
   "source": [
    "# wondering if shouldn't do analysis just for silicon valley"
   ]
  },
  {
   "cell_type": "code",
   "execution_count": 148,
   "metadata": {},
   "outputs": [],
   "source": [
    "# intution:\n",
    "## companies founded arount 2000 had higher shares or acquisisitions and ipos\n",
    "## higher share of companies with ipos if series a was around 2000\n",
    "## higher rate of failure in Texas"
   ]
  },
  {
   "cell_type": "markdown",
   "metadata": {},
   "source": [
    "# Data Analysis"
   ]
  },
  {
   "cell_type": "code",
   "execution_count": 1,
   "metadata": {},
   "outputs": [],
   "source": [
    "import pandas as pd\n",
    "import numpy as np\n",
    "import os\n",
    "import pandas_profiling"
   ]
  },
  {
   "cell_type": "code",
   "execution_count": 2,
   "metadata": {},
   "outputs": [],
   "source": [
    "%load_ext autoreload\n",
    "%autoreload 2"
   ]
  },
  {
   "cell_type": "code",
   "execution_count": 5,
   "metadata": {},
   "outputs": [],
   "source": [
    "from invesscience.joanna_merge_2 import get_training_data "
   ]
  },
  {
   "cell_type": "code",
   "execution_count": 93,
   "metadata": {
    "collapsed": true,
    "jupyter": {
     "outputs_hidden": true
    }
   },
   "outputs": [
    {
     "name": "stdout",
     "output_type": "stream",
     "text": [
      "        id  mean_comp_worked_before\n",
      "0      c:1                     0.50\n",
      "1   c:1001                     0.75\n",
      "2  c:10015                     0.00\n",
      "3   c:1003                     0.50\n",
      "4  c:10054                     0.00\n",
      "        id    normalized_name    category_code founded_at  \\\n",
      "0   c:1349      move networks         software        NaT   \n",
      "1   c:4584        modern feed      games_video 2007-01-01   \n",
      "2  c:16612  micron technology    semiconductor 1978-01-01   \n",
      "3     c:28              cisco  network_hosting 1984-01-01   \n",
      "4     c:29              yahoo              web 1994-01-01   \n",
      "\n",
      "                                         description closed_at    status  \\\n",
      "0  software Move Networks is a streaming tech pla...       NaN  acquired   \n",
      "1  games_video     [Modern Feed](http://www.moder...       NaN  acquired   \n",
      "2  semiconductor   Semiconductor Applications Mic...       NaN       ipo   \n",
      "3  network_hosting     Cisco designs and sells ha...       NaN       ipo   \n",
      "4  web   News and On-line directory Yahoo was fou...       NaN       ipo   \n",
      "\n",
      "          exit            exit_date country_code  ... top_20 top_50  \\\n",
      "0  acquisition  1987-06-16 00:00:00          USA  ...    NaN    NaN   \n",
      "1  acquisition  1987-06-16 00:00:00          USA  ...    0.0    1.0   \n",
      "2          ipo  1990-01-02 00:00:00          USA  ...    NaN    NaN   \n",
      "3          ipo  1990-02-23 00:00:00          USA  ...    0.0    0.0   \n",
      "4          ipo  1996-04-12 00:00:00          USA  ...    0.0    0.2   \n",
      "\n",
      "   top_5_bool  top_20_bool  top_50_bool  n_female_founders  female_ratio  \\\n",
      "0         NaN          NaN          NaN                NaN           NaN   \n",
      "1         0.0          0.0          1.0                0.0           0.0   \n",
      "2         NaN          NaN          NaN                NaN           NaN   \n",
      "3         0.0          0.0          0.0                0.0           0.0   \n",
      "4         1.0          0.0          1.0                0.0           0.0   \n",
      "\n",
      "   mean_comp_founded_ever  mean_comp_founded_before  mean_comp_worked_before  \n",
      "0                     NaN                       NaN                      NaN  \n",
      "1                     1.0                       0.0                      0.0  \n",
      "2                     NaN                       NaN                      NaN  \n",
      "3                     1.0                       0.0                      0.0  \n",
      "4                     1.2                       0.0                      0.0  \n",
      "\n",
      "[5 rows x 40 columns]\n"
     ]
    }
   ],
   "source": [
    "companies = get_training_data(reference=\"a\")"
   ]
  },
  {
   "cell_type": "code",
   "execution_count": 7,
   "metadata": {},
   "outputs": [
    {
     "data": {
      "text/html": [
       "<div>\n",
       "<style scoped>\n",
       "    .dataframe tbody tr th:only-of-type {\n",
       "        vertical-align: middle;\n",
       "    }\n",
       "\n",
       "    .dataframe tbody tr th {\n",
       "        vertical-align: top;\n",
       "    }\n",
       "\n",
       "    .dataframe thead th {\n",
       "        text-align: right;\n",
       "    }\n",
       "</style>\n",
       "<table border=\"1\" class=\"dataframe\">\n",
       "  <thead>\n",
       "    <tr style=\"text-align: right;\">\n",
       "      <th></th>\n",
       "      <th>id</th>\n",
       "      <th>normalized_name</th>\n",
       "      <th>category_code</th>\n",
       "      <th>founded_at</th>\n",
       "      <th>description</th>\n",
       "      <th>closed_at</th>\n",
       "      <th>status</th>\n",
       "      <th>exit</th>\n",
       "      <th>exit_date</th>\n",
       "      <th>country_code</th>\n",
       "      <th>...</th>\n",
       "      <th>top_50</th>\n",
       "      <th>top_5_bool</th>\n",
       "      <th>top_20_bool</th>\n",
       "      <th>top_50_bool</th>\n",
       "      <th>n_female_founders</th>\n",
       "      <th>female_ratio</th>\n",
       "      <th>mean_comp_founded_ever</th>\n",
       "      <th>mean_comp_founded_before</th>\n",
       "      <th>mean_comp_worked_before</th>\n",
       "      <th>target</th>\n",
       "    </tr>\n",
       "  </thead>\n",
       "  <tbody>\n",
       "    <tr>\n",
       "      <th>0</th>\n",
       "      <td>c:1349</td>\n",
       "      <td>move networks</td>\n",
       "      <td>software</td>\n",
       "      <td>NaT</td>\n",
       "      <td>software Move Networks is a streaming tech pla...</td>\n",
       "      <td>NaN</td>\n",
       "      <td>acquired</td>\n",
       "      <td>acquisition</td>\n",
       "      <td>1987-06-16 00:00:00</td>\n",
       "      <td>USA</td>\n",
       "      <td>...</td>\n",
       "      <td>NaN</td>\n",
       "      <td>NaN</td>\n",
       "      <td>NaN</td>\n",
       "      <td>NaN</td>\n",
       "      <td>NaN</td>\n",
       "      <td>NaN</td>\n",
       "      <td>NaN</td>\n",
       "      <td>NaN</td>\n",
       "      <td>NaN</td>\n",
       "      <td>1</td>\n",
       "    </tr>\n",
       "    <tr>\n",
       "      <th>1</th>\n",
       "      <td>c:4584</td>\n",
       "      <td>modern feed</td>\n",
       "      <td>games_video</td>\n",
       "      <td>2007-01-01</td>\n",
       "      <td>games_video     [Modern Feed](http://www.moder...</td>\n",
       "      <td>NaN</td>\n",
       "      <td>acquired</td>\n",
       "      <td>acquisition</td>\n",
       "      <td>1987-06-16 00:00:00</td>\n",
       "      <td>USA</td>\n",
       "      <td>...</td>\n",
       "      <td>1.0</td>\n",
       "      <td>0.0</td>\n",
       "      <td>0.0</td>\n",
       "      <td>1.0</td>\n",
       "      <td>0.0</td>\n",
       "      <td>0.0</td>\n",
       "      <td>1.0</td>\n",
       "      <td>0.0</td>\n",
       "      <td>0.0</td>\n",
       "      <td>1</td>\n",
       "    </tr>\n",
       "    <tr>\n",
       "      <th>2</th>\n",
       "      <td>c:16612</td>\n",
       "      <td>micron technology</td>\n",
       "      <td>semiconductor</td>\n",
       "      <td>1978-01-01</td>\n",
       "      <td>semiconductor   Semiconductor Applications Mic...</td>\n",
       "      <td>NaN</td>\n",
       "      <td>ipo</td>\n",
       "      <td>ipo</td>\n",
       "      <td>1990-01-02 00:00:00</td>\n",
       "      <td>USA</td>\n",
       "      <td>...</td>\n",
       "      <td>NaN</td>\n",
       "      <td>NaN</td>\n",
       "      <td>NaN</td>\n",
       "      <td>NaN</td>\n",
       "      <td>NaN</td>\n",
       "      <td>NaN</td>\n",
       "      <td>NaN</td>\n",
       "      <td>NaN</td>\n",
       "      <td>NaN</td>\n",
       "      <td>1</td>\n",
       "    </tr>\n",
       "    <tr>\n",
       "      <th>3</th>\n",
       "      <td>c:28</td>\n",
       "      <td>cisco</td>\n",
       "      <td>network_hosting</td>\n",
       "      <td>1984-01-01</td>\n",
       "      <td>network_hosting     Cisco designs and sells ha...</td>\n",
       "      <td>NaN</td>\n",
       "      <td>ipo</td>\n",
       "      <td>ipo</td>\n",
       "      <td>1990-02-23 00:00:00</td>\n",
       "      <td>USA</td>\n",
       "      <td>...</td>\n",
       "      <td>0.0</td>\n",
       "      <td>0.0</td>\n",
       "      <td>0.0</td>\n",
       "      <td>0.0</td>\n",
       "      <td>0.0</td>\n",
       "      <td>0.0</td>\n",
       "      <td>1.0</td>\n",
       "      <td>0.0</td>\n",
       "      <td>0.0</td>\n",
       "      <td>1</td>\n",
       "    </tr>\n",
       "    <tr>\n",
       "      <th>4</th>\n",
       "      <td>c:29</td>\n",
       "      <td>yahoo</td>\n",
       "      <td>web</td>\n",
       "      <td>1994-01-01</td>\n",
       "      <td>web   News and On-line directory Yahoo was fou...</td>\n",
       "      <td>NaN</td>\n",
       "      <td>ipo</td>\n",
       "      <td>ipo</td>\n",
       "      <td>1996-04-12 00:00:00</td>\n",
       "      <td>USA</td>\n",
       "      <td>...</td>\n",
       "      <td>0.2</td>\n",
       "      <td>1.0</td>\n",
       "      <td>0.0</td>\n",
       "      <td>1.0</td>\n",
       "      <td>0.0</td>\n",
       "      <td>0.0</td>\n",
       "      <td>1.2</td>\n",
       "      <td>0.0</td>\n",
       "      <td>0.0</td>\n",
       "      <td>1</td>\n",
       "    </tr>\n",
       "  </tbody>\n",
       "</table>\n",
       "<p>5 rows × 41 columns</p>\n",
       "</div>"
      ],
      "text/plain": [
       "        id    normalized_name    category_code founded_at  \\\n",
       "0   c:1349      move networks         software        NaT   \n",
       "1   c:4584        modern feed      games_video 2007-01-01   \n",
       "2  c:16612  micron technology    semiconductor 1978-01-01   \n",
       "3     c:28              cisco  network_hosting 1984-01-01   \n",
       "4     c:29              yahoo              web 1994-01-01   \n",
       "\n",
       "                                         description closed_at    status  \\\n",
       "0  software Move Networks is a streaming tech pla...       NaN  acquired   \n",
       "1  games_video     [Modern Feed](http://www.moder...       NaN  acquired   \n",
       "2  semiconductor   Semiconductor Applications Mic...       NaN       ipo   \n",
       "3  network_hosting     Cisco designs and sells ha...       NaN       ipo   \n",
       "4  web   News and On-line directory Yahoo was fou...       NaN       ipo   \n",
       "\n",
       "          exit            exit_date country_code  ... top_50 top_5_bool  \\\n",
       "0  acquisition  1987-06-16 00:00:00          USA  ...    NaN        NaN   \n",
       "1  acquisition  1987-06-16 00:00:00          USA  ...    1.0        0.0   \n",
       "2          ipo  1990-01-02 00:00:00          USA  ...    NaN        NaN   \n",
       "3          ipo  1990-02-23 00:00:00          USA  ...    0.0        0.0   \n",
       "4          ipo  1996-04-12 00:00:00          USA  ...    0.2        1.0   \n",
       "\n",
       "   top_20_bool  top_50_bool  n_female_founders  female_ratio  \\\n",
       "0          NaN          NaN                NaN           NaN   \n",
       "1          0.0          1.0                0.0           0.0   \n",
       "2          NaN          NaN                NaN           NaN   \n",
       "3          0.0          0.0                0.0           0.0   \n",
       "4          0.0          1.0                0.0           0.0   \n",
       "\n",
       "   mean_comp_founded_ever  mean_comp_founded_before  mean_comp_worked_before  \\\n",
       "0                     NaN                       NaN                      NaN   \n",
       "1                     1.0                       0.0                      0.0   \n",
       "2                     NaN                       NaN                      NaN   \n",
       "3                     1.0                       0.0                      0.0   \n",
       "4                     1.2                       0.0                      0.0   \n",
       "\n",
       "   target  \n",
       "0       1  \n",
       "1       1  \n",
       "2       1  \n",
       "3       1  \n",
       "4       1  \n",
       "\n",
       "[5 rows x 41 columns]"
      ]
     },
     "execution_count": 7,
     "metadata": {},
     "output_type": "execute_result"
    }
   ],
   "source": [
    "companies.head()"
   ]
  },
  {
   "cell_type": "code",
   "execution_count": 45,
   "metadata": {},
   "outputs": [
    {
     "name": "stdout",
     "output_type": "stream",
     "text": [
      "<class 'pandas.core.frame.DataFrame'>\n",
      "Int64Index: 3241 entries, 779 to 3213\n",
      "Data columns (total 41 columns):\n",
      " #   Column                     Non-Null Count  Dtype         \n",
      "---  ------                     --------------  -----         \n",
      " 0   id                         3241 non-null   object        \n",
      " 1   normalized_name            3241 non-null   object        \n",
      " 2   category_code              3115 non-null   object        \n",
      " 3   founded_at                 2642 non-null   datetime64[ns]\n",
      " 4   description                3239 non-null   object        \n",
      " 5   closed_at                  360 non-null    object        \n",
      " 6   status                     3241 non-null   object        \n",
      " 7   exit                       3241 non-null   object        \n",
      " 8   exit_date                  797 non-null    object        \n",
      " 9   country_code               3118 non-null   object        \n",
      " 10  state_code                 2241 non-null   object        \n",
      " 11  date_series_a              3241 non-null   datetime64[ns]\n",
      " 12  participants_a             3241 non-null   int64         \n",
      " 13  raised_amount_usd_a        3241 non-null   float64       \n",
      " 14  timediff_founded_series_a  2642 non-null   float64       \n",
      " 15  rounds_before_a            3241 non-null   float64       \n",
      " 16  raised_before_a            3165 non-null   float64       \n",
      " 17  participants_before_a      3138 non-null   float64       \n",
      " 18  phd                        1600 non-null   float64       \n",
      " 19  MBA                        1600 non-null   float64       \n",
      " 20  cs                         1600 non-null   float64       \n",
      " 21  graduate                   1600 non-null   float64       \n",
      " 22  undergrad                  1600 non-null   float64       \n",
      " 23  professional               1600 non-null   float64       \n",
      " 24  degree_count               1600 non-null   float64       \n",
      " 25  MBA_bool                   1600 non-null   float64       \n",
      " 26  cs_bool                    1600 non-null   float64       \n",
      " 27  phd_bool                   1600 non-null   float64       \n",
      " 28  founder_count              1600 non-null   float64       \n",
      " 29  top_5                      1600 non-null   float64       \n",
      " 30  top_20                     1600 non-null   float64       \n",
      " 31  top_50                     1600 non-null   float64       \n",
      " 32  top_5_bool                 1600 non-null   float64       \n",
      " 33  top_20_bool                1600 non-null   float64       \n",
      " 34  top_50_bool                1600 non-null   float64       \n",
      " 35  n_female_founders          1558 non-null   float64       \n",
      " 36  female_ratio               1558 non-null   float64       \n",
      " 37  mean_comp_founded_ever     1600 non-null   float64       \n",
      " 38  mean_comp_founded_before   1600 non-null   float64       \n",
      " 39  mean_comp_worked_before    1599 non-null   float64       \n",
      " 40  target                     3241 non-null   int64         \n",
      "dtypes: datetime64[ns](2), float64(27), int64(2), object(10)\n",
      "memory usage: 1.2+ MB\n"
     ]
    }
   ],
   "source": [
    "companies.info()"
   ]
  },
  {
   "cell_type": "code",
   "execution_count": 9,
   "metadata": {},
   "outputs": [
    {
     "data": {
      "text/plain": [
       "Index(['id', 'normalized_name', 'category_code', 'founded_at', 'description',\n",
       "       'closed_at', 'status', 'exit', 'exit_date', 'country_code',\n",
       "       'state_code', 'date_series_a', 'participants_a', 'raised_amount_usd_a',\n",
       "       'timediff_founded_series_a', 'rounds_before_a', 'raised_before_a',\n",
       "       'participants_before_a', 'phd', 'MBA', 'cs', 'graduate', 'undergrad',\n",
       "       'professional', 'degree_count', 'MBA_bool', 'cs_bool', 'phd_bool',\n",
       "       'founder_count', 'top_5', 'top_20', 'top_50', 'top_5_bool',\n",
       "       'top_20_bool', 'top_50_bool', 'n_female_founders', 'female_ratio',\n",
       "       'mean_comp_founded_ever', 'mean_comp_founded_before',\n",
       "       'mean_comp_worked_before', 'target'],\n",
       "      dtype='object')"
      ]
     },
     "execution_count": 9,
     "metadata": {},
     "output_type": "execute_result"
    }
   ],
   "source": [
    "companies.columns"
   ]
  },
  {
   "cell_type": "code",
   "execution_count": 59,
   "metadata": {},
   "outputs": [
    {
     "data": {
      "text/html": [
       "<div>\n",
       "<style scoped>\n",
       "    .dataframe tbody tr th:only-of-type {\n",
       "        vertical-align: middle;\n",
       "    }\n",
       "\n",
       "    .dataframe tbody tr th {\n",
       "        vertical-align: top;\n",
       "    }\n",
       "\n",
       "    .dataframe thead th {\n",
       "        text-align: right;\n",
       "    }\n",
       "</style>\n",
       "<table border=\"1\" class=\"dataframe\">\n",
       "  <thead>\n",
       "    <tr style=\"text-align: right;\">\n",
       "      <th></th>\n",
       "      <th>participants_a</th>\n",
       "      <th>raised_amount_usd_a</th>\n",
       "      <th>timediff_founded_series_a</th>\n",
       "      <th>rounds_before_a</th>\n",
       "      <th>raised_before_a</th>\n",
       "      <th>participants_before_a</th>\n",
       "      <th>phd</th>\n",
       "      <th>MBA</th>\n",
       "      <th>cs</th>\n",
       "      <th>graduate</th>\n",
       "      <th>...</th>\n",
       "      <th>top_50</th>\n",
       "      <th>top_5_bool</th>\n",
       "      <th>top_20_bool</th>\n",
       "      <th>top_50_bool</th>\n",
       "      <th>n_female_founders</th>\n",
       "      <th>female_ratio</th>\n",
       "      <th>mean_comp_founded_ever</th>\n",
       "      <th>mean_comp_founded_before</th>\n",
       "      <th>mean_comp_worked_before</th>\n",
       "      <th>target</th>\n",
       "    </tr>\n",
       "  </thead>\n",
       "  <tbody>\n",
       "    <tr>\n",
       "      <th>count</th>\n",
       "      <td>3241.000000</td>\n",
       "      <td>3.241000e+03</td>\n",
       "      <td>2642.000000</td>\n",
       "      <td>3241.000000</td>\n",
       "      <td>3.165000e+03</td>\n",
       "      <td>3138.000000</td>\n",
       "      <td>1600.000000</td>\n",
       "      <td>1600.000000</td>\n",
       "      <td>1600.000000</td>\n",
       "      <td>1600.000000</td>\n",
       "      <td>...</td>\n",
       "      <td>1600.000000</td>\n",
       "      <td>1600.000000</td>\n",
       "      <td>1600.000000</td>\n",
       "      <td>1600.000000</td>\n",
       "      <td>1558.000000</td>\n",
       "      <td>1558.000000</td>\n",
       "      <td>1600.000000</td>\n",
       "      <td>1600.00000</td>\n",
       "      <td>1599.000000</td>\n",
       "      <td>3241.000000</td>\n",
       "    </tr>\n",
       "    <tr>\n",
       "      <th>mean</th>\n",
       "      <td>1.804690</td>\n",
       "      <td>6.457364e+06</td>\n",
       "      <td>2.515884</td>\n",
       "      <td>0.136069</td>\n",
       "      <td>2.341804e+05</td>\n",
       "      <td>0.203314</td>\n",
       "      <td>0.064089</td>\n",
       "      <td>0.115167</td>\n",
       "      <td>0.140729</td>\n",
       "      <td>0.175931</td>\n",
       "      <td>...</td>\n",
       "      <td>0.062000</td>\n",
       "      <td>0.171250</td>\n",
       "      <td>0.093750</td>\n",
       "      <td>0.096875</td>\n",
       "      <td>0.078947</td>\n",
       "      <td>0.042908</td>\n",
       "      <td>1.063940</td>\n",
       "      <td>0.03193</td>\n",
       "      <td>0.110255</td>\n",
       "      <td>0.247763</td>\n",
       "    </tr>\n",
       "    <tr>\n",
       "      <th>std</th>\n",
       "      <td>1.504865</td>\n",
       "      <td>1.459416e+07</td>\n",
       "      <td>3.710009</td>\n",
       "      <td>0.384496</td>\n",
       "      <td>2.341051e+06</td>\n",
       "      <td>0.909744</td>\n",
       "      <td>0.227481</td>\n",
       "      <td>0.283128</td>\n",
       "      <td>0.302385</td>\n",
       "      <td>0.360518</td>\n",
       "      <td>...</td>\n",
       "      <td>0.210467</td>\n",
       "      <td>0.376845</td>\n",
       "      <td>0.291572</td>\n",
       "      <td>0.295880</td>\n",
       "      <td>0.313770</td>\n",
       "      <td>0.174852</td>\n",
       "      <td>0.228445</td>\n",
       "      <td>0.14861</td>\n",
       "      <td>0.321650</td>\n",
       "      <td>0.431780</td>\n",
       "    </tr>\n",
       "    <tr>\n",
       "      <th>min</th>\n",
       "      <td>0.000000</td>\n",
       "      <td>0.000000e+00</td>\n",
       "      <td>-35.247815</td>\n",
       "      <td>0.000000</td>\n",
       "      <td>0.000000e+00</td>\n",
       "      <td>0.000000</td>\n",
       "      <td>0.000000</td>\n",
       "      <td>0.000000</td>\n",
       "      <td>0.000000</td>\n",
       "      <td>0.000000</td>\n",
       "      <td>...</td>\n",
       "      <td>0.000000</td>\n",
       "      <td>0.000000</td>\n",
       "      <td>0.000000</td>\n",
       "      <td>0.000000</td>\n",
       "      <td>0.000000</td>\n",
       "      <td>0.000000</td>\n",
       "      <td>1.000000</td>\n",
       "      <td>0.00000</td>\n",
       "      <td>0.000000</td>\n",
       "      <td>0.000000</td>\n",
       "    </tr>\n",
       "    <tr>\n",
       "      <th>25%</th>\n",
       "      <td>1.000000</td>\n",
       "      <td>1.600000e+06</td>\n",
       "      <td>0.668049</td>\n",
       "      <td>0.000000</td>\n",
       "      <td>0.000000e+00</td>\n",
       "      <td>0.000000</td>\n",
       "      <td>0.000000</td>\n",
       "      <td>0.000000</td>\n",
       "      <td>0.000000</td>\n",
       "      <td>0.000000</td>\n",
       "      <td>...</td>\n",
       "      <td>0.000000</td>\n",
       "      <td>0.000000</td>\n",
       "      <td>0.000000</td>\n",
       "      <td>0.000000</td>\n",
       "      <td>0.000000</td>\n",
       "      <td>0.000000</td>\n",
       "      <td>1.000000</td>\n",
       "      <td>0.00000</td>\n",
       "      <td>0.000000</td>\n",
       "      <td>0.000000</td>\n",
       "    </tr>\n",
       "    <tr>\n",
       "      <th>50%</th>\n",
       "      <td>1.000000</td>\n",
       "      <td>3.956128e+06</td>\n",
       "      <td>1.527752</td>\n",
       "      <td>0.000000</td>\n",
       "      <td>0.000000e+00</td>\n",
       "      <td>0.000000</td>\n",
       "      <td>0.000000</td>\n",
       "      <td>0.000000</td>\n",
       "      <td>0.000000</td>\n",
       "      <td>0.000000</td>\n",
       "      <td>...</td>\n",
       "      <td>0.000000</td>\n",
       "      <td>0.000000</td>\n",
       "      <td>0.000000</td>\n",
       "      <td>0.000000</td>\n",
       "      <td>0.000000</td>\n",
       "      <td>0.000000</td>\n",
       "      <td>1.000000</td>\n",
       "      <td>0.00000</td>\n",
       "      <td>0.000000</td>\n",
       "      <td>0.000000</td>\n",
       "    </tr>\n",
       "    <tr>\n",
       "      <th>75%</th>\n",
       "      <td>2.000000</td>\n",
       "      <td>7.000000e+06</td>\n",
       "      <td>3.249896</td>\n",
       "      <td>0.000000</td>\n",
       "      <td>0.000000e+00</td>\n",
       "      <td>0.000000</td>\n",
       "      <td>0.000000</td>\n",
       "      <td>0.000000</td>\n",
       "      <td>0.000000</td>\n",
       "      <td>0.000000</td>\n",
       "      <td>...</td>\n",
       "      <td>0.000000</td>\n",
       "      <td>0.000000</td>\n",
       "      <td>0.000000</td>\n",
       "      <td>0.000000</td>\n",
       "      <td>0.000000</td>\n",
       "      <td>0.000000</td>\n",
       "      <td>1.000000</td>\n",
       "      <td>0.00000</td>\n",
       "      <td>0.000000</td>\n",
       "      <td>0.000000</td>\n",
       "    </tr>\n",
       "    <tr>\n",
       "      <th>max</th>\n",
       "      <td>18.000000</td>\n",
       "      <td>4.000000e+08</td>\n",
       "      <td>60.086107</td>\n",
       "      <td>4.000000</td>\n",
       "      <td>1.000000e+08</td>\n",
       "      <td>21.000000</td>\n",
       "      <td>2.000000</td>\n",
       "      <td>2.000000</td>\n",
       "      <td>1.000000</td>\n",
       "      <td>3.000000</td>\n",
       "      <td>...</td>\n",
       "      <td>1.000000</td>\n",
       "      <td>1.000000</td>\n",
       "      <td>1.000000</td>\n",
       "      <td>1.000000</td>\n",
       "      <td>5.000000</td>\n",
       "      <td>1.000000</td>\n",
       "      <td>3.000000</td>\n",
       "      <td>1.50000</td>\n",
       "      <td>4.000000</td>\n",
       "      <td>1.000000</td>\n",
       "    </tr>\n",
       "  </tbody>\n",
       "</table>\n",
       "<p>8 rows × 29 columns</p>\n",
       "</div>"
      ],
      "text/plain": [
       "       participants_a  raised_amount_usd_a  timediff_founded_series_a  \\\n",
       "count     3241.000000         3.241000e+03                2642.000000   \n",
       "mean         1.804690         6.457364e+06                   2.515884   \n",
       "std          1.504865         1.459416e+07                   3.710009   \n",
       "min          0.000000         0.000000e+00                 -35.247815   \n",
       "25%          1.000000         1.600000e+06                   0.668049   \n",
       "50%          1.000000         3.956128e+06                   1.527752   \n",
       "75%          2.000000         7.000000e+06                   3.249896   \n",
       "max         18.000000         4.000000e+08                  60.086107   \n",
       "\n",
       "       rounds_before_a  raised_before_a  participants_before_a          phd  \\\n",
       "count      3241.000000     3.165000e+03            3138.000000  1600.000000   \n",
       "mean          0.136069     2.341804e+05               0.203314     0.064089   \n",
       "std           0.384496     2.341051e+06               0.909744     0.227481   \n",
       "min           0.000000     0.000000e+00               0.000000     0.000000   \n",
       "25%           0.000000     0.000000e+00               0.000000     0.000000   \n",
       "50%           0.000000     0.000000e+00               0.000000     0.000000   \n",
       "75%           0.000000     0.000000e+00               0.000000     0.000000   \n",
       "max           4.000000     1.000000e+08              21.000000     2.000000   \n",
       "\n",
       "               MBA           cs     graduate  ...       top_50   top_5_bool  \\\n",
       "count  1600.000000  1600.000000  1600.000000  ...  1600.000000  1600.000000   \n",
       "mean      0.115167     0.140729     0.175931  ...     0.062000     0.171250   \n",
       "std       0.283128     0.302385     0.360518  ...     0.210467     0.376845   \n",
       "min       0.000000     0.000000     0.000000  ...     0.000000     0.000000   \n",
       "25%       0.000000     0.000000     0.000000  ...     0.000000     0.000000   \n",
       "50%       0.000000     0.000000     0.000000  ...     0.000000     0.000000   \n",
       "75%       0.000000     0.000000     0.000000  ...     0.000000     0.000000   \n",
       "max       2.000000     1.000000     3.000000  ...     1.000000     1.000000   \n",
       "\n",
       "       top_20_bool  top_50_bool  n_female_founders  female_ratio  \\\n",
       "count  1600.000000  1600.000000        1558.000000   1558.000000   \n",
       "mean      0.093750     0.096875           0.078947      0.042908   \n",
       "std       0.291572     0.295880           0.313770      0.174852   \n",
       "min       0.000000     0.000000           0.000000      0.000000   \n",
       "25%       0.000000     0.000000           0.000000      0.000000   \n",
       "50%       0.000000     0.000000           0.000000      0.000000   \n",
       "75%       0.000000     0.000000           0.000000      0.000000   \n",
       "max       1.000000     1.000000           5.000000      1.000000   \n",
       "\n",
       "       mean_comp_founded_ever  mean_comp_founded_before  \\\n",
       "count             1600.000000                1600.00000   \n",
       "mean                 1.063940                   0.03193   \n",
       "std                  0.228445                   0.14861   \n",
       "min                  1.000000                   0.00000   \n",
       "25%                  1.000000                   0.00000   \n",
       "50%                  1.000000                   0.00000   \n",
       "75%                  1.000000                   0.00000   \n",
       "max                  3.000000                   1.50000   \n",
       "\n",
       "       mean_comp_worked_before       target  \n",
       "count              1599.000000  3241.000000  \n",
       "mean                  0.110255     0.247763  \n",
       "std                   0.321650     0.431780  \n",
       "min                   0.000000     0.000000  \n",
       "25%                   0.000000     0.000000  \n",
       "50%                   0.000000     0.000000  \n",
       "75%                   0.000000     0.000000  \n",
       "max                   4.000000     1.000000  \n",
       "\n",
       "[8 rows x 29 columns]"
      ]
     },
     "execution_count": 59,
     "metadata": {},
     "output_type": "execute_result"
    }
   ],
   "source": [
    "companies.describe()"
   ]
  },
  {
   "cell_type": "markdown",
   "metadata": {},
   "source": [
    "# Exploration"
   ]
  },
  {
   "cell_type": "code",
   "execution_count": 20,
   "metadata": {},
   "outputs": [],
   "source": [
    "import matplotlib.pyplot as plt\n",
    "import seaborn as sns"
   ]
  },
  {
   "cell_type": "markdown",
   "metadata": {},
   "source": [
    "## Category code"
   ]
  },
  {
   "cell_type": "code",
   "execution_count": 31,
   "metadata": {
    "jupyter": {
     "source_hidden": true
    }
   },
   "outputs": [],
   "source": [
    "companies = companies.sort_values(by=\"category_code\")"
   ]
  },
  {
   "cell_type": "code",
   "execution_count": 38,
   "metadata": {
    "jupyter": {
     "source_hidden": true
    }
   },
   "outputs": [],
   "source": [
    "# More cleantech and social in the ipos"
   ]
  },
  {
   "cell_type": "code",
   "execution_count": 30,
   "metadata": {
    "collapsed": true,
    "jupyter": {
     "outputs_hidden": true,
     "source_hidden": true
    }
   },
   "outputs": [
    {
     "data": {
      "image/png": "[encoded data removed]",
      "text/plain": [
       "<Figure size 864x288 with 1 Axes>"
      ]
     },
     "metadata": {
      "needs_background": "light"
     },
     "output_type": "display_data"
    }
   ],
   "source": [
    "plt.figure(figsize=(12,4))\n",
    "sns.countplot(x=\"category_code\",data = companies[companies.exit==\"ipo\"])\n",
    "plt.xticks(rotation=90)\n",
    "plt.show()"
   ]
  },
  {
   "cell_type": "code",
   "execution_count": 32,
   "metadata": {
    "collapsed": true,
    "jupyter": {
     "outputs_hidden": true,
     "source_hidden": true
    }
   },
   "outputs": [
    {
     "data": {
      "image/png": "[encoded data removed]",
      "text/plain": [
       "<Figure size 864x288 with 1 Axes>"
      ]
     },
     "metadata": {
      "needs_background": "light"
     },
     "output_type": "display_data"
    }
   ],
   "source": [
    "plt.figure(figsize=(12,4))\n",
    "sns.countplot(x=\"category_code\",data = companies[companies.exit==\"acquisition\"])\n",
    "plt.xticks(rotation=90)\n",
    "plt.show()"
   ]
  },
  {
   "cell_type": "code",
   "execution_count": 37,
   "metadata": {
    "jupyter": {
     "source_hidden": true
    }
   },
   "outputs": [],
   "source": [
    "# more biotech in no exit because take long time to develop"
   ]
  },
  {
   "cell_type": "code",
   "execution_count": 33,
   "metadata": {
    "collapsed": true,
    "jupyter": {
     "outputs_hidden": true,
     "source_hidden": true
    }
   },
   "outputs": [
    {
     "data": {
      "image/png": "[encoded data removed]",
      "text/plain": [
       "<Figure size 864x288 with 1 Axes>"
      ]
     },
     "metadata": {
      "needs_background": "light"
     },
     "output_type": "display_data"
    }
   ],
   "source": [
    "plt.figure(figsize=(12,4))\n",
    "sns.countplot(x=\"category_code\",data = companies[companies.exit==\"no exit\"])\n",
    "plt.xticks(rotation=90)\n",
    "plt.show()"
   ]
  },
  {
   "cell_type": "code",
   "execution_count": 34,
   "metadata": {
    "collapsed": true,
    "jupyter": {
     "outputs_hidden": true,
     "source_hidden": true
    }
   },
   "outputs": [
    {
     "data": {
      "image/png": "[encoded data removed]",
      "text/plain": [
       "<Figure size 864x288 with 1 Axes>"
      ]
     },
     "metadata": {
      "needs_background": "light"
     },
     "output_type": "display_data"
    }
   ],
   "source": [
    "plt.figure(figsize=(12,4))\n",
    "sns.countplot(x=\"category_code\",data = companies[companies.status==\"closed\"].sort_values(by=\"category_code\"))\n",
    "plt.xticks(rotation=90)\n",
    "plt.show()"
   ]
  },
  {
   "cell_type": "code",
   "execution_count": 36,
   "metadata": {
    "collapsed": true,
    "jupyter": {
     "outputs_hidden": true,
     "source_hidden": true
    }
   },
   "outputs": [
    {
     "data": {
      "image/png": "[encoded data removed]",
      "text/plain": [
       "<Figure size 864x288 with 1 Axes>"
      ]
     },
     "metadata": {
      "needs_background": "light"
     },
     "output_type": "display_data"
    }
   ],
   "source": [
    "plt.figure(figsize=(12,4))\n",
    "sns.countplot(x=\"category_code\",data = companies[companies.status==\"operating\"].sort_values(by=\"category_code\"))\n",
    "plt.xticks(rotation=90)\n",
    "plt.show()"
   ]
  },
  {
   "cell_type": "code",
   "execution_count": 184,
   "metadata": {},
   "outputs": [],
   "source": [
    "pivot_categories = pd.pivot_table(companies, values='id', index=[\"category_code\"],\n",
    "                    columns=['exit'], aggfunc= \"count\", margins = True)\n",
    "pivot_categories = pivot_categories.fillna(0).sort_values(by = \"All\", ascending=False)\n",
    "pivot_categories.acquisition = pivot_categories.acquisition/pivot_categories.All\n",
    "pivot_categories.ipo = pivot_categories.ipo/pivot_categories.All\n",
    "pivot_categories[\"no exit\"] = pivot_categories[\"no exit\"]/pivot_categories.All"
   ]
  },
  {
   "cell_type": "code",
   "execution_count": 185,
   "metadata": {},
   "outputs": [
    {
     "data": {
      "text/html": [
       "<div>\n",
       "<style scoped>\n",
       "    .dataframe tbody tr th:only-of-type {\n",
       "        vertical-align: middle;\n",
       "    }\n",
       "\n",
       "    .dataframe tbody tr th {\n",
       "        vertical-align: top;\n",
       "    }\n",
       "\n",
       "    .dataframe thead th {\n",
       "        text-align: right;\n",
       "    }\n",
       "</style>\n",
       "<table border=\"1\" class=\"dataframe\">\n",
       "  <thead>\n",
       "    <tr style=\"text-align: right;\">\n",
       "      <th>exit</th>\n",
       "      <th>acquisition</th>\n",
       "      <th>ipo</th>\n",
       "      <th>no exit</th>\n",
       "      <th>All</th>\n",
       "    </tr>\n",
       "    <tr>\n",
       "      <th>category_code</th>\n",
       "      <th></th>\n",
       "      <th></th>\n",
       "      <th></th>\n",
       "      <th></th>\n",
       "    </tr>\n",
       "  </thead>\n",
       "  <tbody>\n",
       "    <tr>\n",
       "      <th>All</th>\n",
       "      <td>0.227608</td>\n",
       "      <td>0.023114</td>\n",
       "      <td>0.749278</td>\n",
       "      <td>3115</td>\n",
       "    </tr>\n",
       "    <tr>\n",
       "      <th>software</th>\n",
       "      <td>0.210526</td>\n",
       "      <td>0.019298</td>\n",
       "      <td>0.770175</td>\n",
       "      <td>570</td>\n",
       "    </tr>\n",
       "    <tr>\n",
       "      <th>web</th>\n",
       "      <td>0.313175</td>\n",
       "      <td>0.019438</td>\n",
       "      <td>0.667387</td>\n",
       "      <td>463</td>\n",
       "    </tr>\n",
       "    <tr>\n",
       "      <th>games_video</th>\n",
       "      <td>0.254545</td>\n",
       "      <td>0.009091</td>\n",
       "      <td>0.736364</td>\n",
       "      <td>220</td>\n",
       "    </tr>\n",
       "    <tr>\n",
       "      <th>mobile</th>\n",
       "      <td>0.304147</td>\n",
       "      <td>0.009217</td>\n",
       "      <td>0.686636</td>\n",
       "      <td>217</td>\n",
       "    </tr>\n",
       "    <tr>\n",
       "      <th>biotech</th>\n",
       "      <td>0.128079</td>\n",
       "      <td>0.024631</td>\n",
       "      <td>0.847291</td>\n",
       "      <td>203</td>\n",
       "    </tr>\n",
       "    <tr>\n",
       "      <th>advertising</th>\n",
       "      <td>0.276382</td>\n",
       "      <td>0.040201</td>\n",
       "      <td>0.683417</td>\n",
       "      <td>199</td>\n",
       "    </tr>\n",
       "    <tr>\n",
       "      <th>enterprise</th>\n",
       "      <td>0.259459</td>\n",
       "      <td>0.027027</td>\n",
       "      <td>0.713514</td>\n",
       "      <td>185</td>\n",
       "    </tr>\n",
       "    <tr>\n",
       "      <th>cleantech</th>\n",
       "      <td>0.098266</td>\n",
       "      <td>0.017341</td>\n",
       "      <td>0.884393</td>\n",
       "      <td>173</td>\n",
       "    </tr>\n",
       "    <tr>\n",
       "      <th>ecommerce</th>\n",
       "      <td>0.204918</td>\n",
       "      <td>0.008197</td>\n",
       "      <td>0.786885</td>\n",
       "      <td>122</td>\n",
       "    </tr>\n",
       "    <tr>\n",
       "      <th>hardware</th>\n",
       "      <td>0.173913</td>\n",
       "      <td>0.000000</td>\n",
       "      <td>0.826087</td>\n",
       "      <td>92</td>\n",
       "    </tr>\n",
       "    <tr>\n",
       "      <th>network_hosting</th>\n",
       "      <td>0.340659</td>\n",
       "      <td>0.032967</td>\n",
       "      <td>0.626374</td>\n",
       "      <td>91</td>\n",
       "    </tr>\n",
       "    <tr>\n",
       "      <th>semiconductor</th>\n",
       "      <td>0.135802</td>\n",
       "      <td>0.012346</td>\n",
       "      <td>0.851852</td>\n",
       "      <td>81</td>\n",
       "    </tr>\n",
       "    <tr>\n",
       "      <th>search</th>\n",
       "      <td>0.187500</td>\n",
       "      <td>0.078125</td>\n",
       "      <td>0.734375</td>\n",
       "      <td>64</td>\n",
       "    </tr>\n",
       "    <tr>\n",
       "      <th>public_relations</th>\n",
       "      <td>0.229508</td>\n",
       "      <td>0.000000</td>\n",
       "      <td>0.770492</td>\n",
       "      <td>61</td>\n",
       "    </tr>\n",
       "    <tr>\n",
       "      <th>other</th>\n",
       "      <td>0.185185</td>\n",
       "      <td>0.018519</td>\n",
       "      <td>0.796296</td>\n",
       "      <td>54</td>\n",
       "    </tr>\n",
       "    <tr>\n",
       "      <th>security</th>\n",
       "      <td>0.215686</td>\n",
       "      <td>0.058824</td>\n",
       "      <td>0.725490</td>\n",
       "      <td>51</td>\n",
       "    </tr>\n",
       "    <tr>\n",
       "      <th>analytics</th>\n",
       "      <td>0.210526</td>\n",
       "      <td>0.000000</td>\n",
       "      <td>0.789474</td>\n",
       "      <td>38</td>\n",
       "    </tr>\n",
       "    <tr>\n",
       "      <th>finance</th>\n",
       "      <td>0.230769</td>\n",
       "      <td>0.000000</td>\n",
       "      <td>0.769231</td>\n",
       "      <td>26</td>\n",
       "    </tr>\n",
       "    <tr>\n",
       "      <th>medical</th>\n",
       "      <td>0.041667</td>\n",
       "      <td>0.000000</td>\n",
       "      <td>0.958333</td>\n",
       "      <td>24</td>\n",
       "    </tr>\n",
       "    <tr>\n",
       "      <th>consulting</th>\n",
       "      <td>0.190476</td>\n",
       "      <td>0.000000</td>\n",
       "      <td>0.809524</td>\n",
       "      <td>21</td>\n",
       "    </tr>\n",
       "    <tr>\n",
       "      <th>social</th>\n",
       "      <td>0.238095</td>\n",
       "      <td>0.142857</td>\n",
       "      <td>0.619048</td>\n",
       "      <td>21</td>\n",
       "    </tr>\n",
       "    <tr>\n",
       "      <th>music</th>\n",
       "      <td>0.150000</td>\n",
       "      <td>0.050000</td>\n",
       "      <td>0.800000</td>\n",
       "      <td>20</td>\n",
       "    </tr>\n",
       "    <tr>\n",
       "      <th>news</th>\n",
       "      <td>0.312500</td>\n",
       "      <td>0.062500</td>\n",
       "      <td>0.625000</td>\n",
       "      <td>16</td>\n",
       "    </tr>\n",
       "    <tr>\n",
       "      <th>messaging</th>\n",
       "      <td>0.285714</td>\n",
       "      <td>0.071429</td>\n",
       "      <td>0.642857</td>\n",
       "      <td>14</td>\n",
       "    </tr>\n",
       "    <tr>\n",
       "      <th>manufacturing</th>\n",
       "      <td>0.000000</td>\n",
       "      <td>0.000000</td>\n",
       "      <td>1.000000</td>\n",
       "      <td>13</td>\n",
       "    </tr>\n",
       "    <tr>\n",
       "      <th>health</th>\n",
       "      <td>0.166667</td>\n",
       "      <td>0.000000</td>\n",
       "      <td>0.833333</td>\n",
       "      <td>12</td>\n",
       "    </tr>\n",
       "    <tr>\n",
       "      <th>education</th>\n",
       "      <td>0.181818</td>\n",
       "      <td>0.090909</td>\n",
       "      <td>0.727273</td>\n",
       "      <td>11</td>\n",
       "    </tr>\n",
       "    <tr>\n",
       "      <th>photo_video</th>\n",
       "      <td>0.222222</td>\n",
       "      <td>0.111111</td>\n",
       "      <td>0.666667</td>\n",
       "      <td>9</td>\n",
       "    </tr>\n",
       "    <tr>\n",
       "      <th>travel</th>\n",
       "      <td>0.250000</td>\n",
       "      <td>0.125000</td>\n",
       "      <td>0.625000</td>\n",
       "      <td>8</td>\n",
       "    </tr>\n",
       "    <tr>\n",
       "      <th>nanotech</th>\n",
       "      <td>0.000000</td>\n",
       "      <td>0.166667</td>\n",
       "      <td>0.833333</td>\n",
       "      <td>6</td>\n",
       "    </tr>\n",
       "    <tr>\n",
       "      <th>transportation</th>\n",
       "      <td>0.166667</td>\n",
       "      <td>0.000000</td>\n",
       "      <td>0.833333</td>\n",
       "      <td>6</td>\n",
       "    </tr>\n",
       "    <tr>\n",
       "      <th>automotive</th>\n",
       "      <td>0.000000</td>\n",
       "      <td>0.200000</td>\n",
       "      <td>0.800000</td>\n",
       "      <td>5</td>\n",
       "    </tr>\n",
       "    <tr>\n",
       "      <th>real_estate</th>\n",
       "      <td>0.000000</td>\n",
       "      <td>0.250000</td>\n",
       "      <td>0.750000</td>\n",
       "      <td>4</td>\n",
       "    </tr>\n",
       "    <tr>\n",
       "      <th>hospitality</th>\n",
       "      <td>0.000000</td>\n",
       "      <td>0.000000</td>\n",
       "      <td>1.000000</td>\n",
       "      <td>4</td>\n",
       "    </tr>\n",
       "    <tr>\n",
       "      <th>fashion</th>\n",
       "      <td>0.000000</td>\n",
       "      <td>0.000000</td>\n",
       "      <td>1.000000</td>\n",
       "      <td>3</td>\n",
       "    </tr>\n",
       "    <tr>\n",
       "      <th>legal</th>\n",
       "      <td>0.000000</td>\n",
       "      <td>0.333333</td>\n",
       "      <td>0.666667</td>\n",
       "      <td>3</td>\n",
       "    </tr>\n",
       "    <tr>\n",
       "      <th>sports</th>\n",
       "      <td>0.333333</td>\n",
       "      <td>0.000000</td>\n",
       "      <td>0.666667</td>\n",
       "      <td>3</td>\n",
       "    </tr>\n",
       "    <tr>\n",
       "      <th>nonprofit</th>\n",
       "      <td>0.000000</td>\n",
       "      <td>0.000000</td>\n",
       "      <td>1.000000</td>\n",
       "      <td>2</td>\n",
       "    </tr>\n",
       "  </tbody>\n",
       "</table>\n",
       "</div>"
      ],
      "text/plain": [
       "exit              acquisition       ipo   no exit   All\n",
       "category_code                                          \n",
       "All                  0.227608  0.023114  0.749278  3115\n",
       "software             0.210526  0.019298  0.770175   570\n",
       "web                  0.313175  0.019438  0.667387   463\n",
       "games_video          0.254545  0.009091  0.736364   220\n",
       "mobile               0.304147  0.009217  0.686636   217\n",
       "biotech              0.128079  0.024631  0.847291   203\n",
       "advertising          0.276382  0.040201  0.683417   199\n",
       "enterprise           0.259459  0.027027  0.713514   185\n",
       "cleantech            0.098266  0.017341  0.884393   173\n",
       "ecommerce            0.204918  0.008197  0.786885   122\n",
       "hardware             0.173913  0.000000  0.826087    92\n",
       "network_hosting      0.340659  0.032967  0.626374    91\n",
       "semiconductor        0.135802  0.012346  0.851852    81\n",
       "search               0.187500  0.078125  0.734375    64\n",
       "public_relations     0.229508  0.000000  0.770492    61\n",
       "other                0.185185  0.018519  0.796296    54\n",
       "security             0.215686  0.058824  0.725490    51\n",
       "analytics            0.210526  0.000000  0.789474    38\n",
       "finance              0.230769  0.000000  0.769231    26\n",
       "medical              0.041667  0.000000  0.958333    24\n",
       "consulting           0.190476  0.000000  0.809524    21\n",
       "social               0.238095  0.142857  0.619048    21\n",
       "music                0.150000  0.050000  0.800000    20\n",
       "news                 0.312500  0.062500  0.625000    16\n",
       "messaging            0.285714  0.071429  0.642857    14\n",
       "manufacturing        0.000000  0.000000  1.000000    13\n",
       "health               0.166667  0.000000  0.833333    12\n",
       "education            0.181818  0.090909  0.727273    11\n",
       "photo_video          0.222222  0.111111  0.666667     9\n",
       "travel               0.250000  0.125000  0.625000     8\n",
       "nanotech             0.000000  0.166667  0.833333     6\n",
       "transportation       0.166667  0.000000  0.833333     6\n",
       "automotive           0.000000  0.200000  0.800000     5\n",
       "real_estate          0.000000  0.250000  0.750000     4\n",
       "hospitality          0.000000  0.000000  1.000000     4\n",
       "fashion              0.000000  0.000000  1.000000     3\n",
       "legal                0.000000  0.333333  0.666667     3\n",
       "sports               0.333333  0.000000  0.666667     3\n",
       "nonprofit            0.000000  0.000000  1.000000     2"
      ]
     },
     "execution_count": 185,
     "metadata": {},
     "output_type": "execute_result"
    }
   ],
   "source": [
    "pivot_categories"
   ]
  },
  {
   "cell_type": "code",
   "execution_count": 187,
   "metadata": {},
   "outputs": [
    {
     "data": {
      "image/png": "[encoded data removed]",
      "text/plain": [
       "<Figure size 864x288 with 1 Axes>"
      ]
     },
     "metadata": {
      "needs_background": "light"
     },
     "output_type": "display_data"
    }
   ],
   "source": [
    "plt.figure(figsize=(12,4))\n",
    "plt.bar(pivot_categories.index,height=pivot_categories[\"ipo\"])\n",
    "plt.xticks(rotation=90)\n",
    "plt.show()"
   ]
  },
  {
   "cell_type": "code",
   "execution_count": 192,
   "metadata": {},
   "outputs": [],
   "source": [
    "# Conclusion : search, social, security = predictor of ipo\n",
    "# hardware, analytics, finance, medical = no ipo"
   ]
  },
  {
   "cell_type": "code",
   "execution_count": 189,
   "metadata": {},
   "outputs": [
    {
     "data": {
      "image/png": "[encoded data removed]",
      "text/plain": [
       "<Figure size 864x288 with 1 Axes>"
      ]
     },
     "metadata": {
      "needs_background": "light"
     },
     "output_type": "display_data"
    }
   ],
   "source": [
    "plt.figure(figsize=(12,4))\n",
    "plt.bar(pivot_categories.index,height=pivot_categories[\"acquisition\"])\n",
    "plt.xticks(rotation=90)\n",
    "plt.show()"
   ]
  },
  {
   "cell_type": "code",
   "execution_count": 194,
   "metadata": {},
   "outputs": [],
   "source": [
    "# Conclusion : web, mobile, advertising, network hosting = predictor of acquisition\n",
    "# biotech, cleantech, semiconductor, medical = no acquisition"
   ]
  },
  {
   "cell_type": "code",
   "execution_count": 191,
   "metadata": {},
   "outputs": [
    {
     "data": {
      "image/png": "[encoded data removed]",
      "text/plain": [
       "<Figure size 864x288 with 1 Axes>"
      ]
     },
     "metadata": {
      "needs_background": "light"
     },
     "output_type": "display_data"
    }
   ],
   "source": [
    "plt.figure(figsize=(12,4))\n",
    "plt.bar(pivot_categories.index,height=pivot_categories[\"no exit\"])\n",
    "plt.xticks(rotation=90)\n",
    "plt.show()"
   ]
  },
  {
   "cell_type": "code",
   "execution_count": 195,
   "metadata": {},
   "outputs": [],
   "source": [
    "# Conclusion : medical = predictor of no exit\n",
    "# network hosting & social = exit"
   ]
  },
  {
   "cell_type": "code",
   "execution_count": 198,
   "metadata": {},
   "outputs": [],
   "source": [
    "pivot_categories = pd.pivot_table(companies, values='id', index=[\"category_code\"],\n",
    "                    columns=['status'], aggfunc= \"count\", margins = True)\n",
    "pivot_categories = pivot_categories.fillna(0).sort_values(by = \"All\", ascending=False)[[\"closed\",\"All\"]]\n",
    "pivot_categories.closed = pivot_categories.closed/pivot_categories.All"
   ]
  },
  {
   "cell_type": "code",
   "execution_count": 200,
   "metadata": {
    "collapsed": true,
    "jupyter": {
     "outputs_hidden": true,
     "source_hidden": true
    }
   },
   "outputs": [
    {
     "data": {
      "text/html": [
       "<div>\n",
       "<style scoped>\n",
       "    .dataframe tbody tr th:only-of-type {\n",
       "        vertical-align: middle;\n",
       "    }\n",
       "\n",
       "    .dataframe tbody tr th {\n",
       "        vertical-align: top;\n",
       "    }\n",
       "\n",
       "    .dataframe thead th {\n",
       "        text-align: right;\n",
       "    }\n",
       "</style>\n",
       "<table border=\"1\" class=\"dataframe\">\n",
       "  <thead>\n",
       "    <tr style=\"text-align: right;\">\n",
       "      <th>status</th>\n",
       "      <th>closed</th>\n",
       "      <th>All</th>\n",
       "    </tr>\n",
       "    <tr>\n",
       "      <th>category_code</th>\n",
       "      <th></th>\n",
       "      <th></th>\n",
       "    </tr>\n",
       "  </thead>\n",
       "  <tbody>\n",
       "    <tr>\n",
       "      <th>All</th>\n",
       "      <td>0.107865</td>\n",
       "      <td>3115</td>\n",
       "    </tr>\n",
       "    <tr>\n",
       "      <th>software</th>\n",
       "      <td>0.089474</td>\n",
       "      <td>570</td>\n",
       "    </tr>\n",
       "    <tr>\n",
       "      <th>web</th>\n",
       "      <td>0.177106</td>\n",
       "      <td>463</td>\n",
       "    </tr>\n",
       "    <tr>\n",
       "      <th>games_video</th>\n",
       "      <td>0.140909</td>\n",
       "      <td>220</td>\n",
       "    </tr>\n",
       "    <tr>\n",
       "      <th>mobile</th>\n",
       "      <td>0.129032</td>\n",
       "      <td>217</td>\n",
       "    </tr>\n",
       "  </tbody>\n",
       "</table>\n",
       "</div>"
      ],
      "text/plain": [
       "status           closed   All\n",
       "category_code                \n",
       "All            0.107865  3115\n",
       "software       0.089474   570\n",
       "web            0.177106   463\n",
       "games_video    0.140909   220\n",
       "mobile         0.129032   217"
      ]
     },
     "execution_count": 200,
     "metadata": {},
     "output_type": "execute_result"
    }
   ],
   "source": [
    "pivot_categories.head()"
   ]
  },
  {
   "cell_type": "code",
   "execution_count": 199,
   "metadata": {},
   "outputs": [
    {
     "data": {
      "image/png": "[encoded data removed]",
      "text/plain": [
       "<Figure size 864x288 with 1 Axes>"
      ]
     },
     "metadata": {
      "needs_background": "light"
     },
     "output_type": "display_data"
    }
   ],
   "source": [
    "plt.figure(figsize=(12,4))\n",
    "plt.bar(pivot_categories.index,height=pivot_categories[\"closed\"])\n",
    "plt.xticks(rotation=90)\n",
    "plt.show()"
   ]
  },
  {
   "cell_type": "code",
   "execution_count": 201,
   "metadata": {},
   "outputs": [],
   "source": [
    "# conclusion: web & search predictor of failure \n",
    "# enterprise mobile biotech predictor of no failure"
   ]
  },
  {
   "cell_type": "markdown",
   "metadata": {},
   "source": [
    "## Founded at"
   ]
  },
  {
   "cell_type": "code",
   "execution_count": 78,
   "metadata": {
    "jupyter": {
     "source_hidden": true
    }
   },
   "outputs": [],
   "source": [
    "# some companies received funding before being founded, maybe bad entries in DB or \n",
    "#just not registered before first round"
   ]
  },
  {
   "cell_type": "code",
   "execution_count": 137,
   "metadata": {
    "collapsed": true,
    "jupyter": {
     "outputs_hidden": true,
     "source_hidden": true
    }
   },
   "outputs": [
    {
     "name": "stderr",
     "output_type": "stream",
     "text": [
      "/Users/joannavitiello/.pyenv/versions/3.7.7/envs/lewagon/lib/python3.7/site-packages/numpy/lib/histograms.py:839: RuntimeWarning: invalid value encountered in greater_equal\n",
      "  keep = (tmp_a >= first_edge)\n",
      "/Users/joannavitiello/.pyenv/versions/3.7.7/envs/lewagon/lib/python3.7/site-packages/numpy/lib/histograms.py:840: RuntimeWarning: invalid value encountered in less_equal\n",
      "  keep &= (tmp_a <= last_edge)\n"
     ]
    },
    {
     "data": {
      "image/png": "[encoded data removed]",
      "text/plain": [
       "<Figure size 432x288 with 1 Axes>"
      ]
     },
     "metadata": {
      "needs_background": "light"
     },
     "output_type": "display_data"
    }
   ],
   "source": [
    "plt.hist(companies.founded_at.values, bins=40)\n",
    "plt.xlim(\"1990\",\"2009\")\n",
    "plt.show()"
   ]
  },
  {
   "cell_type": "code",
   "execution_count": 141,
   "metadata": {
    "jupyter": {
     "source_hidden": true
    }
   },
   "outputs": [],
   "source": [
    "# the companies founded around 2000 actually performed better"
   ]
  },
  {
   "cell_type": "code",
   "execution_count": 138,
   "metadata": {
    "collapsed": true,
    "jupyter": {
     "outputs_hidden": true,
     "source_hidden": true
    }
   },
   "outputs": [
    {
     "data": {
      "image/png": "[encoded data removed]",
      "text/plain": [
       "<Figure size 432x288 with 1 Axes>"
      ]
     },
     "metadata": {
      "needs_background": "light"
     },
     "output_type": "display_data"
    }
   ],
   "source": [
    "plt.hist(companies[companies.exit==\"ipo\"].founded_at.values, bins=40)\n",
    "plt.xlim(\"1990\",\"2009\")\n",
    "plt.show()"
   ]
  },
  {
   "cell_type": "code",
   "execution_count": 139,
   "metadata": {
    "collapsed": true,
    "jupyter": {
     "outputs_hidden": true,
     "source_hidden": true
    }
   },
   "outputs": [
    {
     "data": {
      "image/png": "[encoded data removed]",
      "text/plain": [
       "<Figure size 432x288 with 1 Axes>"
      ]
     },
     "metadata": {
      "needs_background": "light"
     },
     "output_type": "display_data"
    }
   ],
   "source": [
    "plt.hist(companies[companies.exit==\"acquisition\"].founded_at.values, bins=40)\n",
    "plt.xlim(\"1990\",\"2009\")\n",
    "plt.show()"
   ]
  },
  {
   "cell_type": "code",
   "execution_count": 140,
   "metadata": {
    "collapsed": true,
    "jupyter": {
     "outputs_hidden": true,
     "source_hidden": true
    }
   },
   "outputs": [
    {
     "data": {
      "image/png": "[encoded data removed]",
      "text/plain": [
       "<Figure size 432x288 with 1 Axes>"
      ]
     },
     "metadata": {
      "needs_background": "light"
     },
     "output_type": "display_data"
    }
   ],
   "source": [
    "plt.hist(companies[companies.status==\"closed\"].founded_at.values, bins=40)\n",
    "plt.xlim(\"1990\",\"2009\")\n",
    "plt.show()"
   ]
  },
  {
   "cell_type": "code",
   "execution_count": 60,
   "metadata": {},
   "outputs": [
    {
     "data": {
      "text/plain": [
       "Timestamp('2013-06-01 00:00:00')"
      ]
     },
     "execution_count": 60,
     "metadata": {},
     "output_type": "execute_result"
    }
   ],
   "source": [
    "max(companies.founded_at)"
   ]
  },
  {
   "cell_type": "code",
   "execution_count": 203,
   "metadata": {},
   "outputs": [],
   "source": [
    "companies[\"founded_year\"] = companies.founded_at.dt.strftime('%Y')"
   ]
  },
  {
   "cell_type": "code",
   "execution_count": 213,
   "metadata": {},
   "outputs": [
    {
     "data": {
      "text/html": [
       "<div>\n",
       "<style scoped>\n",
       "    .dataframe tbody tr th:only-of-type {\n",
       "        vertical-align: middle;\n",
       "    }\n",
       "\n",
       "    .dataframe tbody tr th {\n",
       "        vertical-align: top;\n",
       "    }\n",
       "\n",
       "    .dataframe thead th {\n",
       "        text-align: right;\n",
       "    }\n",
       "</style>\n",
       "<table border=\"1\" class=\"dataframe\">\n",
       "  <thead>\n",
       "    <tr style=\"text-align: right;\">\n",
       "      <th>exit</th>\n",
       "      <th>acquisition</th>\n",
       "      <th>ipo</th>\n",
       "      <th>no exit</th>\n",
       "      <th>All</th>\n",
       "    </tr>\n",
       "    <tr>\n",
       "      <th>founded_year</th>\n",
       "      <th></th>\n",
       "      <th></th>\n",
       "      <th></th>\n",
       "      <th></th>\n",
       "    </tr>\n",
       "  </thead>\n",
       "  <tbody>\n",
       "    <tr>\n",
       "      <th>All</th>\n",
       "      <td>0.224830</td>\n",
       "      <td>0.025738</td>\n",
       "      <td>0.749432</td>\n",
       "      <td>2642</td>\n",
       "    </tr>\n",
       "    <tr>\n",
       "      <th>2006</th>\n",
       "      <td>0.252083</td>\n",
       "      <td>0.022917</td>\n",
       "      <td>0.725000</td>\n",
       "      <td>480</td>\n",
       "    </tr>\n",
       "    <tr>\n",
       "      <th>2005</th>\n",
       "      <td>0.247596</td>\n",
       "      <td>0.024038</td>\n",
       "      <td>0.728365</td>\n",
       "      <td>416</td>\n",
       "    </tr>\n",
       "    <tr>\n",
       "      <th>2007</th>\n",
       "      <td>0.181592</td>\n",
       "      <td>0.007463</td>\n",
       "      <td>0.810945</td>\n",
       "      <td>402</td>\n",
       "    </tr>\n",
       "    <tr>\n",
       "      <th>2004</th>\n",
       "      <td>0.227891</td>\n",
       "      <td>0.027211</td>\n",
       "      <td>0.744898</td>\n",
       "      <td>294</td>\n",
       "    </tr>\n",
       "    <tr>\n",
       "      <th>2003</th>\n",
       "      <td>0.197861</td>\n",
       "      <td>0.037433</td>\n",
       "      <td>0.764706</td>\n",
       "      <td>187</td>\n",
       "    </tr>\n",
       "    <tr>\n",
       "      <th>2008</th>\n",
       "      <td>0.192547</td>\n",
       "      <td>0.024845</td>\n",
       "      <td>0.782609</td>\n",
       "      <td>161</td>\n",
       "    </tr>\n",
       "    <tr>\n",
       "      <th>2002</th>\n",
       "      <td>0.218978</td>\n",
       "      <td>0.000000</td>\n",
       "      <td>0.781022</td>\n",
       "      <td>137</td>\n",
       "    </tr>\n",
       "    <tr>\n",
       "      <th>2000</th>\n",
       "      <td>0.267176</td>\n",
       "      <td>0.015267</td>\n",
       "      <td>0.717557</td>\n",
       "      <td>131</td>\n",
       "    </tr>\n",
       "    <tr>\n",
       "      <th>2001</th>\n",
       "      <td>0.238095</td>\n",
       "      <td>0.038095</td>\n",
       "      <td>0.723810</td>\n",
       "      <td>105</td>\n",
       "    </tr>\n",
       "    <tr>\n",
       "      <th>1999</th>\n",
       "      <td>0.234694</td>\n",
       "      <td>0.071429</td>\n",
       "      <td>0.693878</td>\n",
       "      <td>98</td>\n",
       "    </tr>\n",
       "    <tr>\n",
       "      <th>1998</th>\n",
       "      <td>0.230769</td>\n",
       "      <td>0.057692</td>\n",
       "      <td>0.711538</td>\n",
       "      <td>52</td>\n",
       "    </tr>\n",
       "    <tr>\n",
       "      <th>1997</th>\n",
       "      <td>0.268293</td>\n",
       "      <td>0.024390</td>\n",
       "      <td>0.707317</td>\n",
       "      <td>41</td>\n",
       "    </tr>\n",
       "    <tr>\n",
       "      <th>1996</th>\n",
       "      <td>0.250000</td>\n",
       "      <td>0.100000</td>\n",
       "      <td>0.650000</td>\n",
       "      <td>20</td>\n",
       "    </tr>\n",
       "    <tr>\n",
       "      <th>2009</th>\n",
       "      <td>0.133333</td>\n",
       "      <td>0.000000</td>\n",
       "      <td>0.866667</td>\n",
       "      <td>15</td>\n",
       "    </tr>\n",
       "    <tr>\n",
       "      <th>1995</th>\n",
       "      <td>0.200000</td>\n",
       "      <td>0.066667</td>\n",
       "      <td>0.733333</td>\n",
       "      <td>15</td>\n",
       "    </tr>\n",
       "    <tr>\n",
       "      <th>1994</th>\n",
       "      <td>0.083333</td>\n",
       "      <td>0.166667</td>\n",
       "      <td>0.750000</td>\n",
       "      <td>12</td>\n",
       "    </tr>\n",
       "    <tr>\n",
       "      <th>2010</th>\n",
       "      <td>0.181818</td>\n",
       "      <td>0.000000</td>\n",
       "      <td>0.818182</td>\n",
       "      <td>11</td>\n",
       "    </tr>\n",
       "    <tr>\n",
       "      <th>2012</th>\n",
       "      <td>0.000000</td>\n",
       "      <td>0.000000</td>\n",
       "      <td>1.000000</td>\n",
       "      <td>8</td>\n",
       "    </tr>\n",
       "    <tr>\n",
       "      <th>1993</th>\n",
       "      <td>0.000000</td>\n",
       "      <td>0.125000</td>\n",
       "      <td>0.875000</td>\n",
       "      <td>8</td>\n",
       "    </tr>\n",
       "    <tr>\n",
       "      <th>2011</th>\n",
       "      <td>0.500000</td>\n",
       "      <td>0.000000</td>\n",
       "      <td>0.500000</td>\n",
       "      <td>8</td>\n",
       "    </tr>\n",
       "    <tr>\n",
       "      <th>1992</th>\n",
       "      <td>0.166667</td>\n",
       "      <td>0.000000</td>\n",
       "      <td>0.833333</td>\n",
       "      <td>6</td>\n",
       "    </tr>\n",
       "    <tr>\n",
       "      <th>1990</th>\n",
       "      <td>0.600000</td>\n",
       "      <td>0.000000</td>\n",
       "      <td>0.400000</td>\n",
       "      <td>5</td>\n",
       "    </tr>\n",
       "    <tr>\n",
       "      <th>1989</th>\n",
       "      <td>0.000000</td>\n",
       "      <td>0.000000</td>\n",
       "      <td>1.000000</td>\n",
       "      <td>5</td>\n",
       "    </tr>\n",
       "    <tr>\n",
       "      <th>1991</th>\n",
       "      <td>0.250000</td>\n",
       "      <td>0.000000</td>\n",
       "      <td>0.750000</td>\n",
       "      <td>4</td>\n",
       "    </tr>\n",
       "    <tr>\n",
       "      <th>1988</th>\n",
       "      <td>0.333333</td>\n",
       "      <td>0.000000</td>\n",
       "      <td>0.666667</td>\n",
       "      <td>3</td>\n",
       "    </tr>\n",
       "    <tr>\n",
       "      <th>1986</th>\n",
       "      <td>0.666667</td>\n",
       "      <td>0.000000</td>\n",
       "      <td>0.333333</td>\n",
       "      <td>3</td>\n",
       "    </tr>\n",
       "    <tr>\n",
       "      <th>1984</th>\n",
       "      <td>0.000000</td>\n",
       "      <td>0.333333</td>\n",
       "      <td>0.666667</td>\n",
       "      <td>3</td>\n",
       "    </tr>\n",
       "    <tr>\n",
       "      <th>1983</th>\n",
       "      <td>0.000000</td>\n",
       "      <td>0.000000</td>\n",
       "      <td>1.000000</td>\n",
       "      <td>3</td>\n",
       "    </tr>\n",
       "    <tr>\n",
       "      <th>2013</th>\n",
       "      <td>0.000000</td>\n",
       "      <td>0.000000</td>\n",
       "      <td>1.000000</td>\n",
       "      <td>2</td>\n",
       "    </tr>\n",
       "    <tr>\n",
       "      <th>1985</th>\n",
       "      <td>1.000000</td>\n",
       "      <td>0.000000</td>\n",
       "      <td>0.000000</td>\n",
       "      <td>1</td>\n",
       "    </tr>\n",
       "    <tr>\n",
       "      <th>1978</th>\n",
       "      <td>0.000000</td>\n",
       "      <td>1.000000</td>\n",
       "      <td>0.000000</td>\n",
       "      <td>1</td>\n",
       "    </tr>\n",
       "    <tr>\n",
       "      <th>1980</th>\n",
       "      <td>0.000000</td>\n",
       "      <td>0.000000</td>\n",
       "      <td>1.000000</td>\n",
       "      <td>1</td>\n",
       "    </tr>\n",
       "    <tr>\n",
       "      <th>1981</th>\n",
       "      <td>0.000000</td>\n",
       "      <td>0.000000</td>\n",
       "      <td>1.000000</td>\n",
       "      <td>1</td>\n",
       "    </tr>\n",
       "    <tr>\n",
       "      <th>1987</th>\n",
       "      <td>0.000000</td>\n",
       "      <td>0.000000</td>\n",
       "      <td>1.000000</td>\n",
       "      <td>1</td>\n",
       "    </tr>\n",
       "    <tr>\n",
       "      <th>1967</th>\n",
       "      <td>0.000000</td>\n",
       "      <td>0.000000</td>\n",
       "      <td>1.000000</td>\n",
       "      <td>1</td>\n",
       "    </tr>\n",
       "    <tr>\n",
       "      <th>1947</th>\n",
       "      <td>0.000000</td>\n",
       "      <td>0.000000</td>\n",
       "      <td>1.000000</td>\n",
       "      <td>1</td>\n",
       "    </tr>\n",
       "  </tbody>\n",
       "</table>\n",
       "</div>"
      ],
      "text/plain": [
       "exit          acquisition       ipo   no exit   All\n",
       "founded_year                                       \n",
       "All              0.224830  0.025738  0.749432  2642\n",
       "2006             0.252083  0.022917  0.725000   480\n",
       "2005             0.247596  0.024038  0.728365   416\n",
       "2007             0.181592  0.007463  0.810945   402\n",
       "2004             0.227891  0.027211  0.744898   294\n",
       "2003             0.197861  0.037433  0.764706   187\n",
       "2008             0.192547  0.024845  0.782609   161\n",
       "2002             0.218978  0.000000  0.781022   137\n",
       "2000             0.267176  0.015267  0.717557   131\n",
       "2001             0.238095  0.038095  0.723810   105\n",
       "1999             0.234694  0.071429  0.693878    98\n",
       "1998             0.230769  0.057692  0.711538    52\n",
       "1997             0.268293  0.024390  0.707317    41\n",
       "1996             0.250000  0.100000  0.650000    20\n",
       "2009             0.133333  0.000000  0.866667    15\n",
       "1995             0.200000  0.066667  0.733333    15\n",
       "1994             0.083333  0.166667  0.750000    12\n",
       "2010             0.181818  0.000000  0.818182    11\n",
       "2012             0.000000  0.000000  1.000000     8\n",
       "1993             0.000000  0.125000  0.875000     8\n",
       "2011             0.500000  0.000000  0.500000     8\n",
       "1992             0.166667  0.000000  0.833333     6\n",
       "1990             0.600000  0.000000  0.400000     5\n",
       "1989             0.000000  0.000000  1.000000     5\n",
       "1991             0.250000  0.000000  0.750000     4\n",
       "1988             0.333333  0.000000  0.666667     3\n",
       "1986             0.666667  0.000000  0.333333     3\n",
       "1984             0.000000  0.333333  0.666667     3\n",
       "1983             0.000000  0.000000  1.000000     3\n",
       "2013             0.000000  0.000000  1.000000     2\n",
       "1985             1.000000  0.000000  0.000000     1\n",
       "1978             0.000000  1.000000  0.000000     1\n",
       "1980             0.000000  0.000000  1.000000     1\n",
       "1981             0.000000  0.000000  1.000000     1\n",
       "1987             0.000000  0.000000  1.000000     1\n",
       "1967             0.000000  0.000000  1.000000     1\n",
       "1947             0.000000  0.000000  1.000000     1"
      ]
     },
     "execution_count": 213,
     "metadata": {},
     "output_type": "execute_result"
    }
   ],
   "source": [
    "pivot_founded = pd.pivot_table(companies, values='id', index=[\"founded_year\"],\n",
    "                    columns=['exit'], aggfunc= \"count\", margins = True)\n",
    "pivot_founded = pivot_founded.fillna(0).sort_values(by = \"All\", ascending=False)\n",
    "pivot_founded.acquisition = pivot_founded.acquisition/pivot_founded.All\n",
    "pivot_founded.ipo = pivot_founded.ipo/pivot_founded.All\n",
    "pivot_founded[\"no exit\"] = pivot_founded[\"no exit\"]/pivot_founded.All\n",
    "pivot_founded"
   ]
  },
  {
   "cell_type": "code",
   "execution_count": 214,
   "metadata": {},
   "outputs": [
    {
     "data": {
      "image/png": "[encoded data removed]",
      "text/plain": [
       "<Figure size 864x288 with 1 Axes>"
      ]
     },
     "metadata": {
      "needs_background": "light"
     },
     "output_type": "display_data"
    }
   ],
   "source": [
    "plt.figure(figsize=(12,4))\n",
    "plt.bar(pivot_founded.index,height=pivot_founded[\"ipo\"])\n",
    "plt.xticks(rotation=90)\n",
    "plt.show()"
   ]
  },
  {
   "cell_type": "code",
   "execution_count": 216,
   "metadata": {},
   "outputs": [],
   "source": [
    "# 1994 - 1996 & 1998-1999 more chances of ipo\n",
    "# 2002 & 2007 less chances of ipo"
   ]
  },
  {
   "cell_type": "code",
   "execution_count": 217,
   "metadata": {},
   "outputs": [
    {
     "data": {
      "image/png": "[encoded data removed]",
      "text/plain": [
       "<Figure size 864x288 with 1 Axes>"
      ]
     },
     "metadata": {
      "needs_background": "light"
     },
     "output_type": "display_data"
    }
   ],
   "source": [
    "plt.figure(figsize=(12,4))\n",
    "plt.bar(pivot_founded.index,height=pivot_founded[\"acquisition\"])\n",
    "plt.xticks(rotation=90)\n",
    "plt.show()"
   ]
  },
  {
   "cell_type": "code",
   "execution_count": 218,
   "metadata": {},
   "outputs": [],
   "source": [
    "#2007 - less chances of acquisition"
   ]
  },
  {
   "cell_type": "code",
   "execution_count": 219,
   "metadata": {},
   "outputs": [
    {
     "data": {
      "image/png": "[encoded data removed]",
      "text/plain": [
       "<Figure size 864x288 with 1 Axes>"
      ]
     },
     "metadata": {
      "needs_background": "light"
     },
     "output_type": "display_data"
    }
   ],
   "source": [
    "plt.figure(figsize=(12,4))\n",
    "plt.bar(pivot_founded.index,height=pivot_founded[\"no exit\"])\n",
    "plt.xticks(rotation=90)\n",
    "plt.show()"
   ]
  },
  {
   "cell_type": "code",
   "execution_count": 220,
   "metadata": {},
   "outputs": [],
   "source": [
    "# 1996-1999 more chances of exit\n",
    "# 2007 less chances of exit"
   ]
  },
  {
   "cell_type": "markdown",
   "metadata": {},
   "source": [
    "# DateDiff"
   ]
  },
  {
   "cell_type": "code",
   "execution_count": null,
   "metadata": {},
   "outputs": [],
   "source": [
    "# To do"
   ]
  },
  {
   "cell_type": "markdown",
   "metadata": {},
   "source": [
    "# Closed at"
   ]
  },
  {
   "cell_type": "code",
   "execution_count": 95,
   "metadata": {},
   "outputs": [
    {
     "name": "stderr",
     "output_type": "stream",
     "text": [
      "/Users/joannavitiello/.pyenv/versions/3.7.7/envs/lewagon/lib/python3.7/site-packages/numpy/lib/histograms.py:839: RuntimeWarning: invalid value encountered in greater_equal\n",
      "  keep = (tmp_a >= first_edge)\n",
      "/Users/joannavitiello/.pyenv/versions/3.7.7/envs/lewagon/lib/python3.7/site-packages/numpy/lib/histograms.py:840: RuntimeWarning: invalid value encountered in less_equal\n",
      "  keep &= (tmp_a <= last_edge)\n"
     ]
    },
    {
     "data": {
      "image/png": "[encoded data removed]",
      "text/plain": [
       "<Figure size 432x288 with 1 Axes>"
      ]
     },
     "metadata": {
      "needs_background": "light"
     },
     "output_type": "display_data"
    }
   ],
   "source": [
    "companies.closed_at = pd.to_datetime(companies.closed_at)\n",
    "plt.hist(companies.closed_at.values, bins=40)\n",
    "plt.show()"
   ]
  },
  {
   "cell_type": "code",
   "execution_count": 88,
   "metadata": {},
   "outputs": [],
   "source": [
    "# see some clear spikes"
   ]
  },
  {
   "cell_type": "markdown",
   "metadata": {},
   "source": [
    "# Exit Date"
   ]
  },
  {
   "cell_type": "code",
   "execution_count": 96,
   "metadata": {},
   "outputs": [
    {
     "name": "stderr",
     "output_type": "stream",
     "text": [
      "/Users/joannavitiello/.pyenv/versions/3.7.7/envs/lewagon/lib/python3.7/site-packages/numpy/lib/histograms.py:839: RuntimeWarning: invalid value encountered in greater_equal\n",
      "  keep = (tmp_a >= first_edge)\n",
      "/Users/joannavitiello/.pyenv/versions/3.7.7/envs/lewagon/lib/python3.7/site-packages/numpy/lib/histograms.py:840: RuntimeWarning: invalid value encountered in less_equal\n",
      "  keep &= (tmp_a <= last_edge)\n"
     ]
    },
    {
     "data": {
      "image/png": "[encoded data removed]",
      "text/plain": [
       "<Figure size 432x288 with 1 Axes>"
      ]
     },
     "metadata": {
      "needs_background": "light"
     },
     "output_type": "display_data"
    }
   ],
   "source": [
    "companies.exit_date = pd.to_datetime(companies.exit_date)\n",
    "plt.hist(companies.exit_date.values, bins=40)\n",
    "plt.show()"
   ]
  },
  {
   "cell_type": "code",
   "execution_count": 98,
   "metadata": {},
   "outputs": [
    {
     "data": {
      "text/html": [
       "<div>\n",
       "<style scoped>\n",
       "    .dataframe tbody tr th:only-of-type {\n",
       "        vertical-align: middle;\n",
       "    }\n",
       "\n",
       "    .dataframe tbody tr th {\n",
       "        vertical-align: top;\n",
       "    }\n",
       "\n",
       "    .dataframe thead th {\n",
       "        text-align: right;\n",
       "    }\n",
       "</style>\n",
       "<table border=\"1\" class=\"dataframe\">\n",
       "  <thead>\n",
       "    <tr style=\"text-align: right;\">\n",
       "      <th></th>\n",
       "      <th>id</th>\n",
       "      <th>normalized_name</th>\n",
       "      <th>category_code</th>\n",
       "      <th>founded_at</th>\n",
       "      <th>description</th>\n",
       "      <th>closed_at</th>\n",
       "      <th>status</th>\n",
       "      <th>exit</th>\n",
       "      <th>exit_date</th>\n",
       "      <th>country_code</th>\n",
       "      <th>...</th>\n",
       "      <th>top_50</th>\n",
       "      <th>top_5_bool</th>\n",
       "      <th>top_20_bool</th>\n",
       "      <th>top_50_bool</th>\n",
       "      <th>n_female_founders</th>\n",
       "      <th>female_ratio</th>\n",
       "      <th>mean_comp_founded_ever</th>\n",
       "      <th>mean_comp_founded_before</th>\n",
       "      <th>mean_comp_worked_before</th>\n",
       "      <th>target</th>\n",
       "    </tr>\n",
       "  </thead>\n",
       "  <tbody>\n",
       "    <tr>\n",
       "      <th>796</th>\n",
       "      <td>c:2623</td>\n",
       "      <td>epals</td>\n",
       "      <td>web</td>\n",
       "      <td>1996-01-01</td>\n",
       "      <td>web   Online Education Community ePals Corpora...</td>\n",
       "      <td>NaT</td>\n",
       "      <td>ipo</td>\n",
       "      <td>ipo</td>\n",
       "      <td>2020-09-08</td>\n",
       "      <td>USA</td>\n",
       "      <td>...</td>\n",
       "      <td>0.0</td>\n",
       "      <td>0.0</td>\n",
       "      <td>1.0</td>\n",
       "      <td>0.0</td>\n",
       "      <td>1.0</td>\n",
       "      <td>1.0</td>\n",
       "      <td>1.0</td>\n",
       "      <td>0.0</td>\n",
       "      <td>0.0</td>\n",
       "      <td>1</td>\n",
       "    </tr>\n",
       "  </tbody>\n",
       "</table>\n",
       "<p>1 rows × 41 columns</p>\n",
       "</div>"
      ],
      "text/plain": [
       "         id normalized_name category_code founded_at  \\\n",
       "796  c:2623           epals           web 1996-01-01   \n",
       "\n",
       "                                           description closed_at status exit  \\\n",
       "796  web   Online Education Community ePals Corpora...       NaT    ipo  ipo   \n",
       "\n",
       "     exit_date country_code  ... top_50 top_5_bool  top_20_bool  top_50_bool  \\\n",
       "796 2020-09-08          USA  ...    0.0        0.0          1.0          0.0   \n",
       "\n",
       "     n_female_founders  female_ratio  mean_comp_founded_ever  \\\n",
       "796                1.0           1.0                     1.0   \n",
       "\n",
       "     mean_comp_founded_before  mean_comp_worked_before  target  \n",
       "796                       0.0                      0.0       1  \n",
       "\n",
       "[1 rows x 41 columns]"
      ]
     },
     "execution_count": 98,
     "metadata": {},
     "output_type": "execute_result"
    }
   ],
   "source": [
    "companies[companies.exit_date > \"2014\"]"
   ]
  },
  {
   "cell_type": "markdown",
   "metadata": {},
   "source": [
    "# Date Series A"
   ]
  },
  {
   "cell_type": "code",
   "execution_count": 136,
   "metadata": {},
   "outputs": [
    {
     "data": {
      "image/png": "[encoded data removed]",
      "text/plain": [
       "<Figure size 432x288 with 1 Axes>"
      ]
     },
     "metadata": {
      "needs_background": "light"
     },
     "output_type": "display_data"
    }
   ],
   "source": [
    "companies.date_series_a = pd.to_datetime(companies.date_series_a)\n",
    "plt.hist(companies.date_series_a.values, bins=40)\n",
    "plt.xlim(\"1980\",\"2009\")\n",
    "plt.show()"
   ]
  },
  {
   "cell_type": "code",
   "execution_count": 145,
   "metadata": {},
   "outputs": [
    {
     "data": {
      "image/png": "[encoded data removed]",
      "text/plain": [
       "<Figure size 432x288 with 1 Axes>"
      ]
     },
     "metadata": {
      "needs_background": "light"
     },
     "output_type": "display_data"
    }
   ],
   "source": [
    "plt.hist(companies[companies.exit==\"ipo\"].date_series_a.values, bins=40)\n",
    "plt.xlim(\"1980\",\"2009\")\n",
    "plt.show()"
   ]
  },
  {
   "cell_type": "code",
   "execution_count": 147,
   "metadata": {},
   "outputs": [
    {
     "data": {
      "image/png": "[encoded data removed]",
      "text/plain": [
       "<Figure size 432x288 with 1 Axes>"
      ]
     },
     "metadata": {
      "needs_background": "light"
     },
     "output_type": "display_data"
    }
   ],
   "source": [
    "plt.hist(companies[companies.exit==\"acquisition\"].date_series_a.values, bins=40)\n",
    "plt.xlim(\"1980\",\"2009\")\n",
    "plt.show()"
   ]
  },
  {
   "cell_type": "code",
   "execution_count": 149,
   "metadata": {},
   "outputs": [
    {
     "data": {
      "image/png": "[encoded data removed]",
      "text/plain": [
       "<Figure size 432x288 with 1 Axes>"
      ]
     },
     "metadata": {
      "needs_background": "light"
     },
     "output_type": "display_data"
    }
   ],
   "source": [
    "plt.hist(companies[companies.exit==\"no exit\"].date_series_a.values, bins=40)\n",
    "plt.xlim(\"1980\",\"2009\")\n",
    "plt.show()"
   ]
  },
  {
   "cell_type": "code",
   "execution_count": 150,
   "metadata": {},
   "outputs": [
    {
     "data": {
      "image/png": "[encoded data removed]",
      "text/plain": [
       "<Figure size 432x288 with 1 Axes>"
      ]
     },
     "metadata": {
      "needs_background": "light"
     },
     "output_type": "display_data"
    }
   ],
   "source": [
    "plt.hist(companies[companies.status==\"closed\"].date_series_a.values, bins=40)\n",
    "plt.show()"
   ]
  },
  {
   "cell_type": "markdown",
   "metadata": {},
   "source": [
    "# Country Code"
   ]
  },
  {
   "cell_type": "code",
   "execution_count": 106,
   "metadata": {},
   "outputs": [
    {
     "data": {
      "image/png": "[encoded data removed]",
      "text/plain": [
       "<Figure size 864x288 with 1 Axes>"
      ]
     },
     "metadata": {
      "needs_background": "light"
     },
     "output_type": "display_data"
    }
   ],
   "source": [
    "plt.figure(figsize=(12,4))\n",
    "sns.countplot(x=\"country_code\",data = companies[companies.exit==\"ipo\"].sort_values(by=\"country_code\"))\n",
    "plt.xticks(rotation=90)\n",
    "plt.show()"
   ]
  },
  {
   "cell_type": "code",
   "execution_count": 105,
   "metadata": {},
   "outputs": [
    {
     "data": {
      "image/png": "[encoded data removed]",
      "text/plain": [
       "<Figure size 864x288 with 1 Axes>"
      ]
     },
     "metadata": {
      "needs_background": "light"
     },
     "output_type": "display_data"
    }
   ],
   "source": [
    "plt.figure(figsize=(12,4))\n",
    "sns.countplot(x=\"country_code\",data = companies[companies.exit==\"acquisition\"].sort_values(by=\"country_code\"))\n",
    "plt.xticks(rotation=90)\n",
    "plt.show()"
   ]
  },
  {
   "cell_type": "code",
   "execution_count": 107,
   "metadata": {},
   "outputs": [
    {
     "data": {
      "image/png": "[encoded data removed]",
      "text/plain": [
       "<Figure size 864x288 with 1 Axes>"
      ]
     },
     "metadata": {
      "needs_background": "light"
     },
     "output_type": "display_data"
    }
   ],
   "source": [
    "plt.figure(figsize=(12,4))\n",
    "sns.countplot(x=\"country_code\",data = companies[companies.exit==\"no exit\"].sort_values(by=\"country_code\"))\n",
    "plt.xticks(rotation=90)\n",
    "plt.show()"
   ]
  },
  {
   "cell_type": "code",
   "execution_count": 108,
   "metadata": {},
   "outputs": [
    {
     "data": {
      "image/png": "[encoded data removed]",
      "text/plain": [
       "<Figure size 864x288 with 1 Axes>"
      ]
     },
     "metadata": {
      "needs_background": "light"
     },
     "output_type": "display_data"
    }
   ],
   "source": [
    "plt.figure(figsize=(12,4))\n",
    "sns.countplot(x=\"country_code\",data = companies[companies.status==\"closed\"].sort_values(by=\"country_code\"))\n",
    "plt.xticks(rotation=90)\n",
    "plt.show()"
   ]
  },
  {
   "cell_type": "code",
   "execution_count": 164,
   "metadata": {},
   "outputs": [],
   "source": [
    "pivot_countries = pd.pivot_table(companies, values='id', index=[\"country_code\"],\n",
    "                    columns=['exit'], aggfunc= \"count\", margins = True)\n",
    "pivot_countries = pivot_countries.fillna(0).sort_values(by = \"All\", ascending=False)\n",
    "pivot_countries.acquisition = pivot_countries.acquisition/pivot_countries.All\n",
    "pivot_countries.ipo = pivot_countries.ipo/pivot_countries.All\n",
    "pivot_countries[\"no exit\"] = pivot_countries[\"no exit\"]/pivot_countries.All"
   ]
  },
  {
   "cell_type": "code",
   "execution_count": 177,
   "metadata": {},
   "outputs": [
    {
     "data": {
      "text/html": [
       "<div>\n",
       "<style scoped>\n",
       "    .dataframe tbody tr th:only-of-type {\n",
       "        vertical-align: middle;\n",
       "    }\n",
       "\n",
       "    .dataframe tbody tr th {\n",
       "        vertical-align: top;\n",
       "    }\n",
       "\n",
       "    .dataframe thead th {\n",
       "        text-align: right;\n",
       "    }\n",
       "</style>\n",
       "<table border=\"1\" class=\"dataframe\">\n",
       "  <thead>\n",
       "    <tr style=\"text-align: right;\">\n",
       "      <th>exit</th>\n",
       "      <th>acquisition</th>\n",
       "      <th>ipo</th>\n",
       "      <th>no exit</th>\n",
       "      <th>All</th>\n",
       "    </tr>\n",
       "    <tr>\n",
       "      <th>country_code</th>\n",
       "      <th></th>\n",
       "      <th></th>\n",
       "      <th></th>\n",
       "      <th></th>\n",
       "    </tr>\n",
       "  </thead>\n",
       "  <tbody>\n",
       "    <tr>\n",
       "      <th>All</th>\n",
       "      <td>0.226748</td>\n",
       "      <td>0.023092</td>\n",
       "      <td>0.750160</td>\n",
       "      <td>3118</td>\n",
       "    </tr>\n",
       "    <tr>\n",
       "      <th>USA</th>\n",
       "      <td>0.252843</td>\n",
       "      <td>0.027559</td>\n",
       "      <td>0.719598</td>\n",
       "      <td>2286</td>\n",
       "    </tr>\n",
       "    <tr>\n",
       "      <th>GBR</th>\n",
       "      <td>0.174419</td>\n",
       "      <td>0.005814</td>\n",
       "      <td>0.819767</td>\n",
       "      <td>172</td>\n",
       "    </tr>\n",
       "    <tr>\n",
       "      <th>FRA</th>\n",
       "      <td>0.095238</td>\n",
       "      <td>0.007937</td>\n",
       "      <td>0.896825</td>\n",
       "      <td>126</td>\n",
       "    </tr>\n",
       "    <tr>\n",
       "      <th>CAN</th>\n",
       "      <td>0.320000</td>\n",
       "      <td>0.000000</td>\n",
       "      <td>0.680000</td>\n",
       "      <td>75</td>\n",
       "    </tr>\n",
       "    <tr>\n",
       "      <th>ISR</th>\n",
       "      <td>0.289855</td>\n",
       "      <td>0.014493</td>\n",
       "      <td>0.695652</td>\n",
       "      <td>69</td>\n",
       "    </tr>\n",
       "    <tr>\n",
       "      <th>DEU</th>\n",
       "      <td>0.161765</td>\n",
       "      <td>0.014706</td>\n",
       "      <td>0.823529</td>\n",
       "      <td>68</td>\n",
       "    </tr>\n",
       "    <tr>\n",
       "      <th>CHN</th>\n",
       "      <td>0.044444</td>\n",
       "      <td>0.022222</td>\n",
       "      <td>0.933333</td>\n",
       "      <td>45</td>\n",
       "    </tr>\n",
       "    <tr>\n",
       "      <th>SWE</th>\n",
       "      <td>0.096774</td>\n",
       "      <td>0.000000</td>\n",
       "      <td>0.903226</td>\n",
       "      <td>31</td>\n",
       "    </tr>\n",
       "    <tr>\n",
       "      <th>IND</th>\n",
       "      <td>0.071429</td>\n",
       "      <td>0.000000</td>\n",
       "      <td>0.928571</td>\n",
       "      <td>28</td>\n",
       "    </tr>\n",
       "    <tr>\n",
       "      <th>IRL</th>\n",
       "      <td>0.210526</td>\n",
       "      <td>0.000000</td>\n",
       "      <td>0.789474</td>\n",
       "      <td>19</td>\n",
       "    </tr>\n",
       "    <tr>\n",
       "      <th>NLD</th>\n",
       "      <td>0.058824</td>\n",
       "      <td>0.058824</td>\n",
       "      <td>0.882353</td>\n",
       "      <td>17</td>\n",
       "    </tr>\n",
       "    <tr>\n",
       "      <th>ESP</th>\n",
       "      <td>0.058824</td>\n",
       "      <td>0.000000</td>\n",
       "      <td>0.941176</td>\n",
       "      <td>17</td>\n",
       "    </tr>\n",
       "    <tr>\n",
       "      <th>CHE</th>\n",
       "      <td>0.058824</td>\n",
       "      <td>0.000000</td>\n",
       "      <td>0.941176</td>\n",
       "      <td>17</td>\n",
       "    </tr>\n",
       "    <tr>\n",
       "      <th>DNK</th>\n",
       "      <td>0.214286</td>\n",
       "      <td>0.000000</td>\n",
       "      <td>0.785714</td>\n",
       "      <td>14</td>\n",
       "    </tr>\n",
       "    <tr>\n",
       "      <th>AUS</th>\n",
       "      <td>0.153846</td>\n",
       "      <td>0.000000</td>\n",
       "      <td>0.846154</td>\n",
       "      <td>13</td>\n",
       "    </tr>\n",
       "    <tr>\n",
       "      <th>NOR</th>\n",
       "      <td>0.000000</td>\n",
       "      <td>0.000000</td>\n",
       "      <td>1.000000</td>\n",
       "      <td>10</td>\n",
       "    </tr>\n",
       "    <tr>\n",
       "      <th>BEL</th>\n",
       "      <td>0.200000</td>\n",
       "      <td>0.000000</td>\n",
       "      <td>0.800000</td>\n",
       "      <td>10</td>\n",
       "    </tr>\n",
       "    <tr>\n",
       "      <th>RUS</th>\n",
       "      <td>0.111111</td>\n",
       "      <td>0.111111</td>\n",
       "      <td>0.777778</td>\n",
       "      <td>9</td>\n",
       "    </tr>\n",
       "    <tr>\n",
       "      <th>SGP</th>\n",
       "      <td>0.000000</td>\n",
       "      <td>0.000000</td>\n",
       "      <td>1.000000</td>\n",
       "      <td>9</td>\n",
       "    </tr>\n",
       "    <tr>\n",
       "      <th>AUT</th>\n",
       "      <td>0.111111</td>\n",
       "      <td>0.000000</td>\n",
       "      <td>0.888889</td>\n",
       "      <td>9</td>\n",
       "    </tr>\n",
       "    <tr>\n",
       "      <th>FIN</th>\n",
       "      <td>0.000000</td>\n",
       "      <td>0.000000</td>\n",
       "      <td>1.000000</td>\n",
       "      <td>9</td>\n",
       "    </tr>\n",
       "    <tr>\n",
       "      <th>JPN</th>\n",
       "      <td>0.250000</td>\n",
       "      <td>0.125000</td>\n",
       "      <td>0.625000</td>\n",
       "      <td>8</td>\n",
       "    </tr>\n",
       "    <tr>\n",
       "      <th>ITA</th>\n",
       "      <td>0.142857</td>\n",
       "      <td>0.000000</td>\n",
       "      <td>0.857143</td>\n",
       "      <td>7</td>\n",
       "    </tr>\n",
       "    <tr>\n",
       "      <th>BRA</th>\n",
       "      <td>0.166667</td>\n",
       "      <td>0.000000</td>\n",
       "      <td>0.833333</td>\n",
       "      <td>6</td>\n",
       "    </tr>\n",
       "    <tr>\n",
       "      <th>KOR</th>\n",
       "      <td>0.166667</td>\n",
       "      <td>0.000000</td>\n",
       "      <td>0.833333</td>\n",
       "      <td>6</td>\n",
       "    </tr>\n",
       "    <tr>\n",
       "      <th>ZAF</th>\n",
       "      <td>0.000000</td>\n",
       "      <td>0.000000</td>\n",
       "      <td>1.000000</td>\n",
       "      <td>5</td>\n",
       "    </tr>\n",
       "    <tr>\n",
       "      <th>ARG</th>\n",
       "      <td>0.250000</td>\n",
       "      <td>0.000000</td>\n",
       "      <td>0.750000</td>\n",
       "      <td>4</td>\n",
       "    </tr>\n",
       "    <tr>\n",
       "      <th>HKG</th>\n",
       "      <td>0.000000</td>\n",
       "      <td>0.000000</td>\n",
       "      <td>1.000000</td>\n",
       "      <td>3</td>\n",
       "    </tr>\n",
       "    <tr>\n",
       "      <th>PRT</th>\n",
       "      <td>0.000000</td>\n",
       "      <td>0.000000</td>\n",
       "      <td>1.000000</td>\n",
       "      <td>3</td>\n",
       "    </tr>\n",
       "    <tr>\n",
       "      <th>CZE</th>\n",
       "      <td>0.000000</td>\n",
       "      <td>0.333333</td>\n",
       "      <td>0.666667</td>\n",
       "      <td>3</td>\n",
       "    </tr>\n",
       "    <tr>\n",
       "      <th>POL</th>\n",
       "      <td>0.000000</td>\n",
       "      <td>0.000000</td>\n",
       "      <td>1.000000</td>\n",
       "      <td>2</td>\n",
       "    </tr>\n",
       "    <tr>\n",
       "      <th>LUX</th>\n",
       "      <td>0.500000</td>\n",
       "      <td>0.000000</td>\n",
       "      <td>0.500000</td>\n",
       "      <td>2</td>\n",
       "    </tr>\n",
       "    <tr>\n",
       "      <th>MYS</th>\n",
       "      <td>0.500000</td>\n",
       "      <td>0.000000</td>\n",
       "      <td>0.500000</td>\n",
       "      <td>2</td>\n",
       "    </tr>\n",
       "    <tr>\n",
       "      <th>MKD</th>\n",
       "      <td>0.000000</td>\n",
       "      <td>0.000000</td>\n",
       "      <td>1.000000</td>\n",
       "      <td>1</td>\n",
       "    </tr>\n",
       "    <tr>\n",
       "      <th>MEX</th>\n",
       "      <td>0.000000</td>\n",
       "      <td>0.000000</td>\n",
       "      <td>1.000000</td>\n",
       "      <td>1</td>\n",
       "    </tr>\n",
       "    <tr>\n",
       "      <th>CYP</th>\n",
       "      <td>0.000000</td>\n",
       "      <td>0.000000</td>\n",
       "      <td>1.000000</td>\n",
       "      <td>1</td>\n",
       "    </tr>\n",
       "    <tr>\n",
       "      <th>ROM</th>\n",
       "      <td>0.000000</td>\n",
       "      <td>0.000000</td>\n",
       "      <td>1.000000</td>\n",
       "      <td>1</td>\n",
       "    </tr>\n",
       "    <tr>\n",
       "      <th>IDN</th>\n",
       "      <td>0.000000</td>\n",
       "      <td>0.000000</td>\n",
       "      <td>1.000000</td>\n",
       "      <td>1</td>\n",
       "    </tr>\n",
       "    <tr>\n",
       "      <th>SAU</th>\n",
       "      <td>0.000000</td>\n",
       "      <td>0.000000</td>\n",
       "      <td>1.000000</td>\n",
       "      <td>1</td>\n",
       "    </tr>\n",
       "    <tr>\n",
       "      <th>HRV</th>\n",
       "      <td>0.000000</td>\n",
       "      <td>0.000000</td>\n",
       "      <td>1.000000</td>\n",
       "      <td>1</td>\n",
       "    </tr>\n",
       "    <tr>\n",
       "      <th>GRC</th>\n",
       "      <td>0.000000</td>\n",
       "      <td>0.000000</td>\n",
       "      <td>1.000000</td>\n",
       "      <td>1</td>\n",
       "    </tr>\n",
       "    <tr>\n",
       "      <th>UKR</th>\n",
       "      <td>0.000000</td>\n",
       "      <td>0.000000</td>\n",
       "      <td>1.000000</td>\n",
       "      <td>1</td>\n",
       "    </tr>\n",
       "    <tr>\n",
       "      <th>UMI</th>\n",
       "      <td>1.000000</td>\n",
       "      <td>0.000000</td>\n",
       "      <td>0.000000</td>\n",
       "      <td>1</td>\n",
       "    </tr>\n",
       "    <tr>\n",
       "      <th>CYM</th>\n",
       "      <td>0.000000</td>\n",
       "      <td>0.000000</td>\n",
       "      <td>1.000000</td>\n",
       "      <td>1</td>\n",
       "    </tr>\n",
       "    <tr>\n",
       "      <th>VNM</th>\n",
       "      <td>0.000000</td>\n",
       "      <td>0.000000</td>\n",
       "      <td>1.000000</td>\n",
       "      <td>1</td>\n",
       "    </tr>\n",
       "    <tr>\n",
       "      <th>EST</th>\n",
       "      <td>0.000000</td>\n",
       "      <td>0.000000</td>\n",
       "      <td>1.000000</td>\n",
       "      <td>1</td>\n",
       "    </tr>\n",
       "    <tr>\n",
       "      <th>ARE</th>\n",
       "      <td>0.000000</td>\n",
       "      <td>0.000000</td>\n",
       "      <td>1.000000</td>\n",
       "      <td>1</td>\n",
       "    </tr>\n",
       "  </tbody>\n",
       "</table>\n",
       "</div>"
      ],
      "text/plain": [
       "exit          acquisition       ipo   no exit   All\n",
       "country_code                                       \n",
       "All              0.226748  0.023092  0.750160  3118\n",
       "USA              0.252843  0.027559  0.719598  2286\n",
       "GBR              0.174419  0.005814  0.819767   172\n",
       "FRA              0.095238  0.007937  0.896825   126\n",
       "CAN              0.320000  0.000000  0.680000    75\n",
       "ISR              0.289855  0.014493  0.695652    69\n",
       "DEU              0.161765  0.014706  0.823529    68\n",
       "CHN              0.044444  0.022222  0.933333    45\n",
       "SWE              0.096774  0.000000  0.903226    31\n",
       "IND              0.071429  0.000000  0.928571    28\n",
       "IRL              0.210526  0.000000  0.789474    19\n",
       "NLD              0.058824  0.058824  0.882353    17\n",
       "ESP              0.058824  0.000000  0.941176    17\n",
       "CHE              0.058824  0.000000  0.941176    17\n",
       "DNK              0.214286  0.000000  0.785714    14\n",
       "AUS              0.153846  0.000000  0.846154    13\n",
       "NOR              0.000000  0.000000  1.000000    10\n",
       "BEL              0.200000  0.000000  0.800000    10\n",
       "RUS              0.111111  0.111111  0.777778     9\n",
       "SGP              0.000000  0.000000  1.000000     9\n",
       "AUT              0.111111  0.000000  0.888889     9\n",
       "FIN              0.000000  0.000000  1.000000     9\n",
       "JPN              0.250000  0.125000  0.625000     8\n",
       "ITA              0.142857  0.000000  0.857143     7\n",
       "BRA              0.166667  0.000000  0.833333     6\n",
       "KOR              0.166667  0.000000  0.833333     6\n",
       "ZAF              0.000000  0.000000  1.000000     5\n",
       "ARG              0.250000  0.000000  0.750000     4\n",
       "HKG              0.000000  0.000000  1.000000     3\n",
       "PRT              0.000000  0.000000  1.000000     3\n",
       "CZE              0.000000  0.333333  0.666667     3\n",
       "POL              0.000000  0.000000  1.000000     2\n",
       "LUX              0.500000  0.000000  0.500000     2\n",
       "MYS              0.500000  0.000000  0.500000     2\n",
       "MKD              0.000000  0.000000  1.000000     1\n",
       "MEX              0.000000  0.000000  1.000000     1\n",
       "CYP              0.000000  0.000000  1.000000     1\n",
       "ROM              0.000000  0.000000  1.000000     1\n",
       "IDN              0.000000  0.000000  1.000000     1\n",
       "SAU              0.000000  0.000000  1.000000     1\n",
       "HRV              0.000000  0.000000  1.000000     1\n",
       "GRC              0.000000  0.000000  1.000000     1\n",
       "UKR              0.000000  0.000000  1.000000     1\n",
       "UMI              1.000000  0.000000  0.000000     1\n",
       "CYM              0.000000  0.000000  1.000000     1\n",
       "VNM              0.000000  0.000000  1.000000     1\n",
       "EST              0.000000  0.000000  1.000000     1\n",
       "ARE              0.000000  0.000000  1.000000     1"
      ]
     },
     "execution_count": 177,
     "metadata": {},
     "output_type": "execute_result"
    }
   ],
   "source": [
    "pivot_countries"
   ]
  },
  {
   "cell_type": "code",
   "execution_count": 176,
   "metadata": {},
   "outputs": [
    {
     "data": {
      "image/png": "[encoded data removed]",
      "text/plain": [
       "<Figure size 864x288 with 1 Axes>"
      ]
     },
     "metadata": {
      "needs_background": "light"
     },
     "output_type": "display_data"
    }
   ],
   "source": [
    "plt.figure(figsize=(12,4))\n",
    "plt.bar(pivot_countries.index,height=pivot_countries[\"ipo\"])\n",
    "plt.xticks(rotation=90)\n",
    "plt.show()"
   ]
  },
  {
   "cell_type": "code",
   "execution_count": 178,
   "metadata": {},
   "outputs": [
    {
     "data": {
      "image/png": "[encoded data removed]",
      "text/plain": [
       "<Figure size 864x288 with 1 Axes>"
      ]
     },
     "metadata": {
      "needs_background": "light"
     },
     "output_type": "display_data"
    }
   ],
   "source": [
    "plt.figure(figsize=(12,4))\n",
    "plt.bar(pivot_countries.index,height=pivot_countries[\"acquisition\"])\n",
    "plt.xticks(rotation=90)\n",
    "plt.show()"
   ]
  },
  {
   "cell_type": "code",
   "execution_count": 179,
   "metadata": {},
   "outputs": [
    {
     "data": {
      "image/png": "[encoded data removed]",
      "text/plain": [
       "<Figure size 864x288 with 1 Axes>"
      ]
     },
     "metadata": {
      "needs_background": "light"
     },
     "output_type": "display_data"
    }
   ],
   "source": [
    "plt.figure(figsize=(12,4))\n",
    "plt.bar(pivot_countries.index,height=pivot_countries[\"no exit\"])\n",
    "plt.xticks(rotation=90)\n",
    "plt.show()"
   ]
  },
  {
   "cell_type": "code",
   "execution_count": null,
   "metadata": {},
   "outputs": [],
   "source": [
    "plt.figure(figsize=(12,4))\n",
    "plt.bar(pivot_countries.index,height=pivot_countries[\"acquisition\"])\n",
    "plt.xticks(rotation=90)\n",
    "plt.show()"
   ]
  },
  {
   "cell_type": "markdown",
   "metadata": {},
   "source": [
    "# State Code"
   ]
  },
  {
   "cell_type": "code",
   "execution_count": 111,
   "metadata": {},
   "outputs": [
    {
     "name": "stdout",
     "output_type": "stream",
     "text": [
      "<class 'pandas.core.frame.DataFrame'>\n",
      "Int64Index: 2286 entries, 0 to 3238\n",
      "Data columns (total 41 columns):\n",
      " #   Column                     Non-Null Count  Dtype         \n",
      "---  ------                     --------------  -----         \n",
      " 0   id                         2286 non-null   object        \n",
      " 1   normalized_name            2286 non-null   object        \n",
      " 2   category_code              2221 non-null   object        \n",
      " 3   founded_at                 1900 non-null   datetime64[ns]\n",
      " 4   description                2286 non-null   object        \n",
      " 5   closed_at                  242 non-null    datetime64[ns]\n",
      " 6   status                     2286 non-null   object        \n",
      " 7   exit                       2286 non-null   object        \n",
      " 8   exit_date                  638 non-null    datetime64[ns]\n",
      " 9   country_code               2286 non-null   object        \n",
      " 10  state_code                 2235 non-null   object        \n",
      " 11  date_series_a              2286 non-null   datetime64[ns]\n",
      " 12  participants_a             2286 non-null   int64         \n",
      " 13  raised_amount_usd_a        2286 non-null   float64       \n",
      " 14  timediff_founded_series_a  1900 non-null   float64       \n",
      " 15  rounds_before_a            2286 non-null   float64       \n",
      " 16  raised_before_a            2230 non-null   float64       \n",
      " 17  participants_before_a      2221 non-null   float64       \n",
      " 18  phd                        1243 non-null   float64       \n",
      " 19  MBA                        1243 non-null   float64       \n",
      " 20  cs                         1243 non-null   float64       \n",
      " 21  graduate                   1243 non-null   float64       \n",
      " 22  undergrad                  1243 non-null   float64       \n",
      " 23  professional               1243 non-null   float64       \n",
      " 24  degree_count               1243 non-null   float64       \n",
      " 25  MBA_bool                   1243 non-null   float64       \n",
      " 26  cs_bool                    1243 non-null   float64       \n",
      " 27  phd_bool                   1243 non-null   float64       \n",
      " 28  founder_count              1243 non-null   float64       \n",
      " 29  top_5                      1243 non-null   float64       \n",
      " 30  top_20                     1243 non-null   float64       \n",
      " 31  top_50                     1243 non-null   float64       \n",
      " 32  top_5_bool                 1243 non-null   float64       \n",
      " 33  top_20_bool                1243 non-null   float64       \n",
      " 34  top_50_bool                1243 non-null   float64       \n",
      " 35  n_female_founders          1216 non-null   float64       \n",
      " 36  female_ratio               1216 non-null   float64       \n",
      " 37  mean_comp_founded_ever     1243 non-null   float64       \n",
      " 38  mean_comp_founded_before   1243 non-null   float64       \n",
      " 39  mean_comp_worked_before    1242 non-null   float64       \n",
      " 40  target                     2286 non-null   int64         \n",
      "dtypes: datetime64[ns](4), float64(27), int64(2), object(8)\n",
      "memory usage: 750.1+ KB\n"
     ]
    }
   ],
   "source": [
    "companies[companies.country_code == \"USA\"].info()"
   ]
  },
  {
   "cell_type": "code",
   "execution_count": 152,
   "metadata": {
    "collapsed": true,
    "jupyter": {
     "outputs_hidden": true,
     "source_hidden": true
    }
   },
   "outputs": [
    {
     "data": {
      "image/png": "[encoded data removed]",
      "text/plain": [
       "<Figure size 864x288 with 1 Axes>"
      ]
     },
     "metadata": {
      "needs_background": "light"
     },
     "output_type": "display_data"
    }
   ],
   "source": [
    "plt.figure(figsize=(12,4))\n",
    "sns.countplot(x=\"state_code\",data = companies.sort_values(by=\"state_code\"))\n",
    "plt.xticks(rotation=90)\n",
    "plt.show()"
   ]
  },
  {
   "cell_type": "code",
   "execution_count": 113,
   "metadata": {
    "collapsed": true,
    "jupyter": {
     "outputs_hidden": true,
     "source_hidden": true
    }
   },
   "outputs": [
    {
     "data": {
      "image/png": "[encoded data removed]",
      "text/plain": [
       "<Figure size 864x288 with 1 Axes>"
      ]
     },
     "metadata": {
      "needs_background": "light"
     },
     "output_type": "display_data"
    }
   ],
   "source": [
    "plt.figure(figsize=(12,4))\n",
    "sns.countplot(x=\"state_code\",data = companies[companies.exit==\"ipo\"].sort_values(by=\"state_code\"))\n",
    "plt.xticks(rotation=90)\n",
    "plt.show()"
   ]
  },
  {
   "cell_type": "code",
   "execution_count": 114,
   "metadata": {
    "collapsed": true,
    "jupyter": {
     "outputs_hidden": true,
     "source_hidden": true
    }
   },
   "outputs": [
    {
     "data": {
      "image/png": "[encoded data removed]",
      "text/plain": [
       "<Figure size 864x288 with 1 Axes>"
      ]
     },
     "metadata": {
      "needs_background": "light"
     },
     "output_type": "display_data"
    }
   ],
   "source": [
    "plt.figure(figsize=(12,4))\n",
    "sns.countplot(x=\"state_code\",data = companies[companies.exit==\"acquisition\"].sort_values(by=\"state_code\"))\n",
    "plt.xticks(rotation=90)\n",
    "plt.show()"
   ]
  },
  {
   "cell_type": "code",
   "execution_count": 118,
   "metadata": {
    "collapsed": true,
    "jupyter": {
     "outputs_hidden": true,
     "source_hidden": true
    }
   },
   "outputs": [
    {
     "data": {
      "image/png": "[encoded data removed]",
      "text/plain": [
       "<Figure size 864x288 with 1 Axes>"
      ]
     },
     "metadata": {
      "needs_background": "light"
     },
     "output_type": "display_data"
    }
   ],
   "source": [
    "plt.figure(figsize=(12,4))\n",
    "sns.countplot(x=\"state_code\",data = companies[companies.exit==\"no exit\"].sort_values(by=\"state_code\"))\n",
    "plt.xticks(rotation=90)\n",
    "plt.show()"
   ]
  },
  {
   "cell_type": "code",
   "execution_count": 112,
   "metadata": {
    "collapsed": true,
    "jupyter": {
     "outputs_hidden": true,
     "source_hidden": true
    }
   },
   "outputs": [
    {
     "data": {
      "image/png": "[encoded data removed]",
      "text/plain": [
       "<Figure size 864x288 with 1 Axes>"
      ]
     },
     "metadata": {
      "needs_background": "light"
     },
     "output_type": "display_data"
    }
   ],
   "source": [
    "plt.figure(figsize=(12,4))\n",
    "sns.countplot(x=\"state_code\",data = companies[companies.status==\"closed\"].sort_values(by=\"state_code\"))\n",
    "plt.xticks(rotation=90)\n",
    "plt.show()"
   ]
  },
  {
   "cell_type": "code",
   "execution_count": 115,
   "metadata": {
    "jupyter": {
     "source_hidden": true
    }
   },
   "outputs": [],
   "source": [
    "# more companies that failed in Texas proportionally"
   ]
  },
  {
   "cell_type": "code",
   "execution_count": 116,
   "metadata": {
    "jupyter": {
     "source_hidden": true
    }
   },
   "outputs": [],
   "source": [
    "# overrepresentation everywhere of CA (MA, NY)"
   ]
  },
  {
   "cell_type": "code",
   "execution_count": 224,
   "metadata": {},
   "outputs": [],
   "source": [
    "pivot_states = pd.pivot_table(companies, values='id', index=[\"state_code\"],\n",
    "                    columns=['exit'], aggfunc= \"count\", margins = True)\n",
    "pivot_states = pivot_states.fillna(0).sort_values(by = \"All\", ascending=False)\n",
    "pivot_states.acquisition = pivot_states.acquisition/pivot_states.All\n",
    "pivot_states.ipo = pivot_states.ipo/pivot_states.All\n",
    "pivot_states[\"no exit\"] = pivot_states[\"no exit\"]/pivot_states.All"
   ]
  },
  {
   "cell_type": "code",
   "execution_count": 225,
   "metadata": {},
   "outputs": [
    {
     "data": {
      "text/html": [
       "<div>\n",
       "<style scoped>\n",
       "    .dataframe tbody tr th:only-of-type {\n",
       "        vertical-align: middle;\n",
       "    }\n",
       "\n",
       "    .dataframe tbody tr th {\n",
       "        vertical-align: top;\n",
       "    }\n",
       "\n",
       "    .dataframe thead th {\n",
       "        text-align: right;\n",
       "    }\n",
       "</style>\n",
       "<table border=\"1\" class=\"dataframe\">\n",
       "  <thead>\n",
       "    <tr style=\"text-align: right;\">\n",
       "      <th>exit</th>\n",
       "      <th>acquisition</th>\n",
       "      <th>ipo</th>\n",
       "      <th>no exit</th>\n",
       "      <th>All</th>\n",
       "    </tr>\n",
       "    <tr>\n",
       "      <th>state_code</th>\n",
       "      <th></th>\n",
       "      <th></th>\n",
       "      <th></th>\n",
       "      <th></th>\n",
       "    </tr>\n",
       "  </thead>\n",
       "  <tbody>\n",
       "    <tr>\n",
       "      <th>All</th>\n",
       "      <td>0.251673</td>\n",
       "      <td>0.027666</td>\n",
       "      <td>0.720660</td>\n",
       "      <td>2241</td>\n",
       "    </tr>\n",
       "    <tr>\n",
       "      <th>CA</th>\n",
       "      <td>0.277436</td>\n",
       "      <td>0.030729</td>\n",
       "      <td>0.691835</td>\n",
       "      <td>1139</td>\n",
       "    </tr>\n",
       "    <tr>\n",
       "      <th>NY</th>\n",
       "      <td>0.247619</td>\n",
       "      <td>0.019048</td>\n",
       "      <td>0.733333</td>\n",
       "      <td>210</td>\n",
       "    </tr>\n",
       "    <tr>\n",
       "      <th>MA</th>\n",
       "      <td>0.267677</td>\n",
       "      <td>0.020202</td>\n",
       "      <td>0.712121</td>\n",
       "      <td>198</td>\n",
       "    </tr>\n",
       "    <tr>\n",
       "      <th>WA</th>\n",
       "      <td>0.307692</td>\n",
       "      <td>0.028846</td>\n",
       "      <td>0.663462</td>\n",
       "      <td>104</td>\n",
       "    </tr>\n",
       "    <tr>\n",
       "      <th>TX</th>\n",
       "      <td>0.231707</td>\n",
       "      <td>0.036585</td>\n",
       "      <td>0.731707</td>\n",
       "      <td>82</td>\n",
       "    </tr>\n",
       "    <tr>\n",
       "      <th>CO</th>\n",
       "      <td>0.215686</td>\n",
       "      <td>0.000000</td>\n",
       "      <td>0.784314</td>\n",
       "      <td>51</td>\n",
       "    </tr>\n",
       "    <tr>\n",
       "      <th>VA</th>\n",
       "      <td>0.204082</td>\n",
       "      <td>0.040816</td>\n",
       "      <td>0.755102</td>\n",
       "      <td>49</td>\n",
       "    </tr>\n",
       "    <tr>\n",
       "      <th>IL</th>\n",
       "      <td>0.230769</td>\n",
       "      <td>0.051282</td>\n",
       "      <td>0.717949</td>\n",
       "      <td>39</td>\n",
       "    </tr>\n",
       "    <tr>\n",
       "      <th>PA</th>\n",
       "      <td>0.114286</td>\n",
       "      <td>0.057143</td>\n",
       "      <td>0.828571</td>\n",
       "      <td>35</td>\n",
       "    </tr>\n",
       "    <tr>\n",
       "      <th>MD</th>\n",
       "      <td>0.193548</td>\n",
       "      <td>0.032258</td>\n",
       "      <td>0.774194</td>\n",
       "      <td>31</td>\n",
       "    </tr>\n",
       "    <tr>\n",
       "      <th>NC</th>\n",
       "      <td>0.185185</td>\n",
       "      <td>0.037037</td>\n",
       "      <td>0.777778</td>\n",
       "      <td>27</td>\n",
       "    </tr>\n",
       "    <tr>\n",
       "      <th>NJ</th>\n",
       "      <td>0.192308</td>\n",
       "      <td>0.000000</td>\n",
       "      <td>0.807692</td>\n",
       "      <td>26</td>\n",
       "    </tr>\n",
       "    <tr>\n",
       "      <th>FL</th>\n",
       "      <td>0.040000</td>\n",
       "      <td>0.000000</td>\n",
       "      <td>0.960000</td>\n",
       "      <td>25</td>\n",
       "    </tr>\n",
       "    <tr>\n",
       "      <th>GA</th>\n",
       "      <td>0.120000</td>\n",
       "      <td>0.000000</td>\n",
       "      <td>0.880000</td>\n",
       "      <td>25</td>\n",
       "    </tr>\n",
       "    <tr>\n",
       "      <th>CT</th>\n",
       "      <td>0.090909</td>\n",
       "      <td>0.045455</td>\n",
       "      <td>0.863636</td>\n",
       "      <td>22</td>\n",
       "    </tr>\n",
       "    <tr>\n",
       "      <th>UT</th>\n",
       "      <td>0.368421</td>\n",
       "      <td>0.052632</td>\n",
       "      <td>0.578947</td>\n",
       "      <td>19</td>\n",
       "    </tr>\n",
       "    <tr>\n",
       "      <th>TN</th>\n",
       "      <td>0.133333</td>\n",
       "      <td>0.000000</td>\n",
       "      <td>0.866667</td>\n",
       "      <td>15</td>\n",
       "    </tr>\n",
       "    <tr>\n",
       "      <th>OR</th>\n",
       "      <td>0.200000</td>\n",
       "      <td>0.000000</td>\n",
       "      <td>0.800000</td>\n",
       "      <td>15</td>\n",
       "    </tr>\n",
       "    <tr>\n",
       "      <th>MN</th>\n",
       "      <td>0.181818</td>\n",
       "      <td>0.000000</td>\n",
       "      <td>0.818182</td>\n",
       "      <td>11</td>\n",
       "    </tr>\n",
       "    <tr>\n",
       "      <th>NV</th>\n",
       "      <td>0.444444</td>\n",
       "      <td>0.000000</td>\n",
       "      <td>0.555556</td>\n",
       "      <td>9</td>\n",
       "    </tr>\n",
       "    <tr>\n",
       "      <th>MO</th>\n",
       "      <td>0.444444</td>\n",
       "      <td>0.000000</td>\n",
       "      <td>0.555556</td>\n",
       "      <td>9</td>\n",
       "    </tr>\n",
       "    <tr>\n",
       "      <th>AZ</th>\n",
       "      <td>0.222222</td>\n",
       "      <td>0.111111</td>\n",
       "      <td>0.666667</td>\n",
       "      <td>9</td>\n",
       "    </tr>\n",
       "    <tr>\n",
       "      <th>NH</th>\n",
       "      <td>0.125000</td>\n",
       "      <td>0.000000</td>\n",
       "      <td>0.875000</td>\n",
       "      <td>8</td>\n",
       "    </tr>\n",
       "    <tr>\n",
       "      <th>OH</th>\n",
       "      <td>0.125000</td>\n",
       "      <td>0.000000</td>\n",
       "      <td>0.875000</td>\n",
       "      <td>8</td>\n",
       "    </tr>\n",
       "    <tr>\n",
       "      <th>ME</th>\n",
       "      <td>0.142857</td>\n",
       "      <td>0.000000</td>\n",
       "      <td>0.857143</td>\n",
       "      <td>7</td>\n",
       "    </tr>\n",
       "    <tr>\n",
       "      <th>WI</th>\n",
       "      <td>0.285714</td>\n",
       "      <td>0.000000</td>\n",
       "      <td>0.714286</td>\n",
       "      <td>7</td>\n",
       "    </tr>\n",
       "    <tr>\n",
       "      <th>IN</th>\n",
       "      <td>0.285714</td>\n",
       "      <td>0.000000</td>\n",
       "      <td>0.714286</td>\n",
       "      <td>7</td>\n",
       "    </tr>\n",
       "    <tr>\n",
       "      <th>DC</th>\n",
       "      <td>0.200000</td>\n",
       "      <td>0.000000</td>\n",
       "      <td>0.800000</td>\n",
       "      <td>5</td>\n",
       "    </tr>\n",
       "    <tr>\n",
       "      <th>DE</th>\n",
       "      <td>0.000000</td>\n",
       "      <td>0.000000</td>\n",
       "      <td>1.000000</td>\n",
       "      <td>5</td>\n",
       "    </tr>\n",
       "    <tr>\n",
       "      <th>ID</th>\n",
       "      <td>0.000000</td>\n",
       "      <td>0.200000</td>\n",
       "      <td>0.800000</td>\n",
       "      <td>5</td>\n",
       "    </tr>\n",
       "    <tr>\n",
       "      <th>MI</th>\n",
       "      <td>0.200000</td>\n",
       "      <td>0.200000</td>\n",
       "      <td>0.600000</td>\n",
       "      <td>5</td>\n",
       "    </tr>\n",
       "    <tr>\n",
       "      <th>NM</th>\n",
       "      <td>0.000000</td>\n",
       "      <td>0.000000</td>\n",
       "      <td>1.000000</td>\n",
       "      <td>4</td>\n",
       "    </tr>\n",
       "    <tr>\n",
       "      <th>KY</th>\n",
       "      <td>0.000000</td>\n",
       "      <td>0.000000</td>\n",
       "      <td>1.000000</td>\n",
       "      <td>4</td>\n",
       "    </tr>\n",
       "    <tr>\n",
       "      <th>KS</th>\n",
       "      <td>0.333333</td>\n",
       "      <td>0.000000</td>\n",
       "      <td>0.666667</td>\n",
       "      <td>3</td>\n",
       "    </tr>\n",
       "    <tr>\n",
       "      <th>HI</th>\n",
       "      <td>0.333333</td>\n",
       "      <td>0.000000</td>\n",
       "      <td>0.666667</td>\n",
       "      <td>3</td>\n",
       "    </tr>\n",
       "    <tr>\n",
       "      <th>LA</th>\n",
       "      <td>0.333333</td>\n",
       "      <td>0.000000</td>\n",
       "      <td>0.666667</td>\n",
       "      <td>3</td>\n",
       "    </tr>\n",
       "    <tr>\n",
       "      <th>MT</th>\n",
       "      <td>0.000000</td>\n",
       "      <td>0.000000</td>\n",
       "      <td>1.000000</td>\n",
       "      <td>3</td>\n",
       "    </tr>\n",
       "    <tr>\n",
       "      <th>NE</th>\n",
       "      <td>0.000000</td>\n",
       "      <td>0.000000</td>\n",
       "      <td>1.000000</td>\n",
       "      <td>2</td>\n",
       "    </tr>\n",
       "    <tr>\n",
       "      <th>RI</th>\n",
       "      <td>0.000000</td>\n",
       "      <td>0.000000</td>\n",
       "      <td>1.000000</td>\n",
       "      <td>2</td>\n",
       "    </tr>\n",
       "    <tr>\n",
       "      <th>WV</th>\n",
       "      <td>0.000000</td>\n",
       "      <td>0.000000</td>\n",
       "      <td>1.000000</td>\n",
       "      <td>2</td>\n",
       "    </tr>\n",
       "    <tr>\n",
       "      <th>AL</th>\n",
       "      <td>0.000000</td>\n",
       "      <td>0.000000</td>\n",
       "      <td>1.000000</td>\n",
       "      <td>2</td>\n",
       "    </tr>\n",
       "    <tr>\n",
       "      <th>VT</th>\n",
       "      <td>0.000000</td>\n",
       "      <td>0.000000</td>\n",
       "      <td>1.000000</td>\n",
       "      <td>2</td>\n",
       "    </tr>\n",
       "    <tr>\n",
       "      <th>AK</th>\n",
       "      <td>0.000000</td>\n",
       "      <td>0.000000</td>\n",
       "      <td>1.000000</td>\n",
       "      <td>1</td>\n",
       "    </tr>\n",
       "    <tr>\n",
       "      <th>SC</th>\n",
       "      <td>0.000000</td>\n",
       "      <td>0.000000</td>\n",
       "      <td>1.000000</td>\n",
       "      <td>1</td>\n",
       "    </tr>\n",
       "    <tr>\n",
       "      <th>ND</th>\n",
       "      <td>0.000000</td>\n",
       "      <td>0.000000</td>\n",
       "      <td>1.000000</td>\n",
       "      <td>1</td>\n",
       "    </tr>\n",
       "    <tr>\n",
       "      <th>MS</th>\n",
       "      <td>0.000000</td>\n",
       "      <td>0.000000</td>\n",
       "      <td>1.000000</td>\n",
       "      <td>1</td>\n",
       "    </tr>\n",
       "  </tbody>\n",
       "</table>\n",
       "</div>"
      ],
      "text/plain": [
       "exit        acquisition       ipo   no exit   All\n",
       "state_code                                       \n",
       "All            0.251673  0.027666  0.720660  2241\n",
       "CA             0.277436  0.030729  0.691835  1139\n",
       "NY             0.247619  0.019048  0.733333   210\n",
       "MA             0.267677  0.020202  0.712121   198\n",
       "WA             0.307692  0.028846  0.663462   104\n",
       "TX             0.231707  0.036585  0.731707    82\n",
       "CO             0.215686  0.000000  0.784314    51\n",
       "VA             0.204082  0.040816  0.755102    49\n",
       "IL             0.230769  0.051282  0.717949    39\n",
       "PA             0.114286  0.057143  0.828571    35\n",
       "MD             0.193548  0.032258  0.774194    31\n",
       "NC             0.185185  0.037037  0.777778    27\n",
       "NJ             0.192308  0.000000  0.807692    26\n",
       "FL             0.040000  0.000000  0.960000    25\n",
       "GA             0.120000  0.000000  0.880000    25\n",
       "CT             0.090909  0.045455  0.863636    22\n",
       "UT             0.368421  0.052632  0.578947    19\n",
       "TN             0.133333  0.000000  0.866667    15\n",
       "OR             0.200000  0.000000  0.800000    15\n",
       "MN             0.181818  0.000000  0.818182    11\n",
       "NV             0.444444  0.000000  0.555556     9\n",
       "MO             0.444444  0.000000  0.555556     9\n",
       "AZ             0.222222  0.111111  0.666667     9\n",
       "NH             0.125000  0.000000  0.875000     8\n",
       "OH             0.125000  0.000000  0.875000     8\n",
       "ME             0.142857  0.000000  0.857143     7\n",
       "WI             0.285714  0.000000  0.714286     7\n",
       "IN             0.285714  0.000000  0.714286     7\n",
       "DC             0.200000  0.000000  0.800000     5\n",
       "DE             0.000000  0.000000  1.000000     5\n",
       "ID             0.000000  0.200000  0.800000     5\n",
       "MI             0.200000  0.200000  0.600000     5\n",
       "NM             0.000000  0.000000  1.000000     4\n",
       "KY             0.000000  0.000000  1.000000     4\n",
       "KS             0.333333  0.000000  0.666667     3\n",
       "HI             0.333333  0.000000  0.666667     3\n",
       "LA             0.333333  0.000000  0.666667     3\n",
       "MT             0.000000  0.000000  1.000000     3\n",
       "NE             0.000000  0.000000  1.000000     2\n",
       "RI             0.000000  0.000000  1.000000     2\n",
       "WV             0.000000  0.000000  1.000000     2\n",
       "AL             0.000000  0.000000  1.000000     2\n",
       "VT             0.000000  0.000000  1.000000     2\n",
       "AK             0.000000  0.000000  1.000000     1\n",
       "SC             0.000000  0.000000  1.000000     1\n",
       "ND             0.000000  0.000000  1.000000     1\n",
       "MS             0.000000  0.000000  1.000000     1"
      ]
     },
     "execution_count": 225,
     "metadata": {},
     "output_type": "execute_result"
    }
   ],
   "source": [
    "pivot_states"
   ]
  },
  {
   "cell_type": "code",
   "execution_count": 226,
   "metadata": {},
   "outputs": [
    {
     "data": {
      "image/png": "[encoded data removed]",
      "text/plain": [
       "<Figure size 864x288 with 1 Axes>"
      ]
     },
     "metadata": {
      "needs_background": "light"
     },
     "output_type": "display_data"
    }
   ],
   "source": [
    "plt.figure(figsize=(12,4))\n",
    "plt.bar(pivot_states.index,height=pivot_states[\"ipo\"])\n",
    "plt.xticks(rotation=90)\n",
    "plt.show()"
   ]
  },
  {
   "cell_type": "code",
   "execution_count": null,
   "metadata": {},
   "outputs": [],
   "source": [
    "# NY & MA less ipo than average\n",
    "# IL, PA more than average "
   ]
  },
  {
   "cell_type": "code",
   "execution_count": 228,
   "metadata": {},
   "outputs": [
    {
     "data": {
      "image/png": "[encoded data removed]",
      "text/plain": [
       "<Figure size 864x288 with 1 Axes>"
      ]
     },
     "metadata": {
      "needs_background": "light"
     },
     "output_type": "display_data"
    }
   ],
   "source": [
    "plt.figure(figsize=(12,4))\n",
    "plt.bar(pivot_states.index,height=pivot_states[\"acquisition\"])\n",
    "plt.xticks(rotation=90)\n",
    "plt.show()"
   ]
  },
  {
   "cell_type": "code",
   "execution_count": null,
   "metadata": {},
   "outputs": [],
   "source": []
  },
  {
   "cell_type": "code",
   "execution_count": 229,
   "metadata": {},
   "outputs": [
    {
     "data": {
      "image/png": "[encoded data removed]",
      "text/plain": [
       "<Figure size 864x288 with 1 Axes>"
      ]
     },
     "metadata": {
      "needs_background": "light"
     },
     "output_type": "display_data"
    }
   ],
   "source": [
    "plt.figure(figsize=(12,4))\n",
    "plt.bar(pivot_states.index,height=pivot_states[\"no exit\"])\n",
    "plt.xticks(rotation=90)\n",
    "plt.show()"
   ]
  },
  {
   "cell_type": "markdown",
   "metadata": {},
   "source": [
    "# Investors (Participants)"
   ]
  },
  {
   "cell_type": "code",
   "execution_count": 151,
   "metadata": {},
   "outputs": [
    {
     "data": {
      "image/png": "[encoded data removed]",
      "text/plain": [
       "<Figure size 864x288 with 1 Axes>"
      ]
     },
     "metadata": {
      "needs_background": "light"
     },
     "output_type": "display_data"
    }
   ],
   "source": [
    "plt.figure(figsize=(12,4))\n",
    "sns.countplot(x=\"participants_a\",data = companies)\n",
    "plt.xticks(rotation=90)\n",
    "plt.show()"
   ]
  },
  {
   "cell_type": "code",
   "execution_count": 154,
   "metadata": {},
   "outputs": [
    {
     "data": {
      "image/png": "[encoded data removed]",
      "text/plain": [
       "<Figure size 864x288 with 1 Axes>"
      ]
     },
     "metadata": {
      "needs_background": "light"
     },
     "output_type": "display_data"
    }
   ],
   "source": [
    "plt.figure(figsize=(12,4))\n",
    "sns.countplot(x=\"participants_a\",data = companies[companies.exit==\"ipo\"])\n",
    "plt.xticks(rotation=90)\n",
    "plt.show()"
   ]
  },
  {
   "cell_type": "code",
   "execution_count": 180,
   "metadata": {},
   "outputs": [
    {
     "data": {
      "image/png": "[encoded data removed]",
      "text/plain": [
       "<Figure size 864x288 with 1 Axes>"
      ]
     },
     "metadata": {
      "needs_background": "light"
     },
     "output_type": "display_data"
    }
   ],
   "source": [
    "plt.figure(figsize=(12,4))\n",
    "sns.countplot(x=\"participants_a\",data = companies[companies.exit==\"no exit\"])\n",
    "plt.xticks(rotation=90)\n",
    "plt.show()"
   ]
  },
  {
   "cell_type": "code",
   "execution_count": null,
   "metadata": {},
   "outputs": [],
   "source": []
  }
 ],
 "metadata": {
  "kernelspec": {
   "display_name": "Python 3",
   "language": "python",
   "name": "python3"
  },
  "language_info": {
   "codemirror_mode": {
    "name": "ipython",
    "version": 3
   },
   "file_extension": ".py",
   "mimetype": "text/x-python",
   "name": "python",
   "nbconvert_exporter": "python",
   "pygments_lexer": "ipython3",
   "version": "3.7.7"
  }
 },
 "nbformat": 4,
 "nbformat_minor": 4
}
